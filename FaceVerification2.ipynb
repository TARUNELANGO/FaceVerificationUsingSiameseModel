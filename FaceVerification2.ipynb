{
  "nbformat": 4,
  "nbformat_minor": 0,
  "metadata": {
    "colab": {
      "provenance": [],
      "gpuType": "T4"
    },
    "kernelspec": {
      "name": "python3",
      "display_name": "Python 3"
    },
    "language_info": {
      "name": "python"
    },
    "accelerator": "GPU"
  },
  "cells": [
    {
      "cell_type": "code",
      "source": [
        "# The following notebook is to be run in Colab.\n",
        "# Colab is used since it provides GPU.\n",
        "# Also it is much quicker to upload large datasets to drive and unzip it using colab when compared to uploading the same in kaggle.\n",
        "# Change your runtime type to GPU preferably GPU T4"
      ],
      "metadata": {
        "id": "U1OSdJSXd2wO"
      },
      "execution_count": null,
      "outputs": []
    },
    {
      "cell_type": "markdown",
      "source": [
        "## 1.1 Import Dependencies"
      ],
      "metadata": {
        "id": "MCP7voaGDLBH"
      }
    },
    {
      "cell_type": "code",
      "source": [
        "# Import standard dependencies\n",
        "import cv2\n",
        "import os\n",
        "import random\n",
        "import numpy as np\n",
        "from matplotlib import pyplot as plt"
      ],
      "metadata": {
        "id": "WkE1K21EC_19"
      },
      "execution_count": null,
      "outputs": []
    },
    {
      "cell_type": "code",
      "source": [
        "# Import tensorflow dependencies - Functional API\n",
        "from tensorflow.keras.models import Model\n",
        "from tensorflow.keras.layers import Layer, Conv2D, Dense, MaxPooling2D, Input, Flatten\n",
        "import tensorflow as tf"
      ],
      "metadata": {
        "id": "V0xaIrQcDD-q"
      },
      "execution_count": null,
      "outputs": []
    },
    {
      "cell_type": "markdown",
      "source": [
        "## 1.2 Upload data"
      ],
      "metadata": {
        "id": "BLufOBhZfIYF"
      }
    },
    {
      "cell_type": "code",
      "source": [
        "# Upload anchor.zip, positive.zip from C:\\Users\\Tarun\\UF3\\data3 and unzip"
      ],
      "metadata": {
        "id": "dfzneJqsfSBX"
      },
      "execution_count": null,
      "outputs": []
    },
    {
      "cell_type": "code",
      "source": [
        "!unzip anchor.zip"
      ],
      "metadata": {
        "colab": {
          "base_uri": "https://localhost:8080/"
        },
        "id": "628dFKxhgfi8",
        "outputId": "69123ede-8f34-4f34-9a11-38a241b05317"
      },
      "execution_count": null,
      "outputs": [
        {
          "output_type": "stream",
          "name": "stdout",
          "text": [
            "Archive:  anchor.zip\n",
            "  inflating: anchor/056185d8-0375-11ee-99ba-d3464babc6c7.jpg  \n",
            "  inflating: anchor/056d9f54-0375-11ee-9e1f-d3464babc6c7.jpg  \n",
            "  inflating: anchor/0572703b-0375-11ee-8c88-d3464babc6c7.jpg  \n",
            "  inflating: anchor/0576c105-0375-11ee-870d-d3464babc6c7.jpg  \n",
            "  inflating: anchor/05805d30-0375-11ee-881d-d3464babc6c7.jpg  \n",
            "  inflating: anchor/0589ed15-0375-11ee-aa8a-d3464babc6c7.jpg  \n",
            "  inflating: anchor/0592b393-0375-11ee-b968-d3464babc6c7.jpg  \n",
            "  inflating: anchor/05a0f969-0375-11ee-a75f-d3464babc6c7.jpg  \n",
            "  inflating: anchor/05af0923-0375-11ee-84e0-d3464babc6c7.jpg  \n",
            "  inflating: anchor/05b3dd7a-0375-11ee-8017-d3464babc6c7.jpg  \n",
            "  inflating: anchor/05c21349-0375-11ee-aa16-d3464babc6c7.jpg  \n",
            "  inflating: anchor/05cf7468-0375-11ee-b5df-d3464babc6c7.jpg  \n",
            "  inflating: anchor/05d4725a-0375-11ee-bb52-d3464babc6c7.jpg  \n",
            "  inflating: anchor/05e1079c-0375-11ee-8df9-d3464babc6c7.jpg  \n",
            "  inflating: anchor/05e5daf4-0375-11ee-8e90-d3464babc6c7.jpg  \n",
            "  inflating: anchor/05ea5ff7-0375-11ee-8acc-d3464babc6c7.jpg  \n",
            "  inflating: anchor/05eede5d-0375-11ee-a195-d3464babc6c7.jpg  \n",
            "  inflating: anchor/05f3a977-0375-11ee-978e-d3464babc6c7.jpg  \n",
            "  inflating: anchor/05f80004-0375-11ee-9506-d3464babc6c7.jpg  \n",
            "  inflating: anchor/05fcae7a-0375-11ee-be10-d3464babc6c7.jpg  \n",
            "  inflating: anchor/060affda-0375-11ee-acca-d3464babc6c7.jpg  \n",
            "  inflating: anchor/06194f0e-0375-11ee-9fc9-d3464babc6c7.jpg  \n",
            "  inflating: anchor/0627a800-0375-11ee-a637-d3464babc6c7.jpg  \n",
            "  inflating: anchor/06358dd8-0375-11ee-9a18-d3464babc6c7.jpg  \n",
            "  inflating: anchor/0638831b-0375-11ee-8f3b-d3464babc6c7.jpg  \n",
            "  inflating: anchor/063f064c-0375-11ee-90b8-d3464babc6c7.jpg  \n",
            "  inflating: anchor/064b26ae-0375-11ee-9f51-d3464babc6c7.jpg  \n",
            "  inflating: anchor/064fb29b-0375-11ee-80da-d3464babc6c7.jpg  \n",
            "  inflating: anchor/066213d2-0375-11ee-a4ed-d3464babc6c7.jpg  \n",
            "  inflating: anchor/06709105-0375-11ee-8648-d3464babc6c7.jpg  \n",
            "  inflating: anchor/067e9b89-0375-11ee-9999-d3464babc6c7.jpg  \n",
            "  inflating: anchor/0686ba2f-0375-11ee-8439-d3464babc6c7.jpg  \n",
            "  inflating: anchor/068b85dd-0375-11ee-86ca-d3464babc6c7.jpg  \n",
            "  inflating: anchor/06903346-0375-11ee-87af-d3464babc6c7.jpg  \n",
            "  inflating: anchor/06952495-0375-11ee-b1f6-d3464babc6c7.jpg  \n",
            "  inflating: anchor/069a17d3-0375-11ee-bb5d-d3464babc6c7.jpg  \n",
            "  inflating: anchor/069ed467-0375-11ee-be26-d3464babc6c7.jpg  \n",
            "  inflating: anchor/06a3b136-0375-11ee-8966-d3464babc6c7.jpg  \n",
            "  inflating: anchor/06a8ddfc-0375-11ee-a614-d3464babc6c7.jpg  \n",
            "  inflating: anchor/06b08e41-0375-11ee-b8df-d3464babc6c7.jpg  \n",
            "  inflating: anchor/06bea578-0375-11ee-ab16-d3464babc6c7.jpg  \n",
            "  inflating: anchor/06cd0d43-0375-11ee-8c0a-d3464babc6c7.jpg  \n",
            "  inflating: anchor/06db5e0d-0375-11ee-b434-d3464babc6c7.jpg  \n",
            "  inflating: anchor/06e900a2-0375-11ee-86f0-d3464babc6c7.jpg  \n",
            "  inflating: anchor/06edcf57-0375-11ee-ac64-d3464babc6c7.jpg  \n",
            "  inflating: anchor/06fbff10-0375-11ee-bf41-d3464babc6c7.jpg  \n",
            "  inflating: anchor/0711717c-0375-11ee-a972-d3464babc6c7.jpg  \n",
            "  inflating: anchor/07160b87-0375-11ee-a8cd-d3464babc6c7.jpg  \n",
            "  inflating: anchor/071a9cd1-0375-11ee-8ff7-d3464babc6c7.jpg  \n",
            "  inflating: anchor/071fadaa-0375-11ee-8b51-d3464babc6c7.jpg  \n",
            "  inflating: anchor/072d5c89-0375-11ee-a493-d3464babc6c7.jpg  \n",
            "  inflating: anchor/073b6a33-0375-11ee-a097-d3464babc6c7.jpg  \n",
            "  inflating: anchor/074976b7-0375-11ee-9814-d3464babc6c7.jpg  \n",
            "  inflating: anchor/0757b89a-0375-11ee-9bff-d3464babc6c7.jpg  \n",
            "  inflating: anchor/0765a312-0375-11ee-b260-d3464babc6c7.jpg  \n",
            "  inflating: anchor/0768a861-0375-11ee-a0ae-d3464babc6c7.jpg  \n",
            "  inflating: anchor/076efee2-0375-11ee-aad7-d3464babc6c7.jpg  \n",
            "  inflating: anchor/077b088c-0375-11ee-9e5d-d3464babc6c7.jpg  \n",
            "  inflating: anchor/07848e64-0375-11ee-aaa2-d3464babc6c7.jpg  \n",
            "  inflating: anchor/07896cd6-0375-11ee-9428-d3464babc6c7.jpg  \n",
            "  inflating: anchor/07975dea-0375-11ee-b25d-d3464babc6c7.jpg  \n",
            "  inflating: anchor/079bc52c-0375-11ee-bc20-d3464babc6c7.jpg  \n",
            "  inflating: anchor/07aa05f6-0375-11ee-aa51-d3464babc6c7.jpg  \n",
            "  inflating: anchor/07ae87f9-0375-11ee-956b-d3464babc6c7.jpg  \n",
            "  inflating: anchor/07bcc284-0375-11ee-82a8-d3464babc6c7.jpg  \n",
            "  inflating: anchor/07cab29f-0375-11ee-9fae-d3464babc6c7.jpg  \n",
            "  inflating: anchor/07d8e19e-0375-11ee-aa32-d3464babc6c7.jpg  \n",
            "  inflating: anchor/07dd89f1-0375-11ee-bacf-d3464babc6c7.jpg  \n",
            "  inflating: anchor/07ea054c-0375-11ee-ad67-d3464babc6c7.jpg  \n",
            "  inflating: anchor/07ee6186-0375-11ee-93d9-d3464babc6c7.jpg  \n",
            "  inflating: anchor/07fcfe0a-0375-11ee-bf63-d3464babc6c7.jpg  \n",
            "  inflating: anchor/080b1731-0375-11ee-911e-d3464babc6c7.jpg  \n",
            "  inflating: anchor/081921a7-0375-11ee-9321-d3464babc6c7.jpg  \n",
            "  inflating: anchor/08276c11-0375-11ee-917b-d3464babc6c7.jpg  \n",
            "  inflating: anchor/0833a42f-0375-11ee-861f-d3464babc6c7.jpg  \n",
            "  inflating: anchor/08384114-0375-11ee-897a-d3464babc6c7.jpg  \n",
            "  inflating: anchor/083cfe7b-0375-11ee-8a8f-d3464babc6c7.jpg  \n",
            "  inflating: anchor/084ad32a-0375-11ee-8842-d3464babc6c7.jpg  \n",
            "  inflating: anchor/0858f771-0375-11ee-ba35-d3464babc6c7.jpg  \n",
            "  inflating: anchor/08678b88-0375-11ee-aa70-d3464babc6c7.jpg  \n",
            "  inflating: anchor/0875919e-0375-11ee-a69c-d3464babc6c7.jpg  \n",
            "  inflating: anchor/0883a7a2-0375-11ee-8b26-d3464babc6c7.jpg  \n",
            "  inflating: anchor/088fdc33-0375-11ee-bbbb-d3464babc6c7.jpg  \n",
            "  inflating: anchor/08995f49-0375-11ee-9886-d3464babc6c7.jpg  \n",
            "  inflating: anchor/08a74c4d-0375-11ee-990c-d3464babc6c7.jpg  \n",
            "  inflating: anchor/08b5b77b-0375-11ee-9803-d3464babc6c7.jpg  \n",
            "  inflating: anchor/08c45061-0375-11ee-8d3d-d3464babc6c7.jpg  \n",
            "  inflating: anchor/08d045bc-0375-11ee-ab30-d3464babc6c7.jpg  \n",
            "  inflating: anchor/08d6d46d-0375-11ee-b138-d3464babc6c7.jpg  \n",
            "  inflating: anchor/08e4e2fd-0375-11ee-863a-d3464babc6c7.jpg  \n",
            "  inflating: anchor/08f591cb-0375-11ee-b378-d3464babc6c7.jpg  \n",
            "  inflating: anchor/08fa7516-0375-11ee-8137-d3464babc6c7.jpg  \n",
            "  inflating: anchor/08fe9c78-0375-11ee-9fbb-d3464babc6c7.jpg  \n",
            "  inflating: anchor/0903cc66-0375-11ee-82d4-d3464babc6c7.jpg  \n",
            "  inflating: anchor/0911b068-0375-11ee-a87e-d3464babc6c7.jpg  \n",
            "  inflating: anchor/09205332-0375-11ee-b1f3-d3464babc6c7.jpg  \n",
            "  inflating: anchor/092490c0-0375-11ee-b10d-d3464babc6c7.jpg  \n",
            "  inflating: anchor/09293b07-0375-11ee-b199-d3464babc6c7.jpg  \n",
            "  inflating: anchor/09374579-0375-11ee-acee-d3464babc6c7.jpg  \n",
            "  inflating: anchor/0945a595-0375-11ee-b8ab-d3464babc6c7.jpg  \n",
            "  inflating: anchor/094a3c75-0375-11ee-b6a5-d3464babc6c7.jpg  \n",
            "  inflating: anchor/095fdbb0-0375-11ee-a768-d3464babc6c7.jpg  \n",
            "  inflating: anchor/09647d89-0375-11ee-a197-d3464babc6c7.jpg  \n",
            "  inflating: anchor/097285f1-0375-11ee-8d92-d3464babc6c7.jpg  \n",
            "  inflating: anchor/09807f11-0375-11ee-81ba-d3464babc6c7.jpg  \n",
            "  inflating: anchor/098ead0d-0375-11ee-a885-d3464babc6c7.jpg  \n",
            "  inflating: anchor/099b549b-0375-11ee-a1d6-d3464babc6c7.jpg  \n",
            "  inflating: anchor/09a651d4-0375-11ee-8799-d3464babc6c7.jpg  \n",
            "  inflating: anchor/09b41fa5-0375-11ee-9a62-d3464babc6c7.jpg  \n",
            "  inflating: anchor/09c341ec-0375-11ee-b2e0-d3464babc6c7.jpg  \n",
            "  inflating: anchor/09ce9dd9-0375-11ee-8756-d3464babc6c7.jpg  \n",
            "  inflating: anchor/09d31de8-0375-11ee-af49-d3464babc6c7.jpg  \n",
            "  inflating: anchor/09d7af79-0375-11ee-9dae-d3464babc6c7.jpg  \n",
            "  inflating: anchor/09e5ebda-0375-11ee-93e7-d3464babc6c7.jpg  \n",
            "  inflating: anchor/09ea730d-0375-11ee-8316-d3464babc6c7.jpg  \n",
            "  inflating: anchor/09f8b3a2-0375-11ee-bf19-d3464babc6c7.jpg  \n",
            "  inflating: anchor/09fd3467-0375-11ee-8e3a-d3464babc6c7.jpg  \n",
            "  inflating: anchor/0a0b8fae-0375-11ee-adca-d3464babc6c7.jpg  \n",
            "  inflating: anchor/0a19cd86-0375-11ee-97bb-d3464babc6c7.jpg  \n",
            "  inflating: anchor/0a27e58f-0375-11ee-b91d-d3464babc6c7.jpg  \n",
            "  inflating: anchor/0a2aa5d2-0375-11ee-b939-d3464babc6c7.jpg  \n",
            "  inflating: anchor/0a3d4c37-0375-11ee-b6b6-d3464babc6c7.jpg  \n",
            "  inflating: anchor/0a4b79f1-0375-11ee-ace3-d3464babc6c7.jpg  \n",
            "  inflating: anchor/0a5995ce-0375-11ee-a69f-d3464babc6c7.jpg  \n",
            "  inflating: anchor/0a6805f1-0375-11ee-b4f5-d3464babc6c7.jpg  \n",
            "  inflating: anchor/0a6d4c0d-0375-11ee-a8f4-d3464babc6c7.jpg  \n",
            "  inflating: anchor/0a7ff4ba-0375-11ee-8a7d-d3464babc6c7.jpg  \n",
            "  inflating: anchor/0a9087ad-0375-11ee-b521-d3464babc6c7.jpg  \n",
            "  inflating: anchor/0a94dcab-0375-11ee-ad2f-d3464babc6c7.jpg  \n",
            "  inflating: anchor/0aa31aff-0375-11ee-862d-d3464babc6c7.jpg  \n",
            "  inflating: anchor/0aa8429e-0375-11ee-a0c4-d3464babc6c7.jpg  \n",
            "  inflating: anchor/0ab63ea8-0375-11ee-a74a-d3464babc6c7.jpg  \n",
            "  inflating: anchor/0ac2a906-0375-11ee-8c5b-d3464babc6c7.jpg  \n",
            "  inflating: anchor/0ac73ae2-0375-11ee-94fa-d3464babc6c7.jpg  \n",
            "  inflating: anchor/0acc0a2e-0375-11ee-b22d-d3464babc6c7.jpg  \n",
            "  inflating: anchor/0adeb2ae-0375-11ee-b055-d3464babc6c7.jpg  \n",
            "  inflating: anchor/0ae336c5-0375-11ee-bd34-d3464babc6c7.jpg  \n",
            "  inflating: anchor/0ae80590-0375-11ee-81bd-d3464babc6c7.jpg  \n",
            "  inflating: anchor/0af64024-0375-11ee-bfb6-d3464babc6c7.jpg  \n",
            "  inflating: anchor/0b048b3b-0375-11ee-82a2-d3464babc6c7.jpg  \n",
            "  inflating: anchor/0b093666-0375-11ee-9207-d3464babc6c7.jpg  \n",
            "  inflating: anchor/0b0df3ea-0375-11ee-adca-d3464babc6c7.jpg  \n",
            "  inflating: anchor/0b111691-0375-11ee-9150-d3464babc6c7.jpg  \n",
            "  inflating: anchor/0b156b98-0375-11ee-8be7-d3464babc6c7.jpg  \n",
            "  inflating: anchor/0b1a4dd1-0375-11ee-af79-d3464babc6c7.jpg  \n",
            "  inflating: anchor/0b284193-0375-11ee-b22c-d3464babc6c7.jpg  \n",
            "  inflating: anchor/0b2d5938-0375-11ee-afc1-d3464babc6c7.jpg  \n",
            "  inflating: anchor/0b3b2f28-0375-11ee-b0d3-d3464babc6c7.jpg  \n",
            "  inflating: anchor/0b4967e2-0375-11ee-83f1-d3464babc6c7.jpg  \n",
            "  inflating: anchor/0b57ed51-0375-11ee-b903-d3464babc6c7.jpg  \n",
            "  inflating: anchor/0b662138-0375-11ee-8cc4-d3464babc6c7.jpg  \n",
            "  inflating: anchor/0b71a28b-0375-11ee-9ebc-d3464babc6c7.jpg  \n",
            "  inflating: anchor/0b7654e8-0375-11ee-b4e0-d3464babc6c7.jpg  \n",
            "  inflating: anchor/0b893edf-0375-11ee-abd6-d3464babc6c7.jpg  \n",
            "  inflating: anchor/0b97726f-0375-11ee-bfd3-d3464babc6c7.jpg  \n",
            "  inflating: anchor/0ba5a89a-0375-11ee-adb4-d3464babc6c7.jpg  \n",
            "  inflating: anchor/0bb3aea7-0375-11ee-8a64-d3464babc6c7.jpg  \n",
            "  inflating: anchor/0bc1e9f8-0375-11ee-9396-d3464babc6c7.jpg  \n",
            "  inflating: anchor/0bd00ca0-0375-11ee-b021-d3464babc6c7.jpg  \n",
            "  inflating: anchor/0be5f9ac-0375-11ee-8f3e-d3464babc6c7.jpg  \n",
            "  inflating: anchor/0bf41cd0-0375-11ee-a5b2-d3464babc6c7.jpg  \n",
            "  inflating: anchor/0bf88a62-0375-11ee-b5c5-d3464babc6c7.jpg  \n",
            "  inflating: anchor/0bfd9d5e-0375-11ee-be4e-d3464babc6c7.jpg  \n",
            "  inflating: anchor/0c0b6b8c-0375-11ee-8558-d3464babc6c7.jpg  \n",
            "  inflating: anchor/0c199d64-0375-11ee-b48e-d3464babc6c7.jpg  \n",
            "  inflating: anchor/0c1d2037-0375-11ee-91e0-d3464babc6c7.jpg  \n",
            "  inflating: anchor/0c213328-0375-11ee-a22b-d3464babc6c7.jpg  \n",
            "  inflating: anchor/0c27bb00-0375-11ee-a9ba-d3464babc6c7.jpg  \n",
            "  inflating: anchor/0c3377ab-0375-11ee-9e01-d3464babc6c7.jpg  \n",
            "  inflating: anchor/0c38abee-0375-11ee-873d-d3464babc6c7.jpg  \n",
            "  inflating: anchor/0c3d04bb-0375-11ee-bc76-d3464babc6c7.jpg  \n",
            "  inflating: anchor/0c4b7c08-0375-11ee-8348-d3464babc6c7.jpg  \n",
            "  inflating: anchor/0c595e3a-0375-11ee-9b25-d3464babc6c7.jpg  \n",
            "  inflating: anchor/0c5e55b6-0375-11ee-bcd7-d3464babc6c7.jpg  \n",
            "  inflating: anchor/0c711763-0375-11ee-b42b-d3464babc6c7.jpg  \n",
            "  inflating: anchor/0c7d3e13-0375-11ee-8801-d3464babc6c7.jpg  \n",
            "  inflating: anchor/0c821008-0375-11ee-bcbf-d3464babc6c7.jpg  \n",
            "  inflating: anchor/0c8fb748-0375-11ee-a58f-d3464babc6c7.jpg  \n",
            "  inflating: anchor/0ca6f6d6-0375-11ee-ae1c-d3464babc6c7.jpg  \n",
            "  inflating: anchor/0cb632ec-0375-11ee-be55-d3464babc6c7.jpg  \n",
            "  inflating: anchor/0ccc9eef-0375-11ee-a395-d3464babc6c7.jpg  \n",
            "  inflating: anchor/0cda1365-0375-11ee-9117-d3464babc6c7.jpg  \n",
            "  inflating: anchor/0ce96f25-0375-11ee-8aea-d3464babc6c7.jpg  \n",
            "  inflating: anchor/0cf15b24-0375-11ee-9254-d3464babc6c7.jpg  \n",
            "  inflating: anchor/0cf6370b-0375-11ee-9496-d3464babc6c7.jpg  \n",
            "  inflating: anchor/0cfef88d-0375-11ee-b720-d3464babc6c7.jpg  \n",
            "  inflating: anchor/0d03dc01-0375-11ee-b06a-d3464babc6c7.jpg  \n",
            "  inflating: anchor/0d1371e8-0375-11ee-b472-d3464babc6c7.jpg  \n",
            "  inflating: anchor/0d1aef56-0375-11ee-9ab1-d3464babc6c7.jpg  \n",
            "  inflating: anchor/0d29f00c-0375-11ee-949e-d3464babc6c7.jpg  \n",
            "  inflating: anchor/0d3182ba-0375-11ee-9fec-d3464babc6c7.jpg  \n",
            "  inflating: anchor/0d40c433-0375-11ee-801d-d3464babc6c7.jpg  \n",
            "  inflating: anchor/0d486b96-0375-11ee-b1f9-d3464babc6c7.jpg  \n",
            "  inflating: anchor/0d57fd3f-0375-11ee-acf3-d3464babc6c7.jpg  \n",
            "  inflating: anchor/0d5cb598-0375-11ee-b1a2-d3464babc6c7.jpg  \n",
            "  inflating: anchor/0d646c49-0375-11ee-bf38-d3464babc6c7.jpg  \n",
            "  inflating: anchor/0d71944e-0375-11ee-8c9e-d3464babc6c7.jpg  \n",
            "  inflating: anchor/0d8115ca-0375-11ee-be00-d3464babc6c7.jpg  \n",
            "  inflating: anchor/0d892089-0375-11ee-984f-d3464babc6c7.jpg  \n",
            "  inflating: anchor/0d984b74-0375-11ee-86df-d3464babc6c7.jpg  \n",
            "  inflating: anchor/0d9b4b7b-0375-11ee-abb3-d3464babc6c7.jpg  \n",
            "  inflating: anchor/0daa9abf-0375-11ee-be8f-d3464babc6c7.jpg  \n",
            "  inflating: anchor/0db21d0a-0375-11ee-85bc-d3464babc6c7.jpg  \n",
            "  inflating: anchor/0dc25ad8-0375-11ee-ae3c-d3464babc6c7.jpg  \n",
            "  inflating: anchor/0dc4f994-0375-11ee-8a9a-d3464babc6c7.jpg  \n",
            "  inflating: anchor/0dca66c9-0375-11ee-84cd-d3464babc6c7.jpg  \n",
            "  inflating: anchor/0dcff332-0375-11ee-8c1f-d3464babc6c7.jpg  \n",
            "  inflating: anchor/1081348d-0375-11ee-94be-d3464babc6c7.jpg  \n",
            "  inflating: anchor/108d9267-0375-11ee-bc76-d3464babc6c7.jpg  \n",
            "  inflating: anchor/109359a7-0375-11ee-a837-d3464babc6c7.jpg  \n",
            "  inflating: anchor/10a105c6-0375-11ee-b9c8-d3464babc6c7.jpg  \n",
            "  inflating: anchor/10a8cef1-0375-11ee-94c2-d3464babc6c7.jpg  \n",
            "  inflating: anchor/10ae6bdb-0375-11ee-8819-d3464babc6c7.jpg  \n",
            "  inflating: anchor/10b3afbc-0375-11ee-91a2-d3464babc6c7.jpg  \n",
            "  inflating: anchor/10c0d286-0375-11ee-97f2-d3464babc6c7.jpg  \n",
            "  inflating: anchor/10c6227e-0375-11ee-9b27-d3464babc6c7.jpg  \n",
            "  inflating: anchor/10ce2b81-0375-11ee-829c-d3464babc6c7.jpg  \n",
            "  inflating: anchor/10dafa98-0375-11ee-af57-d3464babc6c7.jpg  \n",
            "  inflating: anchor/10ea4ee4-0375-11ee-a66b-d3464babc6c7.jpg  \n",
            "  inflating: anchor/1106a4c4-0375-11ee-955c-d3464babc6c7.jpg  \n",
            "  inflating: anchor/110e48be-0375-11ee-9a57-d3464babc6c7.jpg  \n",
            "  inflating: anchor/111be556-0375-11ee-ad7d-d3464babc6c7.jpg  \n",
            "  inflating: anchor/112afddd-0375-11ee-bc77-d3464babc6c7.jpg  \n",
            "  inflating: anchor/1132e05d-0375-11ee-a53c-d3464babc6c7.jpg  \n",
            "  inflating: anchor/1137a101-0375-11ee-9c34-d3464babc6c7.jpg  \n",
            "  inflating: anchor/1144fe8f-0375-11ee-8707-d3464babc6c7.jpg  \n",
            "  inflating: anchor/11547c5d-0375-11ee-aa87-d3464babc6c7.jpg  \n",
            "  inflating: anchor/115c5e44-0375-11ee-9672-d3464babc6c7.jpg  \n",
            "  inflating: anchor/1178e064-0375-11ee-9ce1-d3464babc6c7.jpg  \n",
            "  inflating: anchor/117e43e6-0375-11ee-939c-d3464babc6c7.jpg  \n",
            "  inflating: anchor/118b30f7-0375-11ee-9f33-d3464babc6c7.jpg  \n",
            "  inflating: anchor/1197dffb-0375-11ee-85c7-d3464babc6c7.jpg  \n",
            "  inflating: anchor/11a70d53-0375-11ee-b62f-d3464babc6c7.jpg  \n",
            "  inflating: anchor/11aa1369-0375-11ee-9519-d3464babc6c7.jpg  \n",
            "  inflating: anchor/11afa2f9-0375-11ee-8861-d3464babc6c7.jpg  \n",
            "  inflating: anchor/11b552e5-0375-11ee-a202-d3464babc6c7.jpg  \n",
            "  inflating: anchor/11bce21c-0375-11ee-a6a7-d3464babc6c7.jpg  \n",
            "  inflating: anchor/11c23c31-0375-11ee-ae64-d3464babc6c7.jpg  \n",
            "  inflating: anchor/11d9ae35-0375-11ee-9da3-d3464babc6c7.jpg  \n",
            "  inflating: anchor/11f07609-0375-11ee-ab86-d3464babc6c7.jpg  \n",
            "  inflating: anchor/1207774b-0375-11ee-90bb-d3464babc6c7.jpg  \n",
            "  inflating: anchor/121f0257-0375-11ee-b5ba-d3464babc6c7.jpg  \n",
            "  inflating: anchor/1224513d-0375-11ee-a850-d3464babc6c7.jpg  \n",
            "  inflating: anchor/122c017a-0375-11ee-9f41-d3464babc6c7.jpg  \n",
            "  inflating: anchor/123b8470-0375-11ee-9cac-d3464babc6c7.jpg  \n",
            "  inflating: anchor/124332ed-0375-11ee-830f-d3464babc6c7.jpg  \n",
            "  inflating: anchor/124900e9-0375-11ee-8b06-d3464babc6c7.jpg  \n",
            "  inflating: anchor/1255af2e-0375-11ee-86f5-d3464babc6c7.jpg  \n",
            "  inflating: anchor/125b26ab-0375-11ee-a42e-d3464babc6c7.jpg  \n",
            "  inflating: anchor/125e2a0d-0375-11ee-8267-d3464babc6c7.jpg  \n",
            "  inflating: anchor/126503d1-0375-11ee-b43f-d3464babc6c7.jpg  \n",
            "  inflating: anchor/1276a138-0375-11ee-8ba5-d3464babc6c7.jpg  \n",
            "  inflating: anchor/1283ef30-0375-11ee-9810-d3464babc6c7.jpg  \n",
            "  inflating: anchor/1299e3b7-0375-11ee-aa52-d3464babc6c7.jpg  \n",
            "  inflating: anchor/129f7861-0375-11ee-8b33-d3464babc6c7.jpg  \n",
            "  inflating: anchor/12ac9bcf-0375-11ee-97e0-d3464babc6c7.jpg  \n",
            "  inflating: anchor/12bf1be8-0375-11ee-a1ff-d3464babc6c7.jpg  \n",
            "  inflating: anchor/12ceafa0-0375-11ee-b939-d3464babc6c7.jpg  \n",
            "  inflating: anchor/12d62ad2-0375-11ee-bf78-d3464babc6c7.jpg  \n",
            "  inflating: anchor/12e52032-0375-11ee-85c7-d3464babc6c7.jpg  \n",
            "  inflating: anchor/12ed117c-0375-11ee-a771-d3464babc6c7.jpg  \n",
            "  inflating: anchor/1301673c-0375-11ee-addb-d3464babc6c7.jpg  \n",
            "  inflating: anchor/130972c0-0375-11ee-8d57-d3464babc6c7.jpg  \n",
            "  inflating: anchor/13169064-0375-11ee-974c-d3464babc6c7.jpg  \n",
            "  inflating: anchor/13265aac-0375-11ee-9c0b-d3464babc6c7.jpg  \n",
            "  inflating: anchor/13331670-0375-11ee-af49-d3464babc6c7.jpg  \n",
            "  inflating: anchor/133895be-0375-11ee-9f10-d3464babc6c7.jpg  \n",
            "  inflating: anchor/134af39b-0375-11ee-9949-d3464babc6c7.jpg  \n",
            "  inflating: anchor/135289f2-0375-11ee-b650-d3464babc6c7.jpg  \n",
            "  inflating: anchor/135d10bf-0375-11ee-b510-d3464babc6c7.jpg  \n",
            "  inflating: anchor/136ae454-0375-11ee-b9b6-d3464babc6c7.jpg  \n",
            "  inflating: anchor/1372a325-0375-11ee-b90c-d3464babc6c7.jpg  \n",
            "  inflating: anchor/1382fb8c-0375-11ee-8489-d3464babc6c7.jpg  \n",
            "  inflating: anchor/138500fc-0375-11ee-a441-d3464babc6c7.jpg  \n",
            "  inflating: anchor/1394c06c-0375-11ee-8da7-d3464babc6c7.jpg  \n",
            "  inflating: anchor/13a73c55-0375-11ee-ab9c-d3464babc6c7.jpg  \n",
            "  inflating: anchor/13b98249-0375-11ee-932a-d3464babc6c7.jpg  \n",
            "  inflating: anchor/13c6f74e-0375-11ee-8f61-d3464babc6c7.jpg  \n",
            "  inflating: anchor/13dde808-0375-11ee-9f87-d3464babc6c7.jpg  \n",
            "  inflating: anchor/13f47448-0375-11ee-a98b-d3464babc6c7.jpg  \n",
            "  inflating: anchor/14013dfd-0375-11ee-a589-d3464babc6c7.jpg  \n",
            "  inflating: anchor/14103e82-0375-11ee-b81a-d3464babc6c7.jpg  \n",
            "  inflating: anchor/14285311-0375-11ee-b2b0-d3464babc6c7.jpg  \n",
            "  inflating: anchor/142fa86a-0375-11ee-ab22-d3464babc6c7.jpg  \n",
            "  inflating: anchor/143544bb-0375-11ee-8598-d3464babc6c7.jpg  \n",
            "  inflating: anchor/143d7fd6-0375-11ee-be3b-d3464babc6c7.jpg  \n",
            "  inflating: anchor/1443454c-0375-11ee-98a1-d3464babc6c7.jpg  \n",
            "  inflating: anchor/144b3616-0375-11ee-93e1-d3464babc6c7.jpg  \n",
            "  inflating: anchor/145ac94e-0375-11ee-ad9d-d3464babc6c7.jpg  \n",
            "  inflating: anchor/145dcb57-0375-11ee-b00c-d3464babc6c7.jpg  \n",
            "  inflating: anchor/146344a2-0375-11ee-8107-d3464babc6c7.jpg  \n",
            "  inflating: anchor/147b4178-0375-11ee-a4d1-d3464babc6c7.jpg  \n",
            "  inflating: anchor/14828b08-0375-11ee-adf9-d3464babc6c7.jpg  \n",
            "  inflating: anchor/1491d02f-0375-11ee-a534-d3464babc6c7.jpg  \n",
            "  inflating: anchor/14ae4438-0375-11ee-991a-d3464babc6c7.jpg  \n",
            "  inflating: anchor/14b623db-0375-11ee-bec0-d3464babc6c7.jpg  \n",
            "  inflating: anchor/87e19b8f-0374-11ee-a1f2-d3464babc6c7.jpg  \n",
            "  inflating: anchor/87ee7d2b-0374-11ee-a421-d3464babc6c7.jpg  \n",
            "  inflating: anchor/88032773-0374-11ee-bdf4-d3464babc6c7.jpg  \n",
            "  inflating: anchor/880b253c-0374-11ee-b94b-d3464babc6c7.jpg  \n",
            "  inflating: anchor/8817d54c-0374-11ee-9dab-d3464babc6c7.jpg  \n",
            "  inflating: anchor/8827966c-0374-11ee-a750-d3464babc6c7.jpg  \n",
            "  inflating: anchor/882a63f6-0374-11ee-bcce-d3464babc6c7.jpg  \n",
            "  inflating: anchor/8839be24-0374-11ee-9e39-d3464babc6c7.jpg  \n",
            "  inflating: anchor/883c9b58-0374-11ee-9966-d3464babc6c7.jpg  \n",
            "  inflating: anchor/884f405b-0374-11ee-b801-d3464babc6c7.jpg  \n",
            "  inflating: anchor/8854ca4c-0374-11ee-86f2-d3464babc6c7.jpg  \n",
            "  inflating: anchor/8859e44e-0374-11ee-8295-d3464babc6c7.jpg  \n",
            "  inflating: anchor/885f4e2b-0374-11ee-b840-d3464babc6c7.jpg  \n",
            "  inflating: anchor/886707da-0374-11ee-b886-d3464babc6c7.jpg  \n",
            "  inflating: anchor/88741fb7-0374-11ee-954d-d3464babc6c7.jpg  \n",
            "  inflating: anchor/88833aa7-0374-11ee-b704-d3464babc6c7.jpg  \n",
            "  inflating: anchor/8890f218-0374-11ee-94ba-d3464babc6c7.jpg  \n",
            "  inflating: anchor/88a35abd-0374-11ee-8c27-d3464babc6c7.jpg  \n",
            "  inflating: anchor/88b2497c-0374-11ee-8e19-d3464babc6c7.jpg  \n",
            "  inflating: anchor/88b9ee25-0374-11ee-a8dc-d3464babc6c7.jpg  \n",
            "  inflating: anchor/88bfa092-0374-11ee-997a-d3464babc6c7.jpg  \n",
            "  inflating: anchor/88ccef9b-0374-11ee-bf6d-d3464babc6c7.jpg  \n",
            "  inflating: anchor/88d9dbee-0374-11ee-a0f6-d3464babc6c7.jpg  \n",
            "  inflating: anchor/88de5a18-0374-11ee-89b1-d3464babc6c7.jpg  \n",
            "  inflating: anchor/88ed84b7-0374-11ee-8ee2-d3464babc6c7.jpg  \n",
            "  inflating: anchor/88f06cef-0374-11ee-86f9-d3464babc6c7.jpg  \n",
            "  inflating: anchor/88f661e8-0374-11ee-9ee3-d3464babc6c7.jpg  \n",
            "  inflating: anchor/8902eff8-0374-11ee-84be-d3464babc6c7.jpg  \n",
            "  inflating: anchor/89123564-0374-11ee-ab9d-d3464babc6c7.jpg  \n",
            "  inflating: anchor/891a819b-0374-11ee-84f6-d3464babc6c7.jpg  \n",
            "  inflating: anchor/8929e544-0374-11ee-b8a0-d3464babc6c7.jpg  \n",
            "  inflating: anchor/8936bd4b-0374-11ee-8e51-d3464babc6c7.jpg  \n",
            "  inflating: anchor/893c168a-0374-11ee-82b6-d3464babc6c7.jpg  \n",
            "  inflating: anchor/8943c69e-0374-11ee-8cec-d3464babc6c7.jpg  \n",
            "  inflating: anchor/89494d37-0374-11ee-8290-d3464babc6c7.jpg  \n",
            "  inflating: anchor/896055ef-0374-11ee-8a7c-d3464babc6c7.jpg  \n",
            "  inflating: anchor/896d0c66-0374-11ee-bf67-d3464babc6c7.jpg  \n",
            "  inflating: anchor/897c4072-0374-11ee-8396-d3464babc6c7.jpg  \n",
            "  inflating: anchor/8983db49-0374-11ee-8a5f-d3464babc6c7.jpg  \n",
            "  inflating: anchor/89980ae6-0374-11ee-b22d-d3464babc6c7.jpg  \n",
            "  inflating: anchor/899fb230-0374-11ee-87b9-d3464babc6c7.jpg  \n",
            "  inflating: anchor/89af8871-0374-11ee-9820-d3464babc6c7.jpg  \n",
            "  inflating: anchor/89bffce7-0374-11ee-9afb-d3464babc6c7.jpg  \n",
            "  inflating: anchor/89c5818b-0374-11ee-8014-d3464babc6c7.jpg  \n",
            "  inflating: anchor/89d4785a-0374-11ee-af8a-d3464babc6c7.jpg  \n",
            "  inflating: anchor/89e22392-0374-11ee-88a9-d3464babc6c7.jpg  \n",
            "  inflating: anchor/89e4da46-0374-11ee-a4dc-d3464babc6c7.jpg  \n",
            "  inflating: anchor/89ea20a6-0374-11ee-adff-d3464babc6c7.jpg  \n",
            "  inflating: anchor/89ef8396-0374-11ee-81b3-d3464babc6c7.jpg  \n",
            "  inflating: anchor/89f851b7-0374-11ee-b52e-d3464babc6c7.jpg  \n",
            "  inflating: anchor/8a05045a-0374-11ee-9ebf-d3464babc6c7.jpg  \n",
            "  inflating: anchor/8a2135ec-0374-11ee-8eee-d3464babc6c7.jpg  \n",
            "  inflating: anchor/8a30f1dc-0374-11ee-b571-d3464babc6c7.jpg  \n",
            "  inflating: anchor/8a3d9f42-0374-11ee-87bf-d3464babc6c7.jpg  \n",
            "  inflating: anchor/8a49fb88-0374-11ee-9a88-d3464babc6c7.jpg  \n",
            "  inflating: anchor/8a5e28b8-0374-11ee-8f1d-d3464babc6c7.jpg  \n",
            "  inflating: anchor/8a6bff1c-0374-11ee-9390-d3464babc6c7.jpg  \n",
            "  inflating: anchor/8a7093e1-0374-11ee-9253-d3464babc6c7.jpg  \n",
            "  inflating: anchor/8a7e888c-0374-11ee-bf16-d3464babc6c7.jpg  \n",
            "  inflating: anchor/8a864caf-0374-11ee-8ff9-d3464babc6c7.jpg  \n",
            "  inflating: anchor/8aa1f3c5-0374-11ee-917c-d3464babc6c7.jpg  \n",
            "  inflating: anchor/8ab1cac0-0374-11ee-a2f2-d3464babc6c7.jpg  \n",
            "  inflating: anchor/8ab9646f-0374-11ee-9aea-d3464babc6c7.jpg  \n",
            "  inflating: anchor/8abf27cc-0374-11ee-8686-d3464babc6c7.jpg  \n",
            "  inflating: anchor/8ad68bb8-0374-11ee-85d8-d3464babc6c7.jpg  \n",
            "  inflating: anchor/8ad99589-0374-11ee-aa2a-d3464babc6c7.jpg  \n",
            "  inflating: anchor/8aebbae5-0374-11ee-9a6a-d3464babc6c7.jpg  \n",
            "  inflating: anchor/8afafab3-0374-11ee-935f-d3464babc6c7.jpg  \n",
            "  inflating: anchor/8afe2b0a-0374-11ee-855f-d3464babc6c7.jpg  \n",
            "  inflating: anchor/8b02e028-0374-11ee-9bc1-d3464babc6c7.jpg  \n",
            "  inflating: anchor/8b19f73b-0374-11ee-ab3f-d3464babc6c7.jpg  \n",
            "  inflating: anchor/8b2a0df0-0374-11ee-be99-d3464babc6c7.jpg  \n",
            "  inflating: anchor/8b3159c7-0374-11ee-8c1d-d3464babc6c7.jpg  \n",
            "  inflating: anchor/8b4ec57a-0374-11ee-9330-d3464babc6c7.jpg  \n",
            "  inflating: anchor/8b5c5827-0374-11ee-b40e-d3464babc6c7.jpg  \n",
            "  inflating: anchor/8b5f2af7-0374-11ee-beb5-d3464babc6c7.jpg  \n",
            "  inflating: anchor/8b6e3e46-0374-11ee-b34c-d3464babc6c7.jpg  \n",
            "  inflating: anchor/8b71c317-0374-11ee-9e2f-d3464babc6c7.jpg  \n",
            "  inflating: anchor/8b8139e9-0374-11ee-8d02-d3464babc6c7.jpg  \n",
            "  inflating: anchor/8b841ef9-0374-11ee-bfc2-d3464babc6c7.jpg  \n",
            "  inflating: anchor/923f6419-0374-11ee-93c2-d3464babc6c7.jpg  \n",
            "  inflating: anchor/92b6d5dd-0374-11ee-bea0-d3464babc6c7.jpg  \n",
            "  inflating: anchor/92c629b2-0374-11ee-8b99-d3464babc6c7.jpg  \n",
            "  inflating: anchor/ccd54f10-0374-11ee-89c1-d3464babc6c7.jpg  \n",
            "  inflating: anchor/cd262dbf-0374-11ee-a0e0-d3464babc6c7.jpg  \n",
            "  inflating: anchor/cd2b441f-0374-11ee-84d7-d3464babc6c7.jpg  \n",
            "  inflating: anchor/cd304446-0374-11ee-9396-d3464babc6c7.jpg  \n",
            "  inflating: anchor/cd38e8b2-0374-11ee-b287-d3464babc6c7.jpg  \n",
            "  inflating: anchor/cd481eb1-0374-11ee-b612-d3464babc6c7.jpg  \n",
            "  inflating: anchor/cd4b4b2a-0374-11ee-af8e-d3464babc6c7.jpg  \n",
            "  inflating: anchor/cf188ce4-0374-11ee-968f-d3464babc6c7.jpg  \n",
            "  inflating: anchor/d116d507-0374-11ee-a2e2-d3464babc6c7.jpg  \n",
            "  inflating: anchor/d56881f3-0374-11ee-9cd3-d3464babc6c7.jpg  \n",
            "  inflating: anchor/d578188b-0374-11ee-951c-d3464babc6c7.jpg  \n",
            "  inflating: anchor/d5853c92-0374-11ee-9ea2-d3464babc6c7.jpg  \n",
            "  inflating: anchor/d5983ea4-0374-11ee-bfe7-d3464babc6c7.jpg  \n",
            "  inflating: anchor/d59cc2a5-0374-11ee-8b49-d3464babc6c7.jpg  \n",
            "  inflating: anchor/d59fca1c-0374-11ee-9ff6-d3464babc6c7.jpg  \n",
            "  inflating: anchor/d5af3d28-0374-11ee-a5cf-d3464babc6c7.jpg  \n",
            "  inflating: anchor/d5bc6ede-0374-11ee-8e8b-d3464babc6c7.jpg  \n",
            "  inflating: anchor/d5c4b872-0374-11ee-879e-d3464babc6c7.jpg  \n",
            "  inflating: anchor/d5d40590-0374-11ee-a0c6-d3464babc6c7.jpg  \n",
            "  inflating: anchor/d5e17fa7-0374-11ee-877c-d3464babc6c7.jpg  \n",
            "  inflating: anchor/d5e6bcc6-0374-11ee-910c-d3464babc6c7.jpg  \n",
            "  inflating: anchor/d5eea4d0-0374-11ee-858b-d3464babc6c7.jpg  \n",
            "  inflating: anchor/d5fba820-0374-11ee-a26b-d3464babc6c7.jpg  \n",
            "  inflating: anchor/d60b250f-0374-11ee-9806-d3464babc6c7.jpg  \n",
            "  inflating: anchor/d612b398-0374-11ee-9a30-d3464babc6c7.jpg  \n",
            "  inflating: anchor/d6225685-0374-11ee-a7b6-d3464babc6c7.jpg  \n",
            "  inflating: anchor/d630009e-0374-11ee-a690-d3464babc6c7.jpg  \n",
            "  inflating: anchor/d646961f-0374-11ee-94be-d3464babc6c7.jpg  \n",
            "  inflating: anchor/d653593e-0374-11ee-8f4c-d3464babc6c7.jpg  \n",
            "  inflating: anchor/d6582f5f-0374-11ee-b469-d3464babc6c7.jpg  \n",
            "  inflating: anchor/d65e0572-0374-11ee-a85f-d3464babc6c7.jpg  \n",
            "  inflating: anchor/d665e331-0374-11ee-98d0-d3464babc6c7.jpg  \n",
            "  inflating: anchor/d6759fa5-0374-11ee-857f-d3464babc6c7.jpg  \n",
            "  inflating: anchor/d67d807c-0374-11ee-86ce-d3464babc6c7.jpg  \n",
            "  inflating: anchor/d68291cb-0374-11ee-a814-d3464babc6c7.jpg  \n",
            "  inflating: anchor/d69ce5ad-0374-11ee-af3a-d3464babc6c7.jpg  \n",
            "  inflating: anchor/d6ac90e5-0374-11ee-8566-d3464babc6c7.jpg  \n",
            "  inflating: anchor/d6bf220d-0374-11ee-ac51-d3464babc6c7.jpg  \n",
            "  inflating: anchor/d6cca725-0374-11ee-a342-d3464babc6c7.jpg  \n",
            "  inflating: anchor/d6df17af-0374-11ee-94dd-d3464babc6c7.jpg  \n",
            "  inflating: anchor/d6e6bc94-0374-11ee-9a55-d3464babc6c7.jpg  \n",
            "  inflating: anchor/d6f61d72-0374-11ee-9673-d3464babc6c7.jpg  \n",
            "  inflating: anchor/d6f8fe95-0374-11ee-ab61-d3464babc6c7.jpg  \n",
            "  inflating: anchor/d6fee8bf-0374-11ee-b332-d3464babc6c7.jpg  \n",
            "  inflating: anchor/d7050656-0374-11ee-a9c9-d3464babc6c7.jpg  \n",
            "  inflating: anchor/d70c505d-0374-11ee-a254-d3464babc6c7.jpg  \n",
            "  inflating: anchor/d711b638-0374-11ee-ada7-d3464babc6c7.jpg  \n",
            "  inflating: anchor/d719e4f7-0374-11ee-88c5-d3464babc6c7.jpg  \n",
            "  inflating: anchor/d71f2679-0374-11ee-9e6f-d3464babc6c7.jpg  \n",
            "  inflating: anchor/d72c2637-0374-11ee-a528-d3464babc6c7.jpg  \n",
            "  inflating: anchor/d730baa4-0374-11ee-bb0e-d3464babc6c7.jpg  \n",
            "  inflating: anchor/d735a60a-0374-11ee-ad38-d3464babc6c7.jpg  \n",
            "  inflating: anchor/d73a73dc-0374-11ee-a1b8-d3464babc6c7.jpg  \n",
            "  inflating: anchor/d7509518-0374-11ee-a9ac-d3464babc6c7.jpg  \n",
            "  inflating: anchor/d7601168-0374-11ee-afd1-d3464babc6c7.jpg  \n",
            "  inflating: anchor/d76e699c-0374-11ee-9e6a-d3464babc6c7.jpg  \n"
          ]
        }
      ]
    },
    {
      "cell_type": "code",
      "source": [
        "!unzip positive.zip"
      ],
      "metadata": {
        "colab": {
          "base_uri": "https://localhost:8080/"
        },
        "id": "QkTLIVBVgi1B",
        "outputId": "bf7f7b7d-f197-4e93-dc18-51e125ee5a7c"
      },
      "execution_count": null,
      "outputs": [
        {
          "output_type": "stream",
          "name": "stdout",
          "text": [
            "Archive:  positive.zip\n",
            "  inflating: positive/8130b337-0375-11ee-bf69-d3464babc6c7.jpg  \n",
            "  inflating: positive/81e23830-0375-11ee-92be-d3464babc6c7.jpg  \n",
            "  inflating: positive/82327c58-0375-11ee-ac6c-d3464babc6c7.jpg  \n",
            "  inflating: positive/8247ccd8-0375-11ee-9cff-d3464babc6c7.jpg  \n",
            "  inflating: positive/825b020c-0375-11ee-a6c1-d3464babc6c7.jpg  \n",
            "  inflating: positive/8268e92f-0375-11ee-be6c-d3464babc6c7.jpg  \n",
            "  inflating: positive/8276f741-0375-11ee-9429-d3464babc6c7.jpg  \n",
            "  inflating: positive/8295a1c8-0375-11ee-b4b1-d3464babc6c7.jpg  \n",
            "  inflating: positive/82a41054-0375-11ee-a5e3-d3464babc6c7.jpg  \n",
            "  inflating: positive/82b29070-0375-11ee-9b11-d3464babc6c7.jpg  \n",
            "  inflating: positive/82c576c1-0375-11ee-b6f7-d3464babc6c7.jpg  \n",
            "  inflating: positive/82ceccaf-0375-11ee-8737-d3464babc6c7.jpg  \n",
            "  inflating: positive/82d85ca0-0375-11ee-821c-d3464babc6c7.jpg  \n",
            "  inflating: positive/82e8df66-0375-11ee-9038-d3464babc6c7.jpg  \n",
            "  inflating: positive/82fbb860-0375-11ee-9169-d3464babc6c7.jpg  \n",
            "  inflating: positive/8309ecdd-0375-11ee-b326-d3464babc6c7.jpg  \n",
            "  inflating: positive/831827eb-0375-11ee-a5d3-d3464babc6c7.jpg  \n",
            "  inflating: positive/83265c14-0375-11ee-9a9c-d3464babc6c7.jpg  \n",
            "  inflating: positive/83400dcb-0375-11ee-90ce-d3464babc6c7.jpg  \n",
            "  inflating: positive/83536c70-0375-11ee-8051-d3464babc6c7.jpg  \n",
            "  inflating: positive/8366919a-0375-11ee-b713-d3464babc6c7.jpg  \n",
            "  inflating: positive/8380a0b1-0375-11ee-9ba6-d3464babc6c7.jpg  \n",
            "  inflating: positive/838e7f45-0375-11ee-887e-d3464babc6c7.jpg  \n",
            "  inflating: positive/839cf344-0375-11ee-b1bc-d3464babc6c7.jpg  \n",
            "  inflating: positive/83ab28b8-0375-11ee-800b-d3464babc6c7.jpg  \n",
            "  inflating: positive/83b91c9c-0375-11ee-bd68-d3464babc6c7.jpg  \n",
            "  inflating: positive/83c70272-0375-11ee-aca6-d3464babc6c7.jpg  \n",
            "  inflating: positive/83d573b5-0375-11ee-bcfb-d3464babc6c7.jpg  \n",
            "  inflating: positive/83e35a05-0375-11ee-bcc1-d3464babc6c7.jpg  \n",
            "  inflating: positive/83ef7e57-0375-11ee-9f7b-d3464babc6c7.jpg  \n",
            "  inflating: positive/83fd7582-0375-11ee-8b49-d3464babc6c7.jpg  \n",
            "  inflating: positive/840b82b5-0375-11ee-943f-d3464babc6c7.jpg  \n",
            "  inflating: positive/8419a805-0375-11ee-8105-d3464babc6c7.jpg  \n",
            "  inflating: positive/8427c600-0375-11ee-b61c-d3464babc6c7.jpg  \n",
            "  inflating: positive/84362405-0375-11ee-bcc9-d3464babc6c7.jpg  \n",
            "  inflating: positive/84442851-0375-11ee-b5d7-d3464babc6c7.jpg  \n",
            "  inflating: positive/84547b7f-0375-11ee-a75a-d3464babc6c7.jpg  \n",
            "  inflating: positive/846754ac-0375-11ee-8321-d3464babc6c7.jpg  \n",
            "  inflating: positive/847a5125-0375-11ee-a798-d3464babc6c7.jpg  \n",
            "  inflating: positive/848d3911-0375-11ee-886e-d3464babc6c7.jpg  \n",
            "  inflating: positive/84abf314-0375-11ee-bdaa-d3464babc6c7.jpg  \n",
            "  inflating: positive/84ba7ed9-0375-11ee-8dd6-d3464babc6c7.jpg  \n",
            "  inflating: positive/84c87364-0375-11ee-a161-d3464babc6c7.jpg  \n",
            "  inflating: positive/84d69eb1-0375-11ee-a924-d3464babc6c7.jpg  \n",
            "  inflating: positive/84e47a18-0375-11ee-87c0-d3464babc6c7.jpg  \n",
            "  inflating: positive/84f290c3-0375-11ee-98d1-d3464babc6c7.jpg  \n",
            "  inflating: positive/8500b89e-0375-11ee-80df-d3464babc6c7.jpg  \n",
            "  inflating: positive/850cb68c-0375-11ee-a6e6-d3464babc6c7.jpg  \n",
            "  inflating: positive/851ae386-0375-11ee-a213-d3464babc6c7.jpg  \n",
            "  inflating: positive/85292505-0375-11ee-b61b-d3464babc6c7.jpg  \n",
            "  inflating: positive/8537c561-0375-11ee-a3f5-d3464babc6c7.jpg  \n",
            "  inflating: positive/8545df56-0375-11ee-861f-d3464babc6c7.jpg  \n",
            "  inflating: positive/8551b982-0375-11ee-863a-d3464babc6c7.jpg  \n",
            "  inflating: positive/85602b84-0375-11ee-bf4d-d3464babc6c7.jpg  \n",
            "  inflating: positive/856e5d73-0375-11ee-992e-d3464babc6c7.jpg  \n",
            "  inflating: positive/857c7b2a-0375-11ee-a902-d3464babc6c7.jpg  \n",
            "  inflating: positive/858ac02f-0375-11ee-8646-d3464babc6c7.jpg  \n",
            "  inflating: positive/8596cf84-0375-11ee-a72d-d3464babc6c7.jpg  \n",
            "  inflating: positive/85a50a01-0375-11ee-8367-d3464babc6c7.jpg  \n",
            "  inflating: positive/85b34cc1-0375-11ee-bfd4-d3464babc6c7.jpg  \n",
            "  inflating: positive/85c14271-0375-11ee-b4f1-d3464babc6c7.jpg  \n",
            "  inflating: positive/85cf976c-0375-11ee-a363-d3464babc6c7.jpg  \n",
            "  inflating: positive/85ddd205-0375-11ee-bbee-d3464babc6c7.jpg  \n",
            "  inflating: positive/85e9d5f6-0375-11ee-bf45-d3464babc6c7.jpg  \n",
            "  inflating: positive/85f80fd1-0375-11ee-85e6-d3464babc6c7.jpg  \n",
            "  inflating: positive/86063386-0375-11ee-aa34-d3464babc6c7.jpg  \n",
            "  inflating: positive/86144cac-0375-11ee-bbbd-d3464babc6c7.jpg  \n",
            "  inflating: positive/86224c6d-0375-11ee-9678-d3464babc6c7.jpg  \n",
            "  inflating: positive/8630b198-0375-11ee-bde9-d3464babc6c7.jpg  \n",
            "  inflating: positive/86584924-0375-11ee-a05a-d3464babc6c7.jpg  \n",
            "  inflating: positive/866654ea-0375-11ee-bc4d-d3464babc6c7.jpg  \n",
            "  inflating: positive/8674ab16-0375-11ee-9afa-d3464babc6c7.jpg  \n",
            "  inflating: positive/8687b90a-0375-11ee-b4c8-d3464babc6c7.jpg  \n",
            "  inflating: positive/869593f0-0375-11ee-aca7-d3464babc6c7.jpg  \n",
            "  inflating: positive/86a3f52e-0375-11ee-bdd0-d3464babc6c7.jpg  \n",
            "  inflating: positive/86b507d3-0375-11ee-a2e2-d3464babc6c7.jpg  \n",
            "  inflating: positive/86c2ee6f-0375-11ee-9842-d3464babc6c7.jpg  \n",
            "  inflating: positive/86d178c1-0375-11ee-ace4-d3464babc6c7.jpg  \n",
            "  inflating: positive/86df7253-0375-11ee-a49d-d3464babc6c7.jpg  \n",
            "  inflating: positive/86e8d0f0-0375-11ee-a47d-d3464babc6c7.jpg  \n",
            "  inflating: positive/86f752b8-0375-11ee-9e19-d3464babc6c7.jpg  \n",
            "  inflating: positive/870c35e3-0375-11ee-83eb-d3464babc6c7.jpg  \n",
            "  inflating: positive/871a268d-0375-11ee-911a-d3464babc6c7.jpg  \n",
            "  inflating: positive/87286130-0375-11ee-bf38-d3464babc6c7.jpg  \n",
            "  inflating: positive/873b1b14-0375-11ee-b5f4-d3464babc6c7.jpg  \n",
            "  inflating: positive/87611e68-0375-11ee-9ffe-d3464babc6c7.jpg  \n",
            "  inflating: positive/87760f5e-0375-11ee-b5f4-d3464babc6c7.jpg  \n",
            "  inflating: positive/8784698b-0375-11ee-a582-d3464babc6c7.jpg  \n",
            "  inflating: positive/87925b7f-0375-11ee-8f5b-d3464babc6c7.jpg  \n",
            "  inflating: positive/87a9bab4-0375-11ee-bd91-d3464babc6c7.jpg  \n",
            "  inflating: positive/87b7baec-0375-11ee-9287-d3464babc6c7.jpg  \n",
            "  inflating: positive/87caa52c-0375-11ee-b40b-d3464babc6c7.jpg  \n",
            "  inflating: positive/87e4e6f0-0375-11ee-ae0c-d3464babc6c7.jpg  \n",
            "  inflating: positive/87f258ef-0375-11ee-9840-d3464babc6c7.jpg  \n",
            "  inflating: positive/88052eb4-0375-11ee-b7f7-d3464babc6c7.jpg  \n",
            "  inflating: positive/8820fdec-0375-11ee-b6e1-d3464babc6c7.jpg  \n",
            "  inflating: positive/8833fcae-0375-11ee-b9a6-d3464babc6c7.jpg  \n",
            "  inflating: positive/88423ba1-0375-11ee-a485-d3464babc6c7.jpg  \n",
            "  inflating: positive/88530868-0375-11ee-80ef-d3464babc6c7.jpg  \n",
            "  inflating: positive/88615280-0375-11ee-b4c7-d3464babc6c7.jpg  \n",
            "  inflating: positive/886f460a-0375-11ee-801c-d3464babc6c7.jpg  \n",
            "  inflating: positive/887d7560-0375-11ee-9c55-d3464babc6c7.jpg  \n",
            "  inflating: positive/888b6ca1-0375-11ee-86f1-d3464babc6c7.jpg  \n",
            "  inflating: positive/8899d292-0375-11ee-9aa3-d3464babc6c7.jpg  \n",
            "  inflating: positive/88a78175-0375-11ee-9ac7-d3464babc6c7.jpg  \n",
            "  inflating: positive/88b0e159-0375-11ee-8fb3-d3464babc6c7.jpg  \n",
            "  inflating: positive/88c20a7a-0375-11ee-b06a-d3464babc6c7.jpg  \n",
            "  inflating: positive/88d4b42e-0375-11ee-b1be-d3464babc6c7.jpg  \n",
            "  inflating: positive/88e2ef90-0375-11ee-aa7d-d3464babc6c7.jpg  \n",
            "  inflating: positive/88f14290-0375-11ee-8061-d3464babc6c7.jpg  \n",
            "  inflating: positive/88fee0b6-0375-11ee-be83-d3464babc6c7.jpg  \n",
            "  inflating: positive/890d4312-0375-11ee-bbc1-d3464babc6c7.jpg  \n",
            "  inflating: positive/891b2517-0375-11ee-b9b5-d3464babc6c7.jpg  \n",
            "  inflating: positive/893e2801-0375-11ee-917f-d3464babc6c7.jpg  \n",
            "  inflating: positive/894cb389-0375-11ee-bd66-d3464babc6c7.jpg  \n",
            "  inflating: positive/895f5352-0375-11ee-a14a-d3464babc6c7.jpg  \n",
            "  inflating: positive/896dd18d-0375-11ee-a136-d3464babc6c7.jpg  \n",
            "  inflating: positive/897e0c45-0375-11ee-be20-d3464babc6c7.jpg  \n",
            "  inflating: positive/8982ec67-0375-11ee-ac1b-d3464babc6c7.jpg  \n",
            "  inflating: positive/8991965f-0375-11ee-a865-d3464babc6c7.jpg  \n",
            "  inflating: positive/899f83bf-0375-11ee-89f8-d3464babc6c7.jpg  \n",
            "  inflating: positive/89b26e42-0375-11ee-9f85-d3464babc6c7.jpg  \n",
            "  inflating: positive/89ccaef7-0375-11ee-952a-d3464babc6c7.jpg  \n",
            "  inflating: positive/89db7e6d-0375-11ee-9d74-d3464babc6c7.jpg  \n",
            "  inflating: positive/89ee0194-0375-11ee-88be-d3464babc6c7.jpg  \n",
            "  inflating: positive/8a00ca43-0375-11ee-a356-d3464babc6c7.jpg  \n",
            "  inflating: positive/8a1839dd-0375-11ee-a089-d3464babc6c7.jpg  \n",
            "  inflating: positive/8a23f2f9-0375-11ee-9c04-d3464babc6c7.jpg  \n",
            "  inflating: positive/8a32792d-0375-11ee-a1f4-d3464babc6c7.jpg  \n",
            "  inflating: positive/8a406d09-0375-11ee-bc13-d3464babc6c7.jpg  \n",
            "  inflating: positive/8a52e2c9-0375-11ee-906c-d3464babc6c7.jpg  \n",
            "  inflating: positive/8a60fa5e-0375-11ee-84ed-d3464babc6c7.jpg  \n",
            "  inflating: positive/8a6f5d99-0375-11ee-8a8e-d3464babc6c7.jpg  \n",
            "  inflating: positive/8a8dec51-0375-11ee-b73b-d3464babc6c7.jpg  \n",
            "  inflating: positive/8aa0e2d7-0375-11ee-97c4-d3464babc6c7.jpg  \n",
            "  inflating: positive/8abccc4d-0375-11ee-a020-d3464babc6c7.jpg  \n",
            "  inflating: positive/8acb344a-0375-11ee-a124-d3464babc6c7.jpg  \n",
            "  inflating: positive/8ad9b94c-0375-11ee-9c99-d3464babc6c7.jpg  \n",
            "  inflating: positive/8ae537f2-0375-11ee-aa79-d3464babc6c7.jpg  \n",
            "  inflating: positive/8af3ff2a-0375-11ee-a928-d3464babc6c7.jpg  \n",
            "  inflating: positive/8b13e502-0375-11ee-9e4d-d3464babc6c7.jpg  \n",
            "  inflating: positive/8b236d8a-0375-11ee-b41a-d3464babc6c7.jpg  \n",
            "  inflating: positive/8b2b71ef-0375-11ee-bf75-d3464babc6c7.jpg  \n",
            "  inflating: positive/8b42b933-0375-11ee-9166-d3464babc6c7.jpg  \n",
            "  inflating: positive/8b5026b7-0375-11ee-9590-d3464babc6c7.jpg  \n",
            "  inflating: positive/8b62e8f4-0375-11ee-9981-d3464babc6c7.jpg  \n",
            "  inflating: positive/8b7a690a-0375-11ee-9435-d3464babc6c7.jpg  \n",
            "  inflating: positive/8b87a62d-0375-11ee-8d6f-d3464babc6c7.jpg  \n",
            "  inflating: positive/8b9ef62f-0375-11ee-8144-d3464babc6c7.jpg  \n",
            "  inflating: positive/8ba68e65-0375-11ee-aa9f-d3464babc6c7.jpg  \n",
            "  inflating: positive/8bc8b810-0375-11ee-b0c1-d3464babc6c7.jpg  \n",
            "  inflating: positive/8bd5dabe-0375-11ee-a880-d3464babc6c7.jpg  \n",
            "  inflating: positive/8be2dabb-0375-11ee-ba01-d3464babc6c7.jpg  \n",
            "  inflating: positive/8bf1edf2-0375-11ee-a7fd-d3464babc6c7.jpg  \n",
            "  inflating: positive/8bff5110-0375-11ee-bb08-d3464babc6c7.jpg  \n",
            "  inflating: positive/8c1608b2-0375-11ee-8405-d3464babc6c7.jpg  \n",
            "  inflating: positive/8c324ffc-0375-11ee-a9ab-d3464babc6c7.jpg  \n",
            "  inflating: positive/8c697921-0375-11ee-8e74-d3464babc6c7.jpg  \n",
            "  inflating: positive/8c711764-0375-11ee-81d0-d3464babc6c7.jpg  \n",
            "  inflating: positive/8c809db3-0375-11ee-b50b-d3464babc6c7.jpg  \n",
            "  inflating: positive/8c9c3b6e-0375-11ee-9c99-d3464babc6c7.jpg  \n",
            "  inflating: positive/8cae10b8-0375-11ee-aef0-d3464babc6c7.jpg  \n",
            "  inflating: positive/8cbb780c-0375-11ee-8b3a-d3464babc6c7.jpg  \n",
            "  inflating: positive/8cdb8768-0375-11ee-b305-d3464babc6c7.jpg  \n",
            "  inflating: positive/8ce9090f-0375-11ee-a04e-d3464babc6c7.jpg  \n",
            "  inflating: positive/8d054ebf-0375-11ee-9dde-d3464babc6c7.jpg  \n",
            "  inflating: positive/8d14a4cf-0375-11ee-a76c-d3464babc6c7.jpg  \n",
            "  inflating: positive/8d1c24a1-0375-11ee-ab58-d3464babc6c7.jpg  \n",
            "  inflating: positive/8d394e0c-0375-11ee-88c7-d3464babc6c7.jpg  \n",
            "  inflating: positive/8d40b1d7-0375-11ee-addc-d3464babc6c7.jpg  \n",
            "  inflating: positive/8d4fc324-0375-11ee-ad3c-d3464babc6c7.jpg  \n",
            "  inflating: positive/8d5c96ea-0375-11ee-a863-d3464babc6c7.jpg  \n",
            "  inflating: positive/8d69e140-0375-11ee-a25e-d3464babc6c7.jpg  \n",
            "  inflating: positive/8d798944-0375-11ee-b4a5-d3464babc6c7.jpg  \n",
            "  inflating: positive/8d862935-0375-11ee-83bc-d3464babc6c7.jpg  \n",
            "  inflating: positive/8daac5b0-0375-11ee-b95a-d3464babc6c7.jpg  \n",
            "  inflating: positive/8dbd59d6-0375-11ee-b1e9-d3464babc6c7.jpg  \n",
            "  inflating: positive/8dcf78d3-0375-11ee-99cc-d3464babc6c7.jpg  \n",
            "  inflating: positive/8ddda464-0375-11ee-884f-d3464babc6c7.jpg  \n",
            "  inflating: positive/8df4c509-0375-11ee-9215-d3464babc6c7.jpg  \n",
            "  inflating: positive/8e0be8e4-0375-11ee-94a4-d3464babc6c7.jpg  \n",
            "  inflating: positive/8e1958e1-0375-11ee-a07d-d3464babc6c7.jpg  \n",
            "  inflating: positive/8e28a9b9-0375-11ee-b816-d3464babc6c7.jpg  \n",
            "  inflating: positive/8e3aab9b-0375-11ee-ab51-d3464babc6c7.jpg  \n",
            "  inflating: positive/8e4cbcde-0375-11ee-a6d9-d3464babc6c7.jpg  \n",
            "  inflating: positive/8e6392d5-0375-11ee-a2a3-d3464babc6c7.jpg  \n",
            "  inflating: positive/8e6bca11-0375-11ee-9367-d3464babc6c7.jpg  \n",
            "  inflating: positive/8e7b5c0a-0375-11ee-adfd-d3464babc6c7.jpg  \n",
            "  inflating: positive/8e8858b5-0375-11ee-a4a5-d3464babc6c7.jpg  \n",
            "  inflating: positive/8e959901-0375-11ee-9e84-d3464babc6c7.jpg  \n",
            "  inflating: positive/8ea54146-0375-11ee-90af-d3464babc6c7.jpg  \n",
            "  inflating: positive/8eacba87-0375-11ee-bdd9-d3464babc6c7.jpg  \n",
            "  inflating: positive/8ebbfd4e-0375-11ee-8525-d3464babc6c7.jpg  \n",
            "  inflating: positive/8ec3c6b7-0375-11ee-88f4-d3464babc6c7.jpg  \n",
            "  inflating: positive/8ed63553-0375-11ee-954c-d3464babc6c7.jpg  \n",
            "  inflating: positive/8ee5ca29-0375-11ee-a5d3-d3464babc6c7.jpg  \n",
            "  inflating: positive/8eed3d60-0375-11ee-a6b1-d3464babc6c7.jpg  \n",
            "  inflating: positive/8f05d245-0375-11ee-ac0c-d3464babc6c7.jpg  \n",
            "  inflating: positive/8f182ec8-0375-11ee-aca0-d3464babc6c7.jpg  \n",
            "  inflating: positive/8f24da2d-0375-11ee-9b49-d3464babc6c7.jpg  \n",
            "  inflating: positive/8f34221d-0375-11ee-9870-d3464babc6c7.jpg  \n",
            "  inflating: positive/8f3bf2ec-0375-11ee-aa6a-d3464babc6c7.jpg  \n",
            "  inflating: positive/8f489fa5-0375-11ee-9bcc-d3464babc6c7.jpg  \n",
            "  inflating: positive/8f57fccf-0375-11ee-82cd-d3464babc6c7.jpg  \n",
            "  inflating: positive/8f5fbb69-0375-11ee-b0c7-d3464babc6c7.jpg  \n",
            "  inflating: positive/8f6f3c1a-0375-11ee-8555-d3464babc6c7.jpg  \n",
            "  inflating: positive/8f81b1a7-0375-11ee-8dfb-d3464babc6c7.jpg  \n",
            "  inflating: positive/8f8ef140-0375-11ee-9755-d3464babc6c7.jpg  \n",
            "  inflating: positive/8fa13a4d-0375-11ee-9f2b-d3464babc6c7.jpg  \n",
            "  inflating: positive/8fc2364a-0375-11ee-a6fe-d3464babc6c7.jpg  \n",
            "  inflating: positive/8fd4689a-0375-11ee-b75e-d3464babc6c7.jpg  \n",
            "  inflating: positive/8fdc12d9-0375-11ee-ae9d-d3464babc6c7.jpg  \n",
            "  inflating: positive/8feb9056-0375-11ee-9ac6-d3464babc6c7.jpg  \n",
            "  inflating: positive/901dc8db-0375-11ee-bb98-d3464babc6c7.jpg  \n",
            "  inflating: positive/902b77e7-0375-11ee-9c84-d3464babc6c7.jpg  \n",
            "  inflating: positive/9043318f-0375-11ee-8e46-d3464babc6c7.jpg  \n",
            "  inflating: positive/90507dc7-0375-11ee-bd5f-d3464babc6c7.jpg  \n",
            "  inflating: positive/906780b3-0375-11ee-9ec8-d3464babc6c7.jpg  \n",
            "  inflating: positive/90872277-0375-11ee-9a8c-d3464babc6c7.jpg  \n",
            "  inflating: positive/90a3d3ac-0375-11ee-979a-d3464babc6c7.jpg  \n",
            "  inflating: positive/90bed322-0375-11ee-b8f3-d3464babc6c7.jpg  \n",
            "  inflating: positive/90cdd523-0375-11ee-887b-d3464babc6c7.jpg  \n",
            "  inflating: positive/90ed4679-0375-11ee-babd-d3464babc6c7.jpg  \n",
            "  inflating: positive/91000537-0375-11ee-8b07-d3464babc6c7.jpg  \n",
            "  inflating: positive/910d071d-0375-11ee-aa4c-d3464babc6c7.jpg  \n",
            "  inflating: positive/911c767e-0375-11ee-946f-d3464babc6c7.jpg  \n",
            "  inflating: positive/9123d3c1-0375-11ee-8b31-d3464babc6c7.jpg  \n",
            "  inflating: positive/9136747c-0375-11ee-8a15-d3464babc6c7.jpg  \n",
            "  inflating: positive/914d5562-0375-11ee-96de-d3464babc6c7.jpg  \n",
            "  inflating: positive/915c99ac-0375-11ee-8cde-d3464babc6c7.jpg  \n",
            "  inflating: positive/91647b6b-0375-11ee-bf6c-d3464babc6c7.jpg  \n",
            "  inflating: positive/916d4128-0375-11ee-8846-d3464babc6c7.jpg  \n",
            "  inflating: positive/9185292e-0375-11ee-9fd7-d3464babc6c7.jpg  \n",
            "  inflating: positive/919bdad8-0375-11ee-bfc4-d3464babc6c7.jpg  \n",
            "  inflating: positive/91b317de-0375-11ee-a9e9-d3464babc6c7.jpg  \n",
            "  inflating: positive/91c55a98-0375-11ee-a6aa-d3464babc6c7.jpg  \n",
            "  inflating: positive/91e1f722-0375-11ee-828e-d3464babc6c7.jpg  \n",
            "  inflating: positive/91ee7d48-0375-11ee-aac5-d3464babc6c7.jpg  \n",
            "  inflating: positive/91fe092d-0375-11ee-a056-d3464babc6c7.jpg  \n",
            "  inflating: positive/92060d3d-0375-11ee-a7cd-d3464babc6c7.jpg  \n",
            "  inflating: positive/921d23ef-0375-11ee-81ab-d3464babc6c7.jpg  \n",
            "  inflating: positive/922a7b6e-0375-11ee-b9d6-d3464babc6c7.jpg  \n",
            "  inflating: positive/9237e596-0375-11ee-a7f1-d3464babc6c7.jpg  \n",
            "  inflating: positive/924729c4-0375-11ee-9f4e-d3464babc6c7.jpg  \n",
            "  inflating: positive/9f5d591d-0375-11ee-aaf3-d3464babc6c7.jpg  \n",
            "  inflating: positive/9f88cbfd-0375-11ee-b71a-d3464babc6c7.jpg  \n",
            "  inflating: positive/a091ce88-0375-11ee-8006-d3464babc6c7.jpg  \n",
            "  inflating: positive/a099bbe2-0375-11ee-b43a-d3464babc6c7.jpg  \n",
            "  inflating: positive/a0c2c68c-0375-11ee-a68b-d3464babc6c7.jpg  \n",
            "  inflating: positive/a0d03464-0375-11ee-8def-d3464babc6c7.jpg  \n",
            "  inflating: positive/a0e01352-0375-11ee-9e69-d3464babc6c7.jpg  \n",
            "  inflating: positive/a0f21a5e-0375-11ee-bfd4-d3464babc6c7.jpg  \n",
            "  inflating: positive/a0ff3d1a-0375-11ee-8702-d3464babc6c7.jpg  \n",
            "  inflating: positive/a10c2cce-0375-11ee-a47d-d3464babc6c7.jpg  \n",
            "  inflating: positive/a123c198-0375-11ee-8515-d3464babc6c7.jpg  \n",
            "  inflating: positive/a130a409-0375-11ee-8723-d3464babc6c7.jpg  \n",
            "  inflating: positive/a1567294-0375-11ee-a40b-d3464babc6c7.jpg  \n",
            "  inflating: positive/a1637720-0375-11ee-bc5f-d3464babc6c7.jpg  \n",
            "  inflating: positive/a172eff0-0375-11ee-a62b-d3464babc6c7.jpg  \n",
            "  inflating: positive/a17a6f15-0375-11ee-90a1-d3464babc6c7.jpg  \n",
            "  inflating: positive/a1894bc6-0375-11ee-9b1a-d3464babc6c7.jpg  \n",
            "  inflating: positive/a1a07673-0375-11ee-8df1-d3464babc6c7.jpg  \n",
            "  inflating: positive/a1b7ff59-0375-11ee-88dc-d3464babc6c7.jpg  \n",
            "  inflating: positive/a1c50279-0375-11ee-b7bd-d3464babc6c7.jpg  \n",
            "  inflating: positive/a1d41516-0375-11ee-9e8a-d3464babc6c7.jpg  \n",
            "  inflating: positive/a1e078ac-0375-11ee-99be-d3464babc6c7.jpg  \n",
            "  inflating: positive/a1f44b6a-0375-11ee-b9ee-d3464babc6c7.jpg  \n",
            "  inflating: positive/a1fdb3ee-0375-11ee-ab39-d3464babc6c7.jpg  \n",
            "  inflating: positive/a2054898-0375-11ee-8b89-d3464babc6c7.jpg  \n",
            "  inflating: positive/a2178232-0375-11ee-a2b7-d3464babc6c7.jpg  \n",
            "  inflating: positive/a226ebb4-0375-11ee-91ed-d3464babc6c7.jpg  \n",
            "  inflating: positive/a22e7b0b-0375-11ee-bc86-d3464babc6c7.jpg  \n",
            "  inflating: positive/a23de395-0375-11ee-ab2d-d3464babc6c7.jpg  \n",
            "  inflating: positive/a245ac5b-0375-11ee-a284-d3464babc6c7.jpg  \n",
            "  inflating: positive/a254fac8-0375-11ee-a47d-d3464babc6c7.jpg  \n",
            "  inflating: positive/a25d39a7-0375-11ee-ad19-d3464babc6c7.jpg  \n",
            "  inflating: positive/a27d56d4-0375-11ee-af63-d3464babc6c7.jpg  \n",
            "  inflating: positive/a28a1335-0375-11ee-b5d6-d3464babc6c7.jpg  \n",
            "  inflating: positive/a2a5bdc6-0375-11ee-961d-d3464babc6c7.jpg  \n",
            "  inflating: positive/a2cb6a4a-0375-11ee-a0f9-d3464babc6c7.jpg  \n",
            "  inflating: positive/a2fa842a-0375-11ee-a5fc-d3464babc6c7.jpg  \n",
            "  inflating: positive/a31a7ba9-0375-11ee-a0f8-d3464babc6c7.jpg  \n",
            "  inflating: positive/a3221377-0375-11ee-8f4d-d3464babc6c7.jpg  \n",
            "  inflating: positive/a33169bd-0375-11ee-a756-d3464babc6c7.jpg  \n",
            "  inflating: positive/a33910a9-0375-11ee-adcf-d3464babc6c7.jpg  \n",
            "  inflating: positive/a3407895-0375-11ee-a8c9-d3464babc6c7.jpg  \n",
            "  inflating: positive/a3488f91-0375-11ee-8eea-d3464babc6c7.jpg  \n",
            "  inflating: positive/a3569191-0375-11ee-a4ec-d3464babc6c7.jpg  \n",
            "  inflating: positive/a37a5408-0375-11ee-9e48-d3464babc6c7.jpg  \n",
            "  inflating: positive/a3a82d85-0375-11ee-9b9c-d3464babc6c7.jpg  \n",
            "  inflating: positive/a3c99389-0375-11ee-ab55-d3464babc6c7.jpg  \n",
            "  inflating: positive/a3dc3548-0375-11ee-9011-d3464babc6c7.jpg  \n",
            "  inflating: positive/a3e9c3cb-0375-11ee-a886-d3464babc6c7.jpg  \n",
            "  inflating: positive/a3f1d7ce-0375-11ee-af07-d3464babc6c7.jpg  \n",
            "  inflating: positive/a40a0ad8-0375-11ee-97b6-d3464babc6c7.jpg  \n",
            "  inflating: positive/a41c263f-0375-11ee-b119-d3464babc6c7.jpg  \n",
            "  inflating: positive/a433ce20-0375-11ee-aade-d3464babc6c7.jpg  \n",
            "  inflating: positive/a43b8aed-0375-11ee-954c-d3464babc6c7.jpg  \n",
            "  inflating: positive/a44a66e2-0375-11ee-bad2-d3464babc6c7.jpg  \n",
            "  inflating: positive/a4576d07-0375-11ee-920e-d3464babc6c7.jpg  \n",
            "  inflating: positive/a466878c-0375-11ee-8bcc-d3464babc6c7.jpg  \n",
            "  inflating: positive/a47a256e-0375-11ee-b36a-d3464babc6c7.jpg  \n",
            "  inflating: positive/a481b64b-0375-11ee-9acd-d3464babc6c7.jpg  \n",
            "  inflating: positive/a489b9bb-0375-11ee-ae41-d3464babc6c7.jpg  \n",
            "  inflating: positive/a49c243f-0375-11ee-8a15-d3464babc6c7.jpg  \n",
            "  inflating: positive/a4b050e6-0375-11ee-be47-d3464babc6c7.jpg  \n",
            "  inflating: positive/a4c2fce3-0375-11ee-9c62-d3464babc6c7.jpg  \n",
            "  inflating: positive/a4eb316c-0375-11ee-93aa-d3464babc6c7.jpg  \n",
            "  inflating: positive/a5025005-0375-11ee-8fb6-d3464babc6c7.jpg  \n",
            "  inflating: positive/a51a7eab-0375-11ee-ba8c-d3464babc6c7.jpg  \n",
            "  inflating: positive/a5229127-0375-11ee-bf4f-d3464babc6c7.jpg  \n",
            "  inflating: positive/a5480b67-0375-11ee-8c02-d3464babc6c7.jpg  \n",
            "  inflating: positive/a554f3bd-0375-11ee-9f4a-d3464babc6c7.jpg  \n",
            "  inflating: positive/a56c8708-0375-11ee-b6b3-d3464babc6c7.jpg  \n",
            "  inflating: positive/a59012df-0375-11ee-8d07-d3464babc6c7.jpg  \n",
            "  inflating: positive/a5a83b6a-0375-11ee-b79a-d3464babc6c7.jpg  \n",
            "  inflating: positive/a5b5efde-0375-11ee-9ccf-d3464babc6c7.jpg  \n",
            "  inflating: positive/a5c038cd-0375-11ee-9a44-d3464babc6c7.jpg  \n",
            "  inflating: positive/a5df7aa5-0375-11ee-88ca-d3464babc6c7.jpg  \n",
            "  inflating: positive/a5ee9e5d-0375-11ee-a494-d3464babc6c7.jpg  \n",
            "  inflating: positive/a5f6e290-0375-11ee-a7d2-d3464babc6c7.jpg  \n",
            "  inflating: positive/a60e5537-0375-11ee-a2a0-d3464babc6c7.jpg  \n",
            "  inflating: positive/a61627cd-0375-11ee-91a4-d3464babc6c7.jpg  \n",
            "  inflating: positive/a64abadd-0375-11ee-b395-d3464babc6c7.jpg  \n",
            "  inflating: positive/a652118b-0375-11ee-a0f7-d3464babc6c7.jpg  \n",
            "  inflating: positive/a6617de7-0375-11ee-b2e2-d3464babc6c7.jpg  \n",
            "  inflating: positive/a66ea613-0375-11ee-8a5c-d3464babc6c7.jpg  \n",
            "  inflating: positive/a680ee9e-0375-11ee-b82c-d3464babc6c7.jpg  \n",
            "  inflating: positive/a69816f6-0375-11ee-94e1-d3464babc6c7.jpg  \n",
            "  inflating: positive/a6a5391e-0375-11ee-8250-d3464babc6c7.jpg  \n",
            "  inflating: positive/a6b7c34a-0375-11ee-a455-d3464babc6c7.jpg  \n",
            "  inflating: positive/a6d3bff8-0375-11ee-92a4-d3464babc6c7.jpg  \n",
            "  inflating: positive/a6dc27ba-0375-11ee-b7c3-d3464babc6c7.jpg  \n",
            "  inflating: positive/a6f3e0d4-0375-11ee-a8de-d3464babc6c7.jpg  \n",
            "  inflating: positive/a70e71f9-0375-11ee-8f28-d3464babc6c7.jpg  \n",
            "  inflating: positive/a71e495c-0375-11ee-b040-d3464babc6c7.jpg  \n",
            "  inflating: positive/a72ab3bc-0375-11ee-8bf4-d3464babc6c7.jpg  \n",
            "  inflating: positive/a73a141d-0375-11ee-b0fe-d3464babc6c7.jpg  \n",
            "  inflating: positive/a7473e56-0375-11ee-8223-d3464babc6c7.jpg  \n",
            "  inflating: positive/a757fe6c-0375-11ee-afe8-d3464babc6c7.jpg  \n",
            "  inflating: positive/a767044d-0375-11ee-bfe4-d3464babc6c7.jpg  \n",
            "  inflating: positive/a7aba19a-0375-11ee-926f-d3464babc6c7.jpg  \n",
            "  inflating: positive/a7bb38ce-0375-11ee-8301-d3464babc6c7.jpg  \n",
            "  inflating: positive/a7c2d240-0375-11ee-b74f-d3464babc6c7.jpg  \n",
            "  inflating: positive/a7da83f0-0375-11ee-a179-d3464babc6c7.jpg  \n",
            "  inflating: positive/a7f0bb21-0375-11ee-a329-d3464babc6c7.jpg  \n",
            "  inflating: positive/a800420e-0375-11ee-81a5-d3464babc6c7.jpg  \n",
            "  inflating: positive/a80d21fd-0375-11ee-8684-d3464babc6c7.jpg  \n",
            "  inflating: positive/a82e94f3-0375-11ee-a14f-d3464babc6c7.jpg  \n",
            "  inflating: positive/a8361b22-0375-11ee-8f2f-d3464babc6c7.jpg  \n",
            "  inflating: positive/a8488b37-0375-11ee-bf8c-d3464babc6c7.jpg  \n",
            "  inflating: positive/a8645e42-0375-11ee-b750-d3464babc6c7.jpg  \n",
            "  inflating: positive/a871692d-0375-11ee-8d3c-d3464babc6c7.jpg  \n",
            "  inflating: positive/a883b801-0375-11ee-939c-d3464babc6c7.jpg  \n",
            "  inflating: positive/a893884c-0375-11ee-ae6a-d3464babc6c7.jpg  \n",
            "  inflating: positive/a8976477-0375-11ee-b0bd-d3464babc6c7.jpg  \n",
            "  inflating: positive/a8a4906b-0375-11ee-90b8-d3464babc6c7.jpg  \n",
            "  inflating: positive/a8b70ded-0375-11ee-98ef-d3464babc6c7.jpg  \n",
            "  inflating: positive/a8ca02e3-0375-11ee-9ebc-d3464babc6c7.jpg  \n",
            "  inflating: positive/a8d71bb7-0375-11ee-a629-d3464babc6c7.jpg  \n",
            "  inflating: positive/a8e9c14d-0375-11ee-9bfd-d3464babc6c7.jpg  \n",
            "  inflating: positive/a8f8f1f6-0375-11ee-866e-d3464babc6c7.jpg  \n",
            "  inflating: positive/a9007edb-0375-11ee-ace5-d3464babc6c7.jpg  \n",
            "  inflating: positive/a9101cec-0375-11ee-bd79-d3464babc6c7.jpg  \n",
            "  inflating: positive/a9180157-0375-11ee-8748-d3464babc6c7.jpg  \n",
            "  inflating: positive/a93427e7-0375-11ee-8a7f-d3464babc6c7.jpg  \n",
            "  inflating: positive/a94180c8-0375-11ee-9750-d3464babc6c7.jpg  \n",
            "  inflating: positive/a95109fa-0375-11ee-9f5d-d3464babc6c7.jpg  \n",
            "  inflating: positive/a958d689-0375-11ee-9dd5-d3464babc6c7.jpg  \n",
            "  inflating: positive/a9702ae2-0375-11ee-b270-d3464babc6c7.jpg  \n",
            "  inflating: positive/a9827c64-0375-11ee-b58e-d3464babc6c7.jpg  \n",
            "  inflating: positive/a98f3d17-0375-11ee-af4a-d3464babc6c7.jpg  \n",
            "  inflating: positive/a9b0e469-0375-11ee-8890-d3464babc6c7.jpg  \n",
            "  inflating: positive/a9bdcbd1-0375-11ee-914f-d3464babc6c7.jpg  \n",
            "  inflating: positive/a9cd3866-0375-11ee-aee3-d3464babc6c7.jpg  \n",
            "  inflating: positive/a9dab861-0375-11ee-93f6-d3464babc6c7.jpg  \n",
            "  inflating: positive/a9f01ae6-0375-11ee-b73d-d3464babc6c7.jpg  \n",
            "  inflating: positive/aa0b7ff1-0375-11ee-8178-d3464babc6c7.jpg  \n",
            "  inflating: positive/aa1abab9-0375-11ee-a9bd-d3464babc6c7.jpg  \n",
            "  inflating: positive/aa225705-0375-11ee-a10c-d3464babc6c7.jpg  \n",
            "  inflating: positive/aa317851-0375-11ee-a631-d3464babc6c7.jpg  \n",
            "  inflating: positive/aa395094-0375-11ee-9c10-d3464babc6c7.jpg  \n",
            "  inflating: positive/aa494247-0375-11ee-b034-d3464babc6c7.jpg  \n",
            "  inflating: positive/aa507bec-0375-11ee-a59c-d3464babc6c7.jpg  \n",
            "  inflating: positive/aa5f9722-0375-11ee-b8b6-d3464babc6c7.jpg  \n",
            "  inflating: positive/aa7a8440-0375-11ee-9058-d3464babc6c7.jpg  \n",
            "  inflating: positive/aa9102cc-0375-11ee-904c-d3464babc6c7.jpg  \n",
            "  inflating: positive/aaa0ed08-0375-11ee-9c1c-d3464babc6c7.jpg  \n",
            "  inflating: positive/aab1241e-0375-11ee-8cd8-d3464babc6c7.jpg  \n",
            "  inflating: positive/aac5c45c-0375-11ee-b490-d3464babc6c7.jpg  \n",
            "  inflating: positive/aad23b79-0375-11ee-827d-d3464babc6c7.jpg  \n",
            "  inflating: positive/aae431d4-0375-11ee-bd23-d3464babc6c7.jpg  \n",
            "  inflating: positive/aaf32b69-0375-11ee-978e-d3464babc6c7.jpg  \n",
            "  inflating: positive/ab0007d2-0375-11ee-9a72-d3464babc6c7.jpg  \n",
            "  inflating: positive/ab125862-0375-11ee-8264-d3464babc6c7.jpg  \n",
            "  inflating: positive/ab24d0fd-0375-11ee-834e-d3464babc6c7.jpg  \n",
            "  inflating: positive/ab4af894-0375-11ee-8d22-d3464babc6c7.jpg  \n",
            "  inflating: positive/ab587d23-0375-11ee-865a-d3464babc6c7.jpg  \n",
            "  inflating: positive/ab6acd04-0375-11ee-9228-d3464babc6c7.jpg  \n",
            "  inflating: positive/ab82f6f0-0375-11ee-b255-d3464babc6c7.jpg  \n",
            "  inflating: positive/ab946f1f-0375-11ee-8e60-d3464babc6c7.jpg  \n",
            "  inflating: positive/abb97db8-0375-11ee-81f9-d3464babc6c7.jpg  \n",
            "  inflating: positive/abd028bd-0375-11ee-8404-d3464babc6c7.jpg  \n",
            "  inflating: positive/abdda232-0375-11ee-b1dd-d3464babc6c7.jpg  \n",
            "  inflating: positive/abfa986a-0375-11ee-8307-d3464babc6c7.jpg  \n",
            "  inflating: positive/ac11c9d5-0375-11ee-b55a-d3464babc6c7.jpg  \n",
            "  inflating: positive/ac19249f-0375-11ee-9918-d3464babc6c7.jpg  \n",
            "  inflating: positive/ac2bba72-0375-11ee-8b5f-d3464babc6c7.jpg  \n",
            "  inflating: positive/ac391e16-0375-11ee-9372-d3464babc6c7.jpg  \n",
            "  inflating: positive/ac4b638b-0375-11ee-a7ad-d3464babc6c7.jpg  \n",
            "  inflating: positive/ac5a7efb-0375-11ee-a256-d3464babc6c7.jpg  \n",
            "  inflating: positive/ac625d8f-0375-11ee-bfb1-d3464babc6c7.jpg  \n",
            "  inflating: positive/ac7273ac-0375-11ee-94c6-d3464babc6c7.jpg  \n",
            "  inflating: positive/ac83e1a7-0375-11ee-87d3-d3464babc6c7.jpg  \n",
            "  inflating: positive/ac90df9d-0375-11ee-96ca-d3464babc6c7.jpg  \n",
            "  inflating: positive/aca3476a-0375-11ee-a561-d3464babc6c7.jpg  \n",
            "  inflating: positive/acb17331-0375-11ee-a8f1-d3464babc6c7.jpg  \n",
            "  inflating: positive/acbe6295-0375-11ee-851d-d3464babc6c7.jpg  \n",
            "  inflating: positive/accd843d-0375-11ee-9274-d3464babc6c7.jpg  \n",
            "  inflating: positive/acd595e6-0375-11ee-a9a9-d3464babc6c7.jpg  \n",
            "  inflating: positive/acfbaa6b-0375-11ee-ad45-d3464babc6c7.jpg  \n",
            "  inflating: positive/ad12ba11-0375-11ee-8fcd-d3464babc6c7.jpg  \n",
            "  inflating: positive/ad2a3511-0375-11ee-a41d-d3464babc6c7.jpg  \n",
            "  inflating: positive/ad3d2f48-0375-11ee-9473-d3464babc6c7.jpg  \n",
            "  inflating: positive/ad455a13-0375-11ee-86e0-d3464babc6c7.jpg  \n",
            "  inflating: positive/ad548838-0375-11ee-a1f0-d3464babc6c7.jpg  \n",
            "  inflating: positive/ad5bc3dd-0375-11ee-b59b-d3464babc6c7.jpg  \n",
            "  inflating: positive/ad85549c-0375-11ee-88ab-d3464babc6c7.jpg  \n",
            "  inflating: positive/ad9d8d39-0375-11ee-bf6d-d3464babc6c7.jpg  \n",
            "  inflating: positive/ada4cb8f-0375-11ee-ab7b-d3464babc6c7.jpg  \n",
            "  inflating: positive/adb3df78-0375-11ee-becb-d3464babc6c7.jpg  \n",
            "  inflating: positive/adcaf426-0375-11ee-9a4b-d3464babc6c7.jpg  \n",
            "  inflating: positive/adef1517-0375-11ee-9669-d3464babc6c7.jpg  \n",
            "  inflating: positive/ae03cdf3-0375-11ee-a32c-d3464babc6c7.jpg  \n",
            "  inflating: positive/ae114499-0375-11ee-a735-d3464babc6c7.jpg  \n",
            "  inflating: positive/ae188f5c-0375-11ee-9f1e-d3464babc6c7.jpg  \n",
            "  inflating: positive/ae27fdac-0375-11ee-9662-d3464babc6c7.jpg  \n",
            "  inflating: positive/ae3539b6-0375-11ee-9e91-d3464babc6c7.jpg  \n",
            "  inflating: positive/ae4c57ad-0375-11ee-91b5-d3464babc6c7.jpg  \n",
            "  inflating: positive/ae67c7d8-0375-11ee-8259-d3464babc6c7.jpg  \n",
            "  inflating: positive/ae7e7777-0375-11ee-8a6a-d3464babc6c7.jpg  \n",
            "  inflating: positive/ae9b383c-0375-11ee-bee3-d3464babc6c7.jpg  \n",
            "  inflating: positive/aea8682c-0375-11ee-807f-d3464babc6c7.jpg  \n",
            "  inflating: positive/aeb6bfeb-0375-11ee-a283-d3464babc6c7.jpg  \n",
            "  inflating: positive/aece9ec9-0375-11ee-8816-d3464babc6c7.jpg  \n",
            "  inflating: positive/aed5d785-0375-11ee-88fa-d3464babc6c7.jpg  \n",
            "  inflating: positive/aee88e96-0375-11ee-9215-d3464babc6c7.jpg  \n",
            "  inflating: positive/aef5b342-0375-11ee-86b0-d3464babc6c7.jpg  \n",
            "  inflating: positive/af050a3a-0375-11ee-9e44-d3464babc6c7.jpg  \n",
            "  inflating: positive/af11d911-0375-11ee-b627-d3464babc6c7.jpg  \n",
            "  inflating: positive/af2158fb-0375-11ee-92c3-d3464babc6c7.jpg  \n",
            "  inflating: positive/af28a831-0375-11ee-b315-d3464babc6c7.jpg  \n",
            "  inflating: positive/af45e768-0375-11ee-a957-d3464babc6c7.jpg  \n",
            "  inflating: positive/af52e46a-0375-11ee-b9e0-d3464babc6c7.jpg  \n",
            "  inflating: positive/af60a6d5-0375-11ee-80d3-d3464babc6c7.jpg  \n",
            "  inflating: positive/af6dcae4-0375-11ee-a118-d3464babc6c7.jpg  \n",
            "  inflating: positive/af7cd30b-0375-11ee-9f3f-d3464babc6c7.jpg  \n",
            "  inflating: positive/af89c23c-0375-11ee-8e5a-d3464babc6c7.jpg  \n",
            "  inflating: positive/af98cd6b-0375-11ee-82c1-d3464babc6c7.jpg  \n",
            "  inflating: positive/afa12b1c-0375-11ee-b7a8-d3464babc6c7.jpg  \n",
            "  inflating: positive/afb8aaa2-0375-11ee-b69c-d3464babc6c7.jpg  \n",
            "  inflating: positive/afc56dfc-0375-11ee-8a3f-d3464babc6c7.jpg  \n",
            "  inflating: positive/afd7d428-0375-11ee-804f-d3464babc6c7.jpg  \n",
            "  inflating: positive/afe4c9d4-0375-11ee-8fb6-d3464babc6c7.jpg  \n",
            "  inflating: positive/aff46fc3-0375-11ee-badc-d3464babc6c7.jpg  \n",
            "  inflating: positive/b0073ad1-0375-11ee-a564-d3464babc6c7.jpg  \n",
            "  inflating: positive/b0142fc8-0375-11ee-8c18-d3464babc6c7.jpg  \n",
            "  inflating: positive/b020a921-0375-11ee-9fc0-d3464babc6c7.jpg  \n",
            "  inflating: positive/b0350498-0375-11ee-8c91-d3464babc6c7.jpg  \n",
            "  inflating: positive/b03c3e05-0375-11ee-bd83-d3464babc6c7.jpg  \n",
            "  inflating: positive/b04c3508-0375-11ee-9eac-d3464babc6c7.jpg  \n",
            "  inflating: positive/b053b017-0375-11ee-ab63-d3464babc6c7.jpg  \n",
            "  inflating: positive/b062ef0b-0375-11ee-a8c1-d3464babc6c7.jpg  \n",
            "  inflating: positive/b06fd752-0375-11ee-b071-d3464babc6c7.jpg  \n",
            "  inflating: positive/b08c7558-0375-11ee-a96d-d3464babc6c7.jpg  \n",
            "  inflating: positive/b09a106b-0375-11ee-98b2-d3464babc6c7.jpg  \n",
            "  inflating: positive/b0a70c75-0375-11ee-89b1-d3464babc6c7.jpg  \n",
            "  inflating: positive/b0c35aff-0375-11ee-858d-d3464babc6c7.jpg  \n",
            "  inflating: positive/b0e024a3-0375-11ee-b12a-d3464babc6c7.jpg  \n",
            "  inflating: positive/b0f02193-0375-11ee-8f9b-d3464babc6c7.jpg  \n",
            "  inflating: positive/b104b89a-0375-11ee-adb5-d3464babc6c7.jpg  \n",
            "  inflating: positive/b10c3626-0375-11ee-975f-d3464babc6c7.jpg  \n",
            "  inflating: positive/b11b8ab9-0375-11ee-8e59-d3464babc6c7.jpg  \n",
            "  inflating: positive/b1293858-0375-11ee-afe1-d3464babc6c7.jpg  \n",
            "  inflating: positive/b130b041-0375-11ee-ba8a-d3464babc6c7.jpg  \n",
            "  inflating: positive/b140ac17-0375-11ee-ac93-d3464babc6c7.jpg  \n",
            "  inflating: positive/b14e01ab-0375-11ee-8231-d3464babc6c7.jpg  \n",
            "  inflating: positive/b1557875-0375-11ee-ad47-d3464babc6c7.jpg  \n",
            "  inflating: positive/b164e737-0375-11ee-92c3-d3464babc6c7.jpg  \n",
            "  inflating: positive/b1718dd6-0375-11ee-9171-d3464babc6c7.jpg  \n"
          ]
        }
      ]
    },
    {
      "cell_type": "code",
      "source": [
        "# Upload negative.zip from drive and unzip"
      ],
      "metadata": {
        "id": "k8botM4wfzWq"
      },
      "execution_count": null,
      "outputs": []
    },
    {
      "cell_type": "code",
      "source": [
        "from google.colab import drive\n",
        "drive.mount('/content/drive')"
      ],
      "metadata": {
        "colab": {
          "base_uri": "https://localhost:8080/"
        },
        "id": "iC9e3x3igw58",
        "outputId": "32974c8f-1ee3-4618-cc82-bbdea8da0912"
      },
      "execution_count": null,
      "outputs": [
        {
          "output_type": "stream",
          "name": "stdout",
          "text": [
            "Mounted at /content/drive\n"
          ]
        }
      ]
    },
    {
      "cell_type": "code",
      "source": [
        "#Import the libraries\n",
        "import zipfile\n",
        "import os\n",
        "\n",
        "zip_ref = zipfile.ZipFile('/content/drive/MyDrive/negative.zip', 'r') #Opens the zip file in read mode\n",
        "zip_ref.extractall('/content') #Extracts the files into the /tmp folder\n",
        "zip_ref.close()"
      ],
      "metadata": {
        "id": "GvOF87AHhJgM"
      },
      "execution_count": null,
      "outputs": []
    },
    {
      "cell_type": "markdown",
      "source": [
        "## 1.3 Set GPU Growth"
      ],
      "metadata": {
        "id": "aibO-aFVDWUn"
      }
    },
    {
      "cell_type": "code",
      "source": [
        "# Avoid OOM errors by setting GPU Memory Consumption Growth\n",
        "gpus = tf.config.experimental.list_physical_devices('GPU')\n",
        "for gpu in gpus:\n",
        "    tf.config.experimental.set_memory_growth(gpu, True)"
      ],
      "metadata": {
        "id": "nqhfYl1tDbFY"
      },
      "execution_count": null,
      "outputs": []
    },
    {
      "cell_type": "markdown",
      "source": [
        "## 2.3 Data Augmentation"
      ],
      "metadata": {
        "id": "kdZPxqyhhxMG"
      }
    },
    {
      "cell_type": "code",
      "source": [
        "def data_aug(img):\n",
        "    data = []\n",
        "    for i in range(9):\n",
        "        img = tf.image.stateless_random_brightness(img, max_delta=0.02, seed=(1,2))\n",
        "        img = tf.image.stateless_random_contrast(img, lower=0.6, upper=1, seed=(1,3))\n",
        "        # img = tf.image.stateless_random_crop(img, size=(20,20,3), seed=(1,2))\n",
        "        img = tf.image.stateless_random_flip_left_right(img, seed=(np.random.randint(100),np.random.randint(100)))\n",
        "        img = tf.image.stateless_random_jpeg_quality(img, min_jpeg_quality=90, max_jpeg_quality=100, seed=(np.random.randint(100),np.random.randint(100)))\n",
        "        img = tf.image.stateless_random_saturation(img, lower=0.9,upper=1, seed=(np.random.randint(100),np.random.randint(100)))\n",
        "\n",
        "        data.append(img)\n",
        "\n",
        "    return data"
      ],
      "metadata": {
        "id": "EGlH9trtiDoe"
      },
      "execution_count": null,
      "outputs": []
    },
    {
      "cell_type": "code",
      "source": [
        "import uuid"
      ],
      "metadata": {
        "id": "tCm3G8a9ihls"
      },
      "execution_count": null,
      "outputs": []
    },
    {
      "cell_type": "code",
      "source": [
        "# Setup paths\n",
        "POS_PATH = os.path.join('/content', 'positive')\n",
        "NEG_PATH = os.path.join('/content', 'negative')\n",
        "ANC_PATH = os.path.join('/content', 'anchor')"
      ],
      "metadata": {
        "id": "xi6v9UsnixDq"
      },
      "execution_count": null,
      "outputs": []
    },
    {
      "cell_type": "code",
      "source": [
        "for file_name in os.listdir(os.path.join(ANC_PATH)):\n",
        "    img_path = os.path.join(ANC_PATH, file_name)\n",
        "    img = cv2.imread(img_path)\n",
        "    augmented_images = data_aug(img)\n",
        "\n",
        "    for image in augmented_images:\n",
        "        cv2.imwrite(os.path.join(ANC_PATH, '{}.jpg'.format(uuid.uuid1())), image.numpy())"
      ],
      "metadata": {
        "id": "caAAe8b4iq4l"
      },
      "execution_count": null,
      "outputs": []
    },
    {
      "cell_type": "code",
      "source": [
        "for file_name in os.listdir(os.path.join(POS_PATH)):\n",
        "    img_path = os.path.join(POS_PATH, file_name)\n",
        "    img = cv2.imread(img_path)\n",
        "    augmented_images = data_aug(img)\n",
        "\n",
        "    for image in augmented_images:\n",
        "        cv2.imwrite(os.path.join(POS_PATH, '{}.jpg'.format(uuid.uuid1())), image.numpy())"
      ],
      "metadata": {
        "id": "gbaojDfViptX"
      },
      "execution_count": null,
      "outputs": []
    },
    {
      "cell_type": "code",
      "source": [
        "print(len(os.listdir(os.path.join(ANC_PATH))))\n",
        "len(os.listdir(os.path.join(POS_PATH)))"
      ],
      "metadata": {
        "colab": {
          "base_uri": "https://localhost:8080/"
        },
        "id": "NFhQiAmCjsEt",
        "outputId": "e5ba8e7b-ed5e-442a-b021-b39eaa44776c"
      },
      "execution_count": null,
      "outputs": [
        {
          "output_type": "stream",
          "name": "stdout",
          "text": [
            "4350\n"
          ]
        },
        {
          "output_type": "execute_result",
          "data": {
            "text/plain": [
              "4900"
            ]
          },
          "metadata": {},
          "execution_count": 18
        }
      ]
    },
    {
      "cell_type": "markdown",
      "source": [
        "# 3. Load and Preprocess Images"
      ],
      "metadata": {
        "id": "jgB4KhNdCnwg"
      }
    },
    {
      "cell_type": "markdown",
      "source": [
        "## 3.1 Get Image Directories"
      ],
      "metadata": {
        "id": "W-Q-8m1CCvK9"
      }
    },
    {
      "cell_type": "code",
      "source": [
        "anchor = tf.data.Dataset.list_files(ANC_PATH+'/*.jpg').take(3000)\n",
        "positive = tf.data.Dataset.list_files(POS_PATH+'/*.jpg').take(3000)\n",
        "negative = tf.data.Dataset.list_files(NEG_PATH+'/*.jpg').take(3000)"
      ],
      "metadata": {
        "id": "kPEWZ_i7TmFj"
      },
      "execution_count": null,
      "outputs": []
    },
    {
      "cell_type": "code",
      "source": [
        "dir_test = anchor.as_numpy_iterator()"
      ],
      "metadata": {
        "id": "fgH9GTP1UDxB"
      },
      "execution_count": null,
      "outputs": []
    },
    {
      "cell_type": "code",
      "source": [
        "print(dir_test.next())"
      ],
      "metadata": {
        "colab": {
          "base_uri": "https://localhost:8080/"
        },
        "id": "11RE7IUJUGMT",
        "outputId": "a0b87624-23bf-47f7-efeb-5e184cdcd12a"
      },
      "execution_count": null,
      "outputs": [
        {
          "output_type": "stream",
          "name": "stdout",
          "text": [
            "b'/content/anchor/147a3bb2-04fd-11ee-b736-0242ac1c000c.jpg'\n"
          ]
        }
      ]
    },
    {
      "cell_type": "markdown",
      "source": [
        "## 3.2 Preprocessing - Scale and Resize"
      ],
      "metadata": {
        "id": "z6AeP-ZaTZvs"
      }
    },
    {
      "cell_type": "code",
      "source": [
        "def preprocess(file_path):\n",
        "\n",
        "    # Read in image from file path\n",
        "    byte_img = tf.io.read_file(file_path)\n",
        "    # Load in the image\n",
        "    img = tf.io.decode_jpeg(byte_img)\n",
        "\n",
        "    # Preprocessing steps - resizing the image to be 100x100x3\n",
        "    img = tf.image.resize(img, (100,100))\n",
        "    # Scale image to be between 0 and 1\n",
        "    img = img / 255.0\n",
        "\n",
        "    # Return image\n",
        "    return img"
      ],
      "metadata": {
        "id": "XcsZe4CDTYws"
      },
      "execution_count": null,
      "outputs": []
    },
    {
      "cell_type": "code",
      "source": [
        "img = preprocess('/content/anchor/0b0df3ea-0375-11ee-adca-d3464babc6c7.jpg')"
      ],
      "metadata": {
        "id": "9PNVeIb_UMH4"
      },
      "execution_count": null,
      "outputs": []
    },
    {
      "cell_type": "code",
      "source": [
        "img.numpy().max()"
      ],
      "metadata": {
        "colab": {
          "base_uri": "https://localhost:8080/"
        },
        "id": "gvNq7JyGUQ83",
        "outputId": "adcaffe7-48dc-44d1-e243-f3a5d0f93eda"
      },
      "execution_count": null,
      "outputs": [
        {
          "output_type": "execute_result",
          "data": {
            "text/plain": [
              "1.0"
            ]
          },
          "metadata": {},
          "execution_count": 24
        }
      ]
    },
    {
      "cell_type": "code",
      "source": [
        "plt.imshow(img)"
      ],
      "metadata": {
        "colab": {
          "base_uri": "https://localhost:8080/",
          "height": 451
        },
        "id": "tW_p4jEEUUQP",
        "outputId": "8253cade-d5bd-4545-e69c-625530081784"
      },
      "execution_count": null,
      "outputs": [
        {
          "output_type": "execute_result",
          "data": {
            "text/plain": [
              "<matplotlib.image.AxesImage at 0x7efe8c287580>"
            ]
          },
          "metadata": {},
          "execution_count": 25
        },
        {
          "output_type": "display_data",
          "data": {
            "text/plain": [
              "<Figure size 640x480 with 1 Axes>"
            ],
            "image/png": "[encoded data removed]"
          },
          "metadata": {}
        }
      ]
    },
    {
      "cell_type": "markdown",
      "source": [
        "## 3.3 Create Labelled Dataset"
      ],
      "metadata": {
        "id": "VzRP1upEUZIf"
      }
    },
    {
      "cell_type": "code",
      "source": [
        "# (anchor, positive) => 1,1,1,1,1\n",
        "# (anchor, negative) => 0,0,0,0,0"
      ],
      "metadata": {
        "id": "PDzMJT4wUVfV"
      },
      "execution_count": null,
      "outputs": []
    },
    {
      "cell_type": "code",
      "source": [
        "positives = tf.data.Dataset.zip((anchor, positive, tf.data.Dataset.from_tensor_slices(tf.ones(len(anchor)))))\n",
        "negatives = tf.data.Dataset.zip((anchor, negative, tf.data.Dataset.from_tensor_slices(tf.zeros(len(anchor)))))\n",
        "data = positives.concatenate(negatives)"
      ],
      "metadata": {
        "id": "zPukCTgxUcUJ"
      },
      "execution_count": null,
      "outputs": []
    },
    {
      "cell_type": "code",
      "source": [
        "samples = data.as_numpy_iterator()"
      ],
      "metadata": {
        "id": "bikpVahBUf8g"
      },
      "execution_count": null,
      "outputs": []
    },
    {
      "cell_type": "code",
      "source": [
        "example = samples.next()"
      ],
      "metadata": {
        "id": "91k6voU1Una-"
      },
      "execution_count": null,
      "outputs": []
    },
    {
      "cell_type": "code",
      "source": [
        "example"
      ],
      "metadata": {
        "colab": {
          "base_uri": "https://localhost:8080/"
        },
        "id": "tjJ_kQEqUoGO",
        "outputId": "122dab66-5471-4028-ddce-c45b4da7d266"
      },
      "execution_count": null,
      "outputs": [
        {
          "output_type": "execute_result",
          "data": {
            "text/plain": [
              "(b'/content/anchor/071c9fdc-04fd-11ee-b736-0242ac1c000c.jpg',\n",
              " b'/content/positive/482f93d0-04fd-11ee-b736-0242ac1c000c.jpg',\n",
              " 1.0)"
            ]
          },
          "metadata": {},
          "execution_count": 40
        }
      ]
    },
    {
      "cell_type": "markdown",
      "source": [
        "## 3.4 Build Train and Test Partition"
      ],
      "metadata": {
        "id": "SNdF2nSBUrpu"
      }
    },
    {
      "cell_type": "code",
      "source": [
        "def preprocess_twin(input_img, validation_img, label):\n",
        "    return(preprocess(input_img), preprocess(validation_img), label)"
      ],
      "metadata": {
        "id": "A_SX5OcuUsvd"
      },
      "execution_count": null,
      "outputs": []
    },
    {
      "cell_type": "code",
      "source": [
        "res = preprocess_twin(*example)"
      ],
      "metadata": {
        "id": "NESCnV5TUyeC"
      },
      "execution_count": null,
      "outputs": []
    },
    {
      "cell_type": "code",
      "source": [
        "plt.imshow(res[0])"
      ],
      "metadata": {
        "colab": {
          "base_uri": "https://localhost:8080/",
          "height": 451
        },
        "id": "0MGCQgyIUzWH",
        "outputId": "51e27ac1-fde7-4c57-d260-f196788407ab"
      },
      "execution_count": null,
      "outputs": [
        {
          "output_type": "execute_result",
          "data": {
            "text/plain": [
              "<matplotlib.image.AxesImage at 0x7efe8c1f67a0>"
            ]
          },
          "metadata": {},
          "execution_count": 43
        },
        {
          "output_type": "display_data",
          "data": {
            "text/plain": [
              "<Figure size 640x480 with 1 Axes>"
            ],
            "image/png": "[encoded data removed]"
          },
          "metadata": {}
        }
      ]
    },
    {
      "cell_type": "code",
      "source": [
        "plt.imshow(res[1])"
      ],
      "metadata": {
        "colab": {
          "base_uri": "https://localhost:8080/",
          "height": 451
        },
        "id": "FXB9cZecU2C1",
        "outputId": "79af0634-6380-4bf8-f338-d5b241430439"
      },
      "execution_count": null,
      "outputs": [
        {
          "output_type": "execute_result",
          "data": {
            "text/plain": [
              "<matplotlib.image.AxesImage at 0x7efe8c0b0790>"
            ]
          },
          "metadata": {},
          "execution_count": 44
        },
        {
          "output_type": "display_data",
          "data": {
            "text/plain": [
              "<Figure size 640x480 with 1 Axes>"
            ],
            "image/png": "[encoded data removed]"
          },
          "metadata": {}
        }
      ]
    },
    {
      "cell_type": "code",
      "source": [
        "res[2]"
      ],
      "metadata": {
        "colab": {
          "base_uri": "https://localhost:8080/"
        },
        "id": "ChaqR5YLU42h",
        "outputId": "4f29fb73-fcab-4115-c1b7-c32ce10159df"
      },
      "execution_count": null,
      "outputs": [
        {
          "output_type": "execute_result",
          "data": {
            "text/plain": [
              "1.0"
            ]
          },
          "metadata": {},
          "execution_count": 45
        }
      ]
    },
    {
      "cell_type": "code",
      "source": [
        "# Build dataloader pipeline\n",
        "data = data.map(preprocess_twin)\n",
        "data = data.cache()\n",
        "data = data.shuffle(buffer_size=10000)"
      ],
      "metadata": {
        "id": "6Ht-iWzEU8Gt"
      },
      "execution_count": null,
      "outputs": []
    },
    {
      "cell_type": "code",
      "source": [
        "samples=data.as_numpy_iterator()"
      ],
      "metadata": {
        "id": "QCM5aldvU86j"
      },
      "execution_count": null,
      "outputs": []
    },
    {
      "cell_type": "code",
      "source": [
        "samp=samples.next()"
      ],
      "metadata": {
        "id": "N74MJLL8VAcN"
      },
      "execution_count": null,
      "outputs": []
    },
    {
      "cell_type": "code",
      "source": [
        "plt.imshow(samp[0])"
      ],
      "metadata": {
        "colab": {
          "base_uri": "https://localhost:8080/",
          "height": 451
        },
        "id": "jmMUUILFVBU3",
        "outputId": "a889511f-0c1f-461d-de90-767d771131ed"
      },
      "execution_count": null,
      "outputs": [
        {
          "output_type": "execute_result",
          "data": {
            "text/plain": [
              "<matplotlib.image.AxesImage at 0x7efe8c115a20>"
            ]
          },
          "metadata": {},
          "execution_count": 49
        },
        {
          "output_type": "display_data",
          "data": {
            "text/plain": [
              "<Figure size 640x480 with 1 Axes>"
            ],
            "image/png": "[encoded data removed]"
          },
          "metadata": {}
        }
      ]
    },
    {
      "cell_type": "code",
      "source": [
        "samp[2]"
      ],
      "metadata": {
        "colab": {
          "base_uri": "https://localhost:8080/"
        },
        "id": "_r5uoHkqVFCR",
        "outputId": "026e592e-54c6-49b5-8257-2f79748bdd54"
      },
      "execution_count": null,
      "outputs": [
        {
          "output_type": "execute_result",
          "data": {
            "text/plain": [
              "1.0"
            ]
          },
          "metadata": {},
          "execution_count": 50
        }
      ]
    },
    {
      "cell_type": "code",
      "source": [
        "# Training partition\n",
        "train_data = data.take(round(len(data)*.7))\n",
        "train_data = train_data.batch(16)\n",
        "train_data = train_data.prefetch(8)"
      ],
      "metadata": {
        "id": "NL1fRgqzVF40"
      },
      "execution_count": null,
      "outputs": []
    },
    {
      "cell_type": "code",
      "source": [
        "# Testing partition\n",
        "test_data = data.skip(round(len(data)*.7))\n",
        "test_data = test_data.take(round(len(data)*.3))\n",
        "test_data = test_data.batch(16)\n",
        "test_data = test_data.prefetch(8)"
      ],
      "metadata": {
        "id": "XI6O6tHyVHyL"
      },
      "execution_count": null,
      "outputs": []
    },
    {
      "cell_type": "markdown",
      "source": [
        "# 4. Model Engineering"
      ],
      "metadata": {
        "id": "e3S7Q208VLWQ"
      }
    },
    {
      "cell_type": "markdown",
      "source": [
        "## 4.1 Build Embedding Layer"
      ],
      "metadata": {
        "id": "siD9MJ8gVMd6"
      }
    },
    {
      "cell_type": "code",
      "source": [
        "def make_embedding():\n",
        "    inp = Input(shape=(100,100,3), name='input_image')\n",
        "\n",
        "    # First block\n",
        "    c1 = Conv2D(64, (10,10), activation='relu')(inp)\n",
        "    m1 = MaxPooling2D(64, (2,2), padding='same')(c1)\n",
        "\n",
        "    # Second block\n",
        "    c2 = Conv2D(128, (7,7), activation='relu')(m1)\n",
        "    m2 = MaxPooling2D(64, (2,2), padding='same')(c2)\n",
        "\n",
        "    # Third block\n",
        "    c3 = Conv2D(128, (4,4), activation='relu')(m2)\n",
        "    m3 = MaxPooling2D(64, (2,2), padding='same')(c3)\n",
        "\n",
        "    # Final embedding block\n",
        "    c4 = Conv2D(256, (4,4), activation='relu')(m3)\n",
        "    f1 = Flatten()(c4)\n",
        "    d1 = Dense(4096, activation='sigmoid')(f1)\n",
        "\n",
        "\n",
        "    return Model(inputs=[inp], outputs=[d1], name='embedding')"
      ],
      "metadata": {
        "id": "xdij1iXEVPH9"
      },
      "execution_count": null,
      "outputs": []
    },
    {
      "cell_type": "code",
      "source": [
        "embedding = make_embedding()"
      ],
      "metadata": {
        "id": "GUqIuiEcVTAM"
      },
      "execution_count": null,
      "outputs": []
    },
    {
      "cell_type": "code",
      "source": [
        "embedding.summary()"
      ],
      "metadata": {
        "colab": {
          "base_uri": "https://localhost:8080/"
        },
        "id": "T3IJCK-xVTt4",
        "outputId": "102c6333-dee2-4f37-cfc2-ebf7b4652578"
      },
      "execution_count": null,
      "outputs": [
        {
          "output_type": "stream",
          "name": "stdout",
          "text": [
            "Model: \"embedding\"\n",
            "_________________________________________________________________\n",
            " Layer (type)                Output Shape              Param #   \n",
            "=================================================================\n",
            " input_image (InputLayer)    [(None, 100, 100, 3)]     0         \n",
            "                                                                 \n",
            " conv2d (Conv2D)             (None, 91, 91, 64)        19264     \n",
            "                                                                 \n",
            " max_pooling2d (MaxPooling2D  (None, 46, 46, 64)       0         \n",
            " )                                                               \n",
            "                                                                 \n",
            " conv2d_1 (Conv2D)           (None, 40, 40, 128)       401536    \n",
            "                                                                 \n",
            " max_pooling2d_1 (MaxPooling  (None, 20, 20, 128)      0         \n",
            " 2D)                                                             \n",
            "                                                                 \n",
            " conv2d_2 (Conv2D)           (None, 17, 17, 128)       262272    \n",
            "                                                                 \n",
            " max_pooling2d_2 (MaxPooling  (None, 9, 9, 128)        0         \n",
            " 2D)                                                             \n",
            "                                                                 \n",
            " conv2d_3 (Conv2D)           (None, 6, 6, 256)         524544    \n",
            "                                                                 \n",
            " flatten (Flatten)           (None, 9216)              0         \n",
            "                                                                 \n",
            " dense (Dense)               (None, 4096)              37752832  \n",
            "                                                                 \n",
            "=================================================================\n",
            "Total params: 38,960,448\n",
            "Trainable params: 38,960,448\n",
            "Non-trainable params: 0\n",
            "_________________________________________________________________\n"
          ]
        }
      ]
    },
    {
      "cell_type": "markdown",
      "source": [
        "## 4.2 Build Distance Layer"
      ],
      "metadata": {
        "id": "x8E-V6s1VWV4"
      }
    },
    {
      "cell_type": "code",
      "source": [
        "# Siamese L1 Distance class\n",
        "class L1Dist(Layer):\n",
        "\n",
        "    # Init method - inheritance\n",
        "    def __init__(self, **kwargs):\n",
        "        super().__init__()\n",
        "\n",
        "    # Magic happens here - similarity calculation\n",
        "    def call(self, input_embedding, validation_embedding):\n",
        "        return tf.math.abs(input_embedding - validation_embedding)"
      ],
      "metadata": {
        "id": "FUorT6uxVYo-"
      },
      "execution_count": null,
      "outputs": []
    },
    {
      "cell_type": "code",
      "source": [
        "l1 = L1Dist()"
      ],
      "metadata": {
        "id": "bDNk6aVTVb4A"
      },
      "execution_count": null,
      "outputs": []
    },
    {
      "cell_type": "code",
      "source": [
        "l1"
      ],
      "metadata": {
        "colab": {
          "base_uri": "https://localhost:8080/"
        },
        "id": "mVuE3ZZnVciI",
        "outputId": "ede6f72b-56dc-4eaa-bc4e-9f1834455aa6"
      },
      "execution_count": null,
      "outputs": [
        {
          "output_type": "execute_result",
          "data": {
            "text/plain": [
              "<__main__.L1Dist at 0x7efe86380d60>"
            ]
          },
          "metadata": {},
          "execution_count": 58
        }
      ]
    },
    {
      "cell_type": "markdown",
      "source": [
        "## 4.3 Make Siamese Model"
      ],
      "metadata": {
        "id": "z89sNv6DVhct"
      }
    },
    {
      "cell_type": "code",
      "source": [
        "def make_siamese_model():\n",
        "\n",
        "    # Anchor image input in the network\n",
        "    input_image = Input(name='input_img', shape=(100,100,3))\n",
        "\n",
        "    # Validation image in the network\n",
        "    validation_image = Input(name='validation_img', shape=(100,100,3))\n",
        "\n",
        "    # Combine siamese distance components\n",
        "    siamese_layer = L1Dist()\n",
        "    siamese_layer._name = 'distance'\n",
        "    distances = siamese_layer(embedding(input_image), embedding(validation_image))\n",
        "\n",
        "    # Classification layer\n",
        "    classifier = Dense(1, activation='sigmoid')(distances)\n",
        "\n",
        "    return Model(inputs=[input_image, validation_image], outputs=classifier, name='SiameseNetwork')"
      ],
      "metadata": {
        "id": "fJkn_Xo0VkNZ"
      },
      "execution_count": null,
      "outputs": []
    },
    {
      "cell_type": "code",
      "source": [
        "siamese_model = make_siamese_model()"
      ],
      "metadata": {
        "id": "W2fb6Z0HVqhK"
      },
      "execution_count": null,
      "outputs": []
    },
    {
      "cell_type": "code",
      "source": [
        "siamese_model.summary()"
      ],
      "metadata": {
        "colab": {
          "base_uri": "https://localhost:8080/"
        },
        "id": "AX4OzTtxVshp",
        "outputId": "b005f70f-42dc-467f-c101-78d6d69c82af"
      },
      "execution_count": null,
      "outputs": [
        {
          "output_type": "stream",
          "name": "stdout",
          "text": [
            "Model: \"SiameseNetwork\"\n",
            "__________________________________________________________________________________________________\n",
            " Layer (type)                   Output Shape         Param #     Connected to                     \n",
            "==================================================================================================\n",
            " input_img (InputLayer)         [(None, 100, 100, 3  0           []                               \n",
            "                                )]                                                                \n",
            "                                                                                                  \n",
            " validation_img (InputLayer)    [(None, 100, 100, 3  0           []                               \n",
            "                                )]                                                                \n",
            "                                                                                                  \n",
            " embedding (Functional)         (None, 4096)         38960448    ['input_img[0][0]',              \n",
            "                                                                  'validation_img[0][0]']         \n",
            "                                                                                                  \n",
            " distance (L1Dist)              (None, 4096)         0           ['embedding[0][0]',              \n",
            "                                                                  'embedding[1][0]']              \n",
            "                                                                                                  \n",
            " dense_1 (Dense)                (None, 1)            4097        ['distance[0][0]']               \n",
            "                                                                                                  \n",
            "==================================================================================================\n",
            "Total params: 38,964,545\n",
            "Trainable params: 38,964,545\n",
            "Non-trainable params: 0\n",
            "__________________________________________________________________________________________________\n"
          ]
        }
      ]
    },
    {
      "cell_type": "markdown",
      "source": [
        "# 5. Training"
      ],
      "metadata": {
        "id": "ye-yC-ZkVvLz"
      }
    },
    {
      "cell_type": "markdown",
      "source": [
        "## 5.1 Setup Loss and Optimizer"
      ],
      "metadata": {
        "id": "XpcK7S6yVyNF"
      }
    },
    {
      "cell_type": "code",
      "source": [
        "binary_cross_loss = tf.losses.BinaryCrossentropy()"
      ],
      "metadata": {
        "id": "io-JkKhOVwBU"
      },
      "execution_count": null,
      "outputs": []
    },
    {
      "cell_type": "code",
      "source": [
        "opt = tf.keras.optimizers.Adam(1e-4) # 0.0001"
      ],
      "metadata": {
        "id": "GRCGVmDnV1Ob"
      },
      "execution_count": null,
      "outputs": []
    },
    {
      "cell_type": "markdown",
      "source": [
        "## 5.2 Establish Checkpoints"
      ],
      "metadata": {
        "id": "Ta4Fse3SV4kX"
      }
    },
    {
      "cell_type": "code",
      "source": [
        "!mkdir training_checkpoints"
      ],
      "metadata": {
        "id": "xzWUJ-RXV-Ss"
      },
      "execution_count": null,
      "outputs": []
    },
    {
      "cell_type": "code",
      "source": [
        "checkpoint_dir = '/content/training_checkpoints'\n",
        "checkpoint_prefix = os.path.join(checkpoint_dir, 'ckpt')\n",
        "checkpoint = tf.train.Checkpoint(opt=opt, siamese_model=siamese_model)"
      ],
      "metadata": {
        "id": "Nc91zSumV5cW"
      },
      "execution_count": null,
      "outputs": []
    },
    {
      "cell_type": "markdown",
      "source": [
        "## 5.3 Build Train Step Function"
      ],
      "metadata": {
        "id": "A_BtrJJhWJD9"
      }
    },
    {
      "cell_type": "code",
      "source": [
        "@tf.function\n",
        "def train_step(batch):\n",
        "\n",
        "    # Record all of our operations\n",
        "    with tf.GradientTape() as tape:\n",
        "        # Get anchor and positive/negative image\n",
        "        X = batch[:2]\n",
        "        # Get label\n",
        "        y = batch[2]\n",
        "\n",
        "        # Forward pass\n",
        "        yhat = siamese_model(X, training=True)\n",
        "        # Calculate loss\n",
        "        loss = binary_cross_loss(y, yhat)\n",
        "    print(loss)\n",
        "\n",
        "    # Calculate gradients\n",
        "    grad = tape.gradient(loss, siamese_model.trainable_variables)\n",
        "\n",
        "    # Calculate updated weights and apply to siamese model\n",
        "    opt.apply_gradients(zip(grad, siamese_model.trainable_variables))\n",
        "\n",
        "    # Return loss\n",
        "    return loss"
      ],
      "metadata": {
        "id": "__Z0XCcoWKJd"
      },
      "execution_count": null,
      "outputs": []
    },
    {
      "cell_type": "markdown",
      "source": [
        "## 5.4 Build Training Loop"
      ],
      "metadata": {
        "id": "ri5AetclWN5D"
      }
    },
    {
      "cell_type": "code",
      "source": [
        "# Import metric calculations\n",
        "from tensorflow.keras.metrics import Precision, Recall"
      ],
      "metadata": {
        "id": "fRLw3GKVl2mb"
      },
      "execution_count": null,
      "outputs": []
    },
    {
      "cell_type": "code",
      "source": [
        "def train(data, EPOCHS):\n",
        "    # Loop through epochs\n",
        "    for epoch in range(1, EPOCHS+1):\n",
        "        print('\\n Epoch {}/{}'.format(epoch, EPOCHS))\n",
        "        progbar = tf.keras.utils.Progbar(len(data))\n",
        "\n",
        "        # Creating a metric object\n",
        "        r = Recall()\n",
        "        p = Precision()\n",
        "\n",
        "        # Loop through each batch\n",
        "        for idx, batch in enumerate(data):\n",
        "            # Run train step here\n",
        "            loss = train_step(batch)\n",
        "            yhat = siamese_model.predict(batch[:2])\n",
        "            r.update_state(batch[2], yhat)\n",
        "            p.update_state(batch[2], yhat)\n",
        "            progbar.update(idx+1)\n",
        "        print(loss.numpy(), r.result().numpy(), p.result().numpy())\n",
        "\n",
        "        # Save checkpoints\n",
        "        if epoch % 10 == 0:\n",
        "            checkpoint.save(file_prefix=checkpoint_prefix)"
      ],
      "metadata": {
        "id": "UsPgb_-gWQMo"
      },
      "execution_count": null,
      "outputs": []
    },
    {
      "cell_type": "markdown",
      "source": [
        "## 5.5 Train the model"
      ],
      "metadata": {
        "id": "KvLqw4s0WT17"
      }
    },
    {
      "cell_type": "code",
      "source": [
        "EPOCHS = 50"
      ],
      "metadata": {
        "id": "fW9RSg_CWVAy"
      },
      "execution_count": null,
      "outputs": []
    },
    {
      "cell_type": "code",
      "source": [
        "train(train_data,EPOCHS)"
      ],
      "metadata": {
        "colab": {
          "base_uri": "https://localhost:8080/",
          "height": 1000
        },
        "id": "Efu-9SbXWXaP",
        "outputId": "fcb1fb0f-14e5-459e-9d03-6d543376f33a"
      },
      "execution_count": null,
      "outputs": [
        {
          "output_type": "stream",
          "name": "stdout",
          "text": [
            "\n",
            " Epoch 1/50\n",
            "1/1 [==============================] - 0s 208ms/step\n",
            "1/1 [==============================] - 0s 130ms/step\n",
            "1/1 [==============================] - 0s 129ms/step\n",
            "1/1 [==============================] - 0s 124ms/step\n",
            "1/1 [==============================] - 0s 131ms/step\n",
            "1/1 [==============================] - 0s 103ms/step\n",
            "1/1 [==============================] - 0s 115ms/step\n",
            "1/1 [==============================] - 0s 121ms/step\n",
            "1/1 [==============================] - 0s 115ms/step\n",
            "1/1 [==============================] - 0s 116ms/step\n",
            "1/1 [==============================] - 0s 116ms/step\n",
            "1/1 [==============================] - 0s 112ms/step\n",
            "1/1 [==============================] - 0s 120ms/step\n",
            "1/1 [==============================] - 0s 110ms/step\n",
            "1/1 [==============================] - 0s 122ms/step\n",
            "1/1 [==============================] - 0s 117ms/step\n",
            "1/1 [==============================] - 0s 132ms/step\n",
            "1/1 [==============================] - 0s 129ms/step\n",
            "1/1 [==============================] - 0s 131ms/step\n",
            "1/1 [==============================] - 0s 112ms/step\n",
            "1/1 [==============================] - 0s 118ms/step\n",
            "1/1 [==============================] - 0s 120ms/step\n",
            "1/1 [==============================] - 0s 108ms/step\n",
            "1/1 [==============================] - 0s 123ms/step\n",
            "1/1 [==============================] - 0s 127ms/step\n",
            "1/1 [==============================] - 0s 113ms/step\n",
            "1/1 [==============================] - 0s 119ms/step\n",
            "1/1 [==============================] - 0s 113ms/step\n",
            "1/1 [==============================] - 0s 145ms/step\n",
            "1/1 [==============================] - 0s 136ms/step\n",
            "1/1 [==============================] - 0s 131ms/step\n",
            "1/1 [==============================] - 0s 140ms/step\n",
            "1/1 [==============================] - 0s 130ms/step\n",
            "1/1 [==============================] - 0s 134ms/step\n",
            "1/1 [==============================] - 0s 138ms/step\n",
            "1/1 [==============================] - 0s 135ms/step\n",
            "1/1 [==============================] - 0s 130ms/step\n",
            "1/1 [==============================] - 0s 132ms/step\n",
            "1/1 [==============================] - 0s 132ms/step\n",
            "1/1 [==============================] - 0s 127ms/step\n",
            "1/1 [==============================] - 0s 138ms/step\n",
            "1/1 [==============================] - 0s 136ms/step\n",
            "1/1 [==============================] - 0s 142ms/step\n",
            "1/1 [==============================] - 0s 139ms/step\n",
            "1/1 [==============================] - 0s 132ms/step\n",
            "1/1 [==============================] - 0s 136ms/step\n",
            "1/1 [==============================] - 0s 125ms/step\n",
            "1/1 [==============================] - 0s 137ms/step\n",
            "1/1 [==============================] - 0s 133ms/step\n",
            "1/1 [==============================] - 0s 139ms/step\n",
            "1/1 [==============================] - 0s 136ms/step\n",
            "1/1 [==============================] - 0s 137ms/step\n",
            "1/1 [==============================] - 0s 131ms/step\n",
            "1/1 [==============================] - 0s 139ms/step\n",
            "1/1 [==============================] - 0s 128ms/step\n",
            "1/1 [==============================] - 0s 135ms/step\n",
            "1/1 [==============================] - 0s 130ms/step\n",
            "1/1 [==============================] - 0s 134ms/step\n",
            "1/1 [==============================] - 0s 139ms/step\n",
            "1/1 [==============================] - 0s 138ms/step\n",
            "1/1 [==============================] - 0s 132ms/step\n",
            "1/1 [==============================] - 0s 134ms/step\n",
            "1/1 [==============================] - 0s 136ms/step\n",
            "1/1 [==============================] - 0s 136ms/step\n",
            "1/1 [==============================] - 0s 95ms/step\n",
            "1/1 [==============================] - 0s 131ms/step\n",
            "1/1 [==============================] - 0s 133ms/step\n",
            "1/1 [==============================] - 0s 143ms/step\n",
            "1/1 [==============================] - 0s 193ms/step\n",
            "1/1 [==============================] - 0s 37ms/step\n",
            "1/1 [==============================] - 0s 116ms/step\n",
            "1/1 [==============================] - 0s 115ms/step\n",
            "1/1 [==============================] - 0s 107ms/step\n",
            "1/1 [==============================] - 0s 122ms/step\n",
            "1/1 [==============================] - 0s 123ms/step\n",
            "1/1 [==============================] - 0s 123ms/step\n",
            "1/1 [==============================] - 0s 119ms/step\n",
            "1/1 [==============================] - 0s 124ms/step\n",
            "1/1 [==============================] - 0s 131ms/step\n",
            "1/1 [==============================] - 0s 138ms/step\n",
            "1/1 [==============================] - 0s 138ms/step\n",
            "1/1 [==============================] - 0s 138ms/step\n",
            "1/1 [==============================] - 0s 136ms/step\n",
            "1/1 [==============================] - 0s 136ms/step\n",
            "1/1 [==============================] - 0s 137ms/step\n",
            "1/1 [==============================] - 0s 132ms/step\n",
            "1/1 [==============================] - 0s 129ms/step\n",
            "1/1 [==============================] - 0s 136ms/step\n",
            "1/1 [==============================] - 0s 139ms/step\n",
            "1/1 [==============================] - 0s 135ms/step\n",
            "1/1 [==============================] - 0s 138ms/step\n",
            "1/1 [==============================] - 0s 141ms/step\n",
            "1/1 [==============================] - 0s 132ms/step\n",
            "1/1 [==============================] - 0s 138ms/step\n",
            "1/1 [==============================] - 0s 140ms/step\n",
            "1/1 [==============================] - 0s 131ms/step\n",
            "1/1 [==============================] - 0s 128ms/step\n",
            "1/1 [==============================] - 0s 135ms/step\n",
            "1/1 [==============================] - 0s 132ms/step\n",
            "1/1 [==============================] - 0s 135ms/step\n",
            "1/1 [==============================] - 0s 137ms/step\n",
            "1/1 [==============================] - 0s 135ms/step\n",
            "1/1 [==============================] - 0s 134ms/step\n",
            "1/1 [==============================] - 0s 134ms/step\n",
            "1/1 [==============================] - 0s 127ms/step\n",
            "1/1 [==============================] - 0s 140ms/step\n",
            "1/1 [==============================] - 0s 142ms/step\n",
            "1/1 [==============================] - 0s 125ms/step\n",
            "1/1 [==============================] - 0s 129ms/step\n",
            "1/1 [==============================] - 0s 137ms/step\n",
            "1/1 [==============================] - 0s 136ms/step\n",
            "1/1 [==============================] - 0s 135ms/step\n",
            "1/1 [==============================] - 0s 134ms/step\n",
            "1/1 [==============================] - 0s 135ms/step\n",
            "1/1 [==============================] - 0s 135ms/step\n",
            "1/1 [==============================] - 0s 115ms/step\n",
            "1/1 [==============================] - 0s 122ms/step\n",
            "1/1 [==============================] - 0s 127ms/step\n",
            "1/1 [==============================] - 0s 124ms/step\n",
            "1/1 [==============================] - 0s 111ms/step\n",
            "1/1 [==============================] - 0s 112ms/step\n",
            "1/1 [==============================] - 0s 118ms/step\n",
            "1/1 [==============================] - 0s 119ms/step\n",
            "1/1 [==============================] - 0s 115ms/step\n",
            "1/1 [==============================] - 0s 121ms/step\n",
            "1/1 [==============================] - 0s 122ms/step\n",
            "1/1 [==============================] - 0s 139ms/step\n",
            "1/1 [==============================] - 0s 132ms/step\n",
            "1/1 [==============================] - 0s 131ms/step\n",
            "1/1 [==============================] - 0s 127ms/step\n",
            "1/1 [==============================] - 0s 131ms/step\n",
            "1/1 [==============================] - 0s 137ms/step\n",
            "1/1 [==============================] - 0s 136ms/step\n",
            "1/1 [==============================] - 0s 132ms/step\n",
            "1/1 [==============================] - 0s 138ms/step\n",
            "1/1 [==============================] - 0s 134ms/step\n",
            "1/1 [==============================] - 0s 135ms/step\n",
            "1/1 [==============================] - 0s 126ms/step\n",
            "1/1 [==============================] - 0s 136ms/step\n",
            "1/1 [==============================] - 0s 135ms/step\n",
            "1/1 [==============================] - 0s 132ms/step\n",
            "1/1 [==============================] - 0s 131ms/step\n",
            "1/1 [==============================] - 0s 139ms/step\n",
            "1/1 [==============================] - 0s 138ms/step\n",
            "1/1 [==============================] - 0s 138ms/step\n",
            "1/1 [==============================] - 0s 132ms/step\n",
            "1/1 [==============================] - 0s 134ms/step\n",
            "1/1 [==============================] - 0s 133ms/step\n",
            "1/1 [==============================] - 0s 129ms/step\n",
            "1/1 [==============================] - 0s 135ms/step\n",
            "1/1 [==============================] - 0s 134ms/step\n",
            "1/1 [==============================] - 0s 131ms/step\n",
            "1/1 [==============================] - 0s 134ms/step\n",
            "1/1 [==============================] - 0s 127ms/step\n",
            "1/1 [==============================] - 0s 138ms/step\n",
            "1/1 [==============================] - 0s 134ms/step\n",
            "1/1 [==============================] - 0s 132ms/step\n",
            "1/1 [==============================] - 0s 139ms/step\n",
            "1/1 [==============================] - 0s 134ms/step\n",
            "1/1 [==============================] - 0s 135ms/step\n",
            "1/1 [==============================] - 0s 134ms/step\n",
            "1/1 [==============================] - 0s 127ms/step\n",
            "1/1 [==============================] - 0s 132ms/step\n",
            "1/1 [==============================] - 0s 129ms/step\n",
            "1/1 [==============================] - 0s 136ms/step\n",
            "1/1 [==============================] - 0s 116ms/step\n",
            "1/1 [==============================] - 0s 120ms/step\n",
            "1/1 [==============================] - 0s 117ms/step\n",
            "1/1 [==============================] - 0s 115ms/step\n",
            "1/1 [==============================] - 0s 105ms/step\n",
            "1/1 [==============================] - 0s 121ms/step\n",
            "1/1 [==============================] - 0s 111ms/step\n",
            "1/1 [==============================] - 0s 118ms/step\n",
            "1/1 [==============================] - 0s 111ms/step\n",
            "1/1 [==============================] - 0s 111ms/step\n",
            "1/1 [==============================] - 0s 119ms/step\n",
            "1/1 [==============================] - 0s 134ms/step\n",
            "1/1 [==============================] - 0s 135ms/step\n",
            "1/1 [==============================] - 0s 127ms/step\n",
            "1/1 [==============================] - 0s 126ms/step\n",
            "1/1 [==============================] - 0s 130ms/step\n",
            "1/1 [==============================] - 0s 137ms/step\n",
            "1/1 [==============================] - 0s 128ms/step\n",
            "1/1 [==============================] - 0s 134ms/step\n",
            "1/1 [==============================] - 0s 132ms/step\n",
            "1/1 [==============================] - 0s 136ms/step\n",
            "1/1 [==============================] - 0s 132ms/step\n",
            "1/1 [==============================] - 0s 127ms/step\n",
            "1/1 [==============================] - 0s 131ms/step\n",
            "1/1 [==============================] - 0s 136ms/step\n",
            "1/1 [==============================] - 0s 138ms/step\n",
            "1/1 [==============================] - 0s 135ms/step\n",
            "1/1 [==============================] - 0s 140ms/step\n",
            "1/1 [==============================] - 0s 127ms/step\n",
            "1/1 [==============================] - 0s 124ms/step\n",
            "1/1 [==============================] - 0s 131ms/step\n",
            "1/1 [==============================] - 0s 131ms/step\n",
            "1/1 [==============================] - 0s 124ms/step\n",
            "1/1 [==============================] - 0s 138ms/step\n",
            "1/1 [==============================] - 0s 125ms/step\n",
            "1/1 [==============================] - 0s 134ms/step\n",
            "1/1 [==============================] - 0s 130ms/step\n",
            "1/1 [==============================] - 0s 131ms/step\n",
            "1/1 [==============================] - 0s 136ms/step\n",
            "1/1 [==============================] - 0s 133ms/step\n",
            "1/1 [==============================] - 0s 135ms/step\n",
            "1/1 [==============================] - 0s 132ms/step\n",
            "1/1 [==============================] - 0s 133ms/step\n",
            "1/1 [==============================] - 0s 127ms/step\n",
            "1/1 [==============================] - 0s 135ms/step\n",
            "1/1 [==============================] - 0s 125ms/step\n",
            "1/1 [==============================] - 0s 127ms/step\n",
            "1/1 [==============================] - 0s 132ms/step\n",
            "1/1 [==============================] - 0s 112ms/step\n",
            "1/1 [==============================] - 0s 125ms/step\n",
            "1/1 [==============================] - 0s 117ms/step\n",
            "1/1 [==============================] - 0s 124ms/step\n",
            "1/1 [==============================] - 0s 121ms/step\n",
            "1/1 [==============================] - 0s 115ms/step\n",
            "1/1 [==============================] - 0s 112ms/step\n",
            "1/1 [==============================] - 0s 115ms/step\n",
            "1/1 [==============================] - 0s 109ms/step\n",
            "1/1 [==============================] - 0s 114ms/step\n",
            "1/1 [==============================] - 0s 127ms/step\n",
            "1/1 [==============================] - 0s 129ms/step\n",
            "1/1 [==============================] - 0s 134ms/step\n",
            "1/1 [==============================] - 0s 132ms/step\n",
            "1/1 [==============================] - 0s 137ms/step\n",
            "1/1 [==============================] - 0s 135ms/step\n",
            "1/1 [==============================] - 0s 130ms/step\n",
            "1/1 [==============================] - 0s 133ms/step\n",
            "1/1 [==============================] - 0s 132ms/step\n",
            "1/1 [==============================] - 0s 136ms/step\n",
            "1/1 [==============================] - 0s 135ms/step\n",
            "1/1 [==============================] - 0s 132ms/step\n",
            "1/1 [==============================] - 0s 131ms/step\n",
            "1/1 [==============================] - 0s 139ms/step\n",
            "1/1 [==============================] - 0s 131ms/step\n",
            "1/1 [==============================] - 0s 132ms/step\n",
            "1/1 [==============================] - 0s 133ms/step\n",
            "1/1 [==============================] - 0s 139ms/step\n",
            "1/1 [==============================] - 0s 137ms/step\n",
            "1/1 [==============================] - 0s 133ms/step\n",
            "1/1 [==============================] - 0s 130ms/step\n",
            "1/1 [==============================] - 0s 132ms/step\n",
            "1/1 [==============================] - 0s 136ms/step\n",
            "1/1 [==============================] - 0s 134ms/step\n",
            "1/1 [==============================] - 0s 133ms/step\n",
            "1/1 [==============================] - 0s 131ms/step\n",
            "1/1 [==============================] - 0s 132ms/step\n",
            "1/1 [==============================] - 0s 131ms/step\n",
            "1/1 [==============================] - 0s 132ms/step\n",
            "1/1 [==============================] - 0s 124ms/step\n",
            "1/1 [==============================] - 0s 135ms/step\n",
            "1/1 [==============================] - 0s 137ms/step\n",
            "1/1 [==============================] - 0s 126ms/step\n",
            "1/1 [==============================] - 0s 136ms/step\n",
            "1/1 [==============================] - 0s 132ms/step\n",
            "1/1 [==============================] - 0s 132ms/step\n",
            "1/1 [==============================] - 0s 139ms/step\n",
            "1/1 [==============================] - 0s 130ms/step\n",
            "1/1 [==============================] - 0s 132ms/step\n",
            "1/1 [==============================] - 0s 41ms/step\n",
            "263/263 [==============================] - 73s 277ms/step\n",
            "0.11562785 0.98579544 0.99808246\n",
            "\n",
            " Epoch 2/50\n",
            "1/1 [==============================] - 0s 257ms/step\n",
            "1/1 [==============================] - 0s 132ms/step\n",
            "1/1 [==============================] - 0s 129ms/step\n",
            "1/1 [==============================] - 0s 130ms/step\n",
            "1/1 [==============================] - 0s 131ms/step\n",
            "1/1 [==============================] - 0s 129ms/step\n",
            "1/1 [==============================] - 0s 137ms/step\n",
            "1/1 [==============================] - 0s 134ms/step\n",
            "1/1 [==============================] - 0s 123ms/step\n",
            "1/1 [==============================] - 0s 116ms/step\n",
            "1/1 [==============================] - 0s 129ms/step\n",
            "1/1 [==============================] - 0s 133ms/step\n",
            "1/1 [==============================] - 0s 107ms/step\n",
            "1/1 [==============================] - 0s 115ms/step\n",
            "1/1 [==============================] - 0s 107ms/step\n",
            "1/1 [==============================] - 0s 112ms/step\n",
            "1/1 [==============================] - 0s 117ms/step\n",
            "1/1 [==============================] - 0s 104ms/step\n",
            "1/1 [==============================] - 0s 121ms/step\n",
            "1/1 [==============================] - 0s 111ms/step\n",
            "1/1 [==============================] - 0s 123ms/step\n",
            "1/1 [==============================] - 0s 108ms/step\n",
            "1/1 [==============================] - 0s 129ms/step\n",
            "1/1 [==============================] - 0s 121ms/step\n",
            "1/1 [==============================] - 0s 129ms/step\n",
            "1/1 [==============================] - 0s 135ms/step\n",
            "1/1 [==============================] - 0s 134ms/step\n",
            "1/1 [==============================] - 0s 132ms/step\n",
            "1/1 [==============================] - 0s 133ms/step\n",
            "1/1 [==============================] - 0s 125ms/step\n",
            "1/1 [==============================] - 0s 134ms/step\n",
            "1/1 [==============================] - 0s 130ms/step\n",
            "1/1 [==============================] - 0s 137ms/step\n",
            "1/1 [==============================] - 0s 133ms/step\n",
            "1/1 [==============================] - 0s 137ms/step\n",
            "1/1 [==============================] - 0s 132ms/step\n",
            "1/1 [==============================] - 0s 130ms/step\n",
            "1/1 [==============================] - 0s 126ms/step\n",
            "1/1 [==============================] - 0s 139ms/step\n",
            "1/1 [==============================] - 0s 132ms/step\n",
            "1/1 [==============================] - 0s 130ms/step\n",
            "1/1 [==============================] - 0s 138ms/step\n",
            "1/1 [==============================] - 0s 136ms/step\n",
            "1/1 [==============================] - 0s 130ms/step\n",
            "1/1 [==============================] - 0s 131ms/step\n",
            "1/1 [==============================] - 0s 127ms/step\n",
            "1/1 [==============================] - 0s 135ms/step\n",
            "1/1 [==============================] - 0s 134ms/step\n",
            "1/1 [==============================] - 0s 132ms/step\n",
            "1/1 [==============================] - 0s 134ms/step\n",
            "1/1 [==============================] - 0s 131ms/step\n",
            "1/1 [==============================] - 0s 134ms/step\n",
            "1/1 [==============================] - 0s 139ms/step\n",
            "1/1 [==============================] - 0s 127ms/step\n",
            "1/1 [==============================] - 0s 125ms/step\n",
            "1/1 [==============================] - 0s 132ms/step\n",
            "1/1 [==============================] - 0s 131ms/step\n",
            "1/1 [==============================] - 0s 128ms/step\n",
            "1/1 [==============================] - 0s 133ms/step\n",
            "1/1 [==============================] - 0s 133ms/step\n",
            "1/1 [==============================] - 0s 135ms/step\n",
            "1/1 [==============================] - 0s 105ms/step\n",
            "1/1 [==============================] - 0s 112ms/step\n",
            "1/1 [==============================] - 0s 118ms/step\n",
            "1/1 [==============================] - 0s 105ms/step\n",
            "1/1 [==============================] - 0s 121ms/step\n",
            "1/1 [==============================] - 0s 119ms/step\n",
            "1/1 [==============================] - 0s 124ms/step\n",
            "1/1 [==============================] - 0s 116ms/step\n",
            "1/1 [==============================] - 0s 114ms/step\n",
            "1/1 [==============================] - 0s 119ms/step\n",
            "1/1 [==============================] - 0s 122ms/step\n",
            "1/1 [==============================] - 0s 136ms/step\n",
            "1/1 [==============================] - 0s 137ms/step\n",
            "1/1 [==============================] - 0s 133ms/step\n",
            "1/1 [==============================] - 0s 136ms/step\n",
            "1/1 [==============================] - 0s 123ms/step\n",
            "1/1 [==============================] - 0s 127ms/step\n",
            "1/1 [==============================] - 0s 134ms/step\n",
            "1/1 [==============================] - 0s 132ms/step\n",
            "1/1 [==============================] - 0s 134ms/step\n",
            "1/1 [==============================] - 0s 137ms/step\n",
            "1/1 [==============================] - 0s 136ms/step\n",
            "1/1 [==============================] - 0s 138ms/step\n",
            "1/1 [==============================] - 0s 129ms/step\n",
            "1/1 [==============================] - 0s 128ms/step\n",
            "1/1 [==============================] - 0s 136ms/step\n",
            "1/1 [==============================] - 0s 134ms/step\n",
            "1/1 [==============================] - 0s 130ms/step\n",
            "1/1 [==============================] - 0s 137ms/step\n",
            "1/1 [==============================] - 0s 135ms/step\n",
            "1/1 [==============================] - 0s 128ms/step\n",
            "1/1 [==============================] - 0s 128ms/step\n",
            "1/1 [==============================] - 0s 127ms/step\n",
            "1/1 [==============================] - 0s 131ms/step\n",
            "1/1 [==============================] - 0s 132ms/step\n",
            "1/1 [==============================] - 0s 127ms/step\n",
            "1/1 [==============================] - 0s 133ms/step\n",
            "1/1 [==============================] - 0s 132ms/step\n",
            "1/1 [==============================] - 0s 134ms/step\n",
            "1/1 [==============================] - 0s 131ms/step\n",
            "1/1 [==============================] - 0s 127ms/step\n",
            "1/1 [==============================] - 0s 128ms/step\n",
            "1/1 [==============================] - 0s 132ms/step\n",
            "1/1 [==============================] - 0s 135ms/step\n",
            "1/1 [==============================] - 0s 137ms/step\n",
            "1/1 [==============================] - 0s 135ms/step\n",
            "1/1 [==============================] - 0s 133ms/step\n",
            "1/1 [==============================] - 0s 132ms/step\n",
            "1/1 [==============================] - 0s 132ms/step\n",
            "1/1 [==============================] - 0s 107ms/step\n",
            "1/1 [==============================] - 0s 116ms/step\n",
            "1/1 [==============================] - 0s 127ms/step\n",
            "1/1 [==============================] - 0s 123ms/step\n",
            "1/1 [==============================] - 0s 122ms/step\n",
            "1/1 [==============================] - 0s 113ms/step\n",
            "1/1 [==============================] - 0s 117ms/step\n",
            "1/1 [==============================] - 0s 118ms/step\n",
            "1/1 [==============================] - 0s 107ms/step\n",
            "1/1 [==============================] - 0s 119ms/step\n",
            "1/1 [==============================] - 0s 116ms/step\n",
            "1/1 [==============================] - 0s 133ms/step\n",
            "1/1 [==============================] - 0s 139ms/step\n",
            "1/1 [==============================] - 0s 135ms/step\n",
            "1/1 [==============================] - 0s 134ms/step\n",
            "1/1 [==============================] - 0s 132ms/step\n",
            "1/1 [==============================] - 0s 124ms/step\n",
            "1/1 [==============================] - 0s 134ms/step\n",
            "1/1 [==============================] - 0s 133ms/step\n",
            "1/1 [==============================] - 0s 137ms/step\n",
            "1/1 [==============================] - 0s 125ms/step\n",
            "1/1 [==============================] - 0s 131ms/step\n",
            "1/1 [==============================] - 0s 131ms/step\n",
            "1/1 [==============================] - 0s 132ms/step\n",
            "1/1 [==============================] - 0s 128ms/step\n",
            "1/1 [==============================] - 0s 127ms/step\n",
            "1/1 [==============================] - 0s 134ms/step\n",
            "1/1 [==============================] - 0s 127ms/step\n",
            "1/1 [==============================] - 0s 133ms/step\n",
            "1/1 [==============================] - 0s 127ms/step\n",
            "1/1 [==============================] - 0s 130ms/step\n",
            "1/1 [==============================] - 0s 128ms/step\n",
            "1/1 [==============================] - 0s 124ms/step\n",
            "1/1 [==============================] - 0s 131ms/step\n",
            "1/1 [==============================] - 0s 128ms/step\n",
            "1/1 [==============================] - 0s 135ms/step\n",
            "1/1 [==============================] - 0s 130ms/step\n",
            "1/1 [==============================] - 0s 131ms/step\n",
            "1/1 [==============================] - 0s 128ms/step\n",
            "1/1 [==============================] - 0s 125ms/step\n",
            "1/1 [==============================] - 0s 134ms/step\n",
            "1/1 [==============================] - 0s 125ms/step\n",
            "1/1 [==============================] - 0s 121ms/step\n",
            "1/1 [==============================] - 0s 133ms/step\n",
            "1/1 [==============================] - 0s 137ms/step\n",
            "1/1 [==============================] - 0s 140ms/step\n",
            "1/1 [==============================] - 0s 129ms/step\n",
            "1/1 [==============================] - 0s 130ms/step\n",
            "1/1 [==============================] - 0s 125ms/step\n",
            "1/1 [==============================] - 0s 104ms/step\n",
            "1/1 [==============================] - 0s 99ms/step\n",
            "1/1 [==============================] - 0s 109ms/step\n",
            "1/1 [==============================] - 0s 118ms/step\n",
            "1/1 [==============================] - 0s 117ms/step\n",
            "1/1 [==============================] - 0s 111ms/step\n",
            "1/1 [==============================] - 0s 116ms/step\n",
            "1/1 [==============================] - 0s 104ms/step\n",
            "1/1 [==============================] - 0s 110ms/step\n",
            "1/1 [==============================] - 0s 116ms/step\n",
            "1/1 [==============================] - 0s 117ms/step\n",
            "1/1 [==============================] - 0s 121ms/step\n",
            "1/1 [==============================] - 0s 127ms/step\n",
            "1/1 [==============================] - 0s 137ms/step\n",
            "1/1 [==============================] - 0s 131ms/step\n",
            "1/1 [==============================] - 0s 133ms/step\n",
            "1/1 [==============================] - 0s 124ms/step\n",
            "1/1 [==============================] - 0s 130ms/step\n",
            "1/1 [==============================] - 0s 133ms/step\n",
            "1/1 [==============================] - 0s 131ms/step\n",
            "1/1 [==============================] - 0s 128ms/step\n",
            "1/1 [==============================] - 0s 135ms/step\n",
            "1/1 [==============================] - 0s 132ms/step\n",
            "1/1 [==============================] - 0s 128ms/step\n",
            "1/1 [==============================] - 0s 127ms/step\n",
            "1/1 [==============================] - 0s 129ms/step\n",
            "1/1 [==============================] - 0s 132ms/step\n",
            "1/1 [==============================] - 0s 132ms/step\n",
            "1/1 [==============================] - 0s 132ms/step\n",
            "1/1 [==============================] - 0s 128ms/step\n",
            "1/1 [==============================] - 0s 134ms/step\n",
            "1/1 [==============================] - 0s 129ms/step\n",
            "1/1 [==============================] - 0s 129ms/step\n",
            "1/1 [==============================] - 0s 112ms/step\n",
            "1/1 [==============================] - 0s 131ms/step\n",
            "1/1 [==============================] - 0s 129ms/step\n",
            "1/1 [==============================] - 0s 131ms/step\n",
            "1/1 [==============================] - 0s 135ms/step\n",
            "1/1 [==============================] - 0s 128ms/step\n",
            "1/1 [==============================] - 0s 124ms/step\n",
            "1/1 [==============================] - 0s 132ms/step\n",
            "1/1 [==============================] - 0s 126ms/step\n",
            "1/1 [==============================] - 0s 136ms/step\n",
            "1/1 [==============================] - 0s 128ms/step\n",
            "1/1 [==============================] - 0s 132ms/step\n",
            "1/1 [==============================] - 0s 124ms/step\n",
            "1/1 [==============================] - 0s 128ms/step\n",
            "1/1 [==============================] - 0s 130ms/step\n",
            "1/1 [==============================] - 0s 133ms/step\n",
            "1/1 [==============================] - 0s 105ms/step\n",
            "1/1 [==============================] - 0s 112ms/step\n",
            "1/1 [==============================] - 0s 114ms/step\n",
            "1/1 [==============================] - 0s 120ms/step\n",
            "1/1 [==============================] - 0s 114ms/step\n",
            "1/1 [==============================] - 0s 113ms/step\n",
            "1/1 [==============================] - 0s 118ms/step\n",
            "1/1 [==============================] - 0s 110ms/step\n",
            "1/1 [==============================] - 0s 106ms/step\n",
            "1/1 [==============================] - 0s 111ms/step\n",
            "1/1 [==============================] - 0s 111ms/step\n",
            "1/1 [==============================] - 0s 110ms/step\n",
            "1/1 [==============================] - 0s 107ms/step\n",
            "1/1 [==============================] - 0s 134ms/step\n",
            "1/1 [==============================] - 0s 132ms/step\n",
            "1/1 [==============================] - 0s 129ms/step\n",
            "1/1 [==============================] - 0s 124ms/step\n",
            "1/1 [==============================] - 0s 123ms/step\n",
            "1/1 [==============================] - 0s 123ms/step\n",
            "1/1 [==============================] - 0s 128ms/step\n",
            "1/1 [==============================] - 0s 131ms/step\n",
            "1/1 [==============================] - 0s 128ms/step\n",
            "1/1 [==============================] - 0s 130ms/step\n",
            "1/1 [==============================] - 0s 132ms/step\n",
            "1/1 [==============================] - 0s 124ms/step\n",
            "1/1 [==============================] - 0s 112ms/step\n",
            "1/1 [==============================] - 0s 129ms/step\n",
            "1/1 [==============================] - 0s 127ms/step\n",
            "1/1 [==============================] - 0s 128ms/step\n",
            "1/1 [==============================] - 0s 129ms/step\n",
            "1/1 [==============================] - 0s 130ms/step\n",
            "1/1 [==============================] - 0s 133ms/step\n",
            "1/1 [==============================] - 0s 128ms/step\n",
            "1/1 [==============================] - 0s 120ms/step\n",
            "1/1 [==============================] - 0s 113ms/step\n",
            "1/1 [==============================] - 0s 130ms/step\n",
            "1/1 [==============================] - 0s 130ms/step\n",
            "1/1 [==============================] - 0s 127ms/step\n",
            "1/1 [==============================] - 0s 131ms/step\n",
            "1/1 [==============================] - 0s 127ms/step\n",
            "1/1 [==============================] - 0s 133ms/step\n",
            "1/1 [==============================] - 0s 131ms/step\n",
            "1/1 [==============================] - 0s 122ms/step\n",
            "1/1 [==============================] - 0s 126ms/step\n",
            "1/1 [==============================] - 0s 126ms/step\n",
            "1/1 [==============================] - 0s 131ms/step\n",
            "1/1 [==============================] - 0s 131ms/step\n",
            "1/1 [==============================] - 0s 122ms/step\n",
            "1/1 [==============================] - 0s 129ms/step\n",
            "1/1 [==============================] - 0s 124ms/step\n",
            "1/1 [==============================] - 0s 129ms/step\n",
            "1/1 [==============================] - 0s 118ms/step\n",
            "1/1 [==============================] - 0s 109ms/step\n",
            "1/1 [==============================] - 0s 96ms/step\n",
            "1/1 [==============================] - 0s 42ms/step\n",
            "263/263 [==============================] - 71s 269ms/step\n",
            "2.9484541e-05 0.9875479 0.99806386\n",
            "\n",
            " Epoch 3/50\n",
            "1/1 [==============================] - 0s 232ms/step\n",
            "1/1 [==============================] - 0s 132ms/step\n",
            "1/1 [==============================] - 0s 127ms/step\n",
            "1/1 [==============================] - 0s 103ms/step\n",
            "1/1 [==============================] - 0s 103ms/step\n",
            "1/1 [==============================] - 0s 116ms/step\n",
            "1/1 [==============================] - 0s 101ms/step\n",
            "1/1 [==============================] - 0s 114ms/step\n",
            "1/1 [==============================] - 0s 116ms/step\n",
            "1/1 [==============================] - 0s 111ms/step\n",
            "1/1 [==============================] - 0s 106ms/step\n",
            "1/1 [==============================] - 0s 97ms/step\n",
            "1/1 [==============================] - 0s 112ms/step\n",
            "1/1 [==============================] - 0s 112ms/step\n",
            "1/1 [==============================] - 0s 107ms/step\n",
            "1/1 [==============================] - 0s 115ms/step\n",
            "1/1 [==============================] - 0s 124ms/step\n",
            "1/1 [==============================] - 0s 128ms/step\n",
            "1/1 [==============================] - 0s 120ms/step\n",
            "1/1 [==============================] - 0s 128ms/step\n",
            "1/1 [==============================] - 0s 124ms/step\n",
            "1/1 [==============================] - 0s 126ms/step\n",
            "1/1 [==============================] - 0s 122ms/step\n",
            "1/1 [==============================] - 0s 131ms/step\n",
            "1/1 [==============================] - 0s 129ms/step\n",
            "1/1 [==============================] - 0s 118ms/step\n",
            "1/1 [==============================] - 0s 120ms/step\n",
            "1/1 [==============================] - 0s 126ms/step\n",
            "1/1 [==============================] - 0s 124ms/step\n",
            "1/1 [==============================] - 0s 127ms/step\n",
            "1/1 [==============================] - 0s 122ms/step\n",
            "1/1 [==============================] - 0s 127ms/step\n",
            "1/1 [==============================] - 0s 126ms/step\n",
            "1/1 [==============================] - 0s 124ms/step\n",
            "1/1 [==============================] - 0s 124ms/step\n",
            "1/1 [==============================] - 0s 122ms/step\n",
            "1/1 [==============================] - 0s 131ms/step\n",
            "1/1 [==============================] - 0s 127ms/step\n",
            "1/1 [==============================] - 0s 129ms/step\n",
            "1/1 [==============================] - 0s 128ms/step\n",
            "1/1 [==============================] - 0s 125ms/step\n",
            "1/1 [==============================] - 0s 129ms/step\n",
            "1/1 [==============================] - 0s 128ms/step\n",
            "1/1 [==============================] - 0s 122ms/step\n",
            "1/1 [==============================] - 0s 125ms/step\n",
            "1/1 [==============================] - 0s 128ms/step\n",
            "1/1 [==============================] - 0s 126ms/step\n",
            "1/1 [==============================] - 0s 131ms/step\n",
            "1/1 [==============================] - 0s 122ms/step\n",
            "1/1 [==============================] - 0s 134ms/step\n",
            "1/1 [==============================] - 0s 133ms/step\n",
            "1/1 [==============================] - 0s 123ms/step\n",
            "1/1 [==============================] - 0s 126ms/step\n",
            "1/1 [==============================] - 0s 129ms/step\n",
            "1/1 [==============================] - 0s 130ms/step\n",
            "1/1 [==============================] - 0s 121ms/step\n",
            "1/1 [==============================] - 0s 111ms/step\n",
            "1/1 [==============================] - 0s 107ms/step\n",
            "1/1 [==============================] - 0s 111ms/step\n",
            "1/1 [==============================] - 0s 107ms/step\n",
            "1/1 [==============================] - 0s 114ms/step\n",
            "1/1 [==============================] - 0s 117ms/step\n",
            "1/1 [==============================] - 0s 109ms/step\n",
            "1/1 [==============================] - 0s 118ms/step\n",
            "1/1 [==============================] - 0s 116ms/step\n",
            "1/1 [==============================] - 0s 115ms/step\n",
            "1/1 [==============================] - 0s 129ms/step\n",
            "1/1 [==============================] - 0s 118ms/step\n",
            "1/1 [==============================] - 0s 130ms/step\n",
            "1/1 [==============================] - 0s 130ms/step\n",
            "1/1 [==============================] - 0s 128ms/step\n",
            "1/1 [==============================] - 0s 131ms/step\n",
            "1/1 [==============================] - 0s 127ms/step\n",
            "1/1 [==============================] - 0s 128ms/step\n",
            "1/1 [==============================] - 0s 131ms/step\n",
            "1/1 [==============================] - 0s 128ms/step\n",
            "1/1 [==============================] - 0s 128ms/step\n",
            "1/1 [==============================] - 0s 130ms/step\n",
            "1/1 [==============================] - 0s 126ms/step\n",
            "1/1 [==============================] - 0s 135ms/step\n",
            "1/1 [==============================] - 0s 127ms/step\n",
            "1/1 [==============================] - 0s 131ms/step\n",
            "1/1 [==============================] - 0s 126ms/step\n",
            "1/1 [==============================] - 0s 129ms/step\n",
            "1/1 [==============================] - 0s 126ms/step\n",
            "1/1 [==============================] - 0s 131ms/step\n",
            "1/1 [==============================] - 0s 134ms/step\n",
            "1/1 [==============================] - 0s 134ms/step\n",
            "1/1 [==============================] - 0s 133ms/step\n",
            "1/1 [==============================] - 0s 132ms/step\n",
            "1/1 [==============================] - 0s 131ms/step\n",
            "1/1 [==============================] - 0s 131ms/step\n",
            "1/1 [==============================] - 0s 28ms/step\n",
            "1/1 [==============================] - 0s 123ms/step\n",
            "1/1 [==============================] - 0s 126ms/step\n",
            "1/1 [==============================] - 0s 130ms/step\n",
            "1/1 [==============================] - 0s 126ms/step\n",
            "1/1 [==============================] - 0s 134ms/step\n",
            "1/1 [==============================] - 0s 125ms/step\n",
            "1/1 [==============================] - 0s 130ms/step\n",
            "1/1 [==============================] - 0s 127ms/step\n",
            "1/1 [==============================] - 0s 118ms/step\n",
            "1/1 [==============================] - 0s 128ms/step\n",
            "1/1 [==============================] - 0s 120ms/step\n",
            "1/1 [==============================] - 0s 104ms/step\n",
            "1/1 [==============================] - 0s 121ms/step\n",
            "1/1 [==============================] - 0s 116ms/step\n",
            "1/1 [==============================] - 0s 116ms/step\n",
            "1/1 [==============================] - 0s 106ms/step\n",
            "1/1 [==============================] - 0s 94ms/step\n",
            "1/1 [==============================] - 0s 106ms/step\n",
            "1/1 [==============================] - 0s 101ms/step\n",
            "1/1 [==============================] - 0s 113ms/step\n",
            "1/1 [==============================] - 0s 110ms/step\n",
            "1/1 [==============================] - 0s 110ms/step\n",
            "1/1 [==============================] - 0s 119ms/step\n",
            "1/1 [==============================] - 0s 128ms/step\n",
            "1/1 [==============================] - 0s 120ms/step\n",
            "1/1 [==============================] - 0s 129ms/step\n",
            "1/1 [==============================] - 0s 125ms/step\n",
            "1/1 [==============================] - 0s 130ms/step\n",
            "1/1 [==============================] - 0s 129ms/step\n",
            "1/1 [==============================] - 0s 130ms/step\n",
            "1/1 [==============================] - 0s 128ms/step\n",
            "1/1 [==============================] - 0s 133ms/step\n",
            "1/1 [==============================] - 0s 121ms/step\n",
            "1/1 [==============================] - 0s 126ms/step\n",
            "1/1 [==============================] - 0s 126ms/step\n",
            "1/1 [==============================] - 0s 131ms/step\n",
            "1/1 [==============================] - 0s 137ms/step\n",
            "1/1 [==============================] - 0s 135ms/step\n",
            "1/1 [==============================] - 0s 133ms/step\n",
            "1/1 [==============================] - 0s 133ms/step\n",
            "1/1 [==============================] - 0s 120ms/step\n",
            "1/1 [==============================] - 0s 128ms/step\n",
            "1/1 [==============================] - 0s 117ms/step\n",
            "1/1 [==============================] - 0s 133ms/step\n",
            "1/1 [==============================] - 0s 127ms/step\n",
            "1/1 [==============================] - 0s 134ms/step\n",
            "1/1 [==============================] - 0s 129ms/step\n",
            "1/1 [==============================] - 0s 128ms/step\n",
            "1/1 [==============================] - 0s 125ms/step\n",
            "1/1 [==============================] - 0s 123ms/step\n",
            "1/1 [==============================] - 0s 136ms/step\n",
            "1/1 [==============================] - 0s 130ms/step\n",
            "1/1 [==============================] - 0s 131ms/step\n",
            "1/1 [==============================] - 0s 131ms/step\n",
            "1/1 [==============================] - 0s 130ms/step\n",
            "1/1 [==============================] - 0s 133ms/step\n",
            "1/1 [==============================] - 0s 129ms/step\n",
            "1/1 [==============================] - 0s 126ms/step\n",
            "1/1 [==============================] - 0s 108ms/step\n",
            "1/1 [==============================] - 0s 113ms/step\n",
            "1/1 [==============================] - 0s 107ms/step\n",
            "1/1 [==============================] - 0s 116ms/step\n",
            "1/1 [==============================] - 0s 111ms/step\n",
            "1/1 [==============================] - 0s 117ms/step\n",
            "1/1 [==============================] - 0s 113ms/step\n",
            "1/1 [==============================] - 0s 110ms/step\n",
            "1/1 [==============================] - 0s 101ms/step\n",
            "1/1 [==============================] - 0s 107ms/step\n",
            "1/1 [==============================] - 0s 119ms/step\n",
            "1/1 [==============================] - 0s 113ms/step\n",
            "1/1 [==============================] - 0s 126ms/step\n",
            "1/1 [==============================] - 0s 130ms/step\n",
            "1/1 [==============================] - 0s 135ms/step\n",
            "1/1 [==============================] - 0s 121ms/step\n",
            "1/1 [==============================] - 0s 119ms/step\n",
            "1/1 [==============================] - 0s 125ms/step\n",
            "1/1 [==============================] - 0s 130ms/step\n",
            "1/1 [==============================] - 0s 128ms/step\n",
            "1/1 [==============================] - 0s 131ms/step\n",
            "1/1 [==============================] - 0s 132ms/step\n",
            "1/1 [==============================] - 0s 129ms/step\n",
            "1/1 [==============================] - 0s 125ms/step\n",
            "1/1 [==============================] - 0s 119ms/step\n",
            "1/1 [==============================] - 0s 121ms/step\n",
            "1/1 [==============================] - 0s 127ms/step\n",
            "1/1 [==============================] - 0s 125ms/step\n",
            "1/1 [==============================] - 0s 125ms/step\n",
            "1/1 [==============================] - 0s 138ms/step\n",
            "1/1 [==============================] - 0s 126ms/step\n",
            "1/1 [==============================] - 0s 126ms/step\n",
            "1/1 [==============================] - 0s 124ms/step\n",
            "1/1 [==============================] - 0s 127ms/step\n",
            "1/1 [==============================] - 0s 121ms/step\n",
            "1/1 [==============================] - 0s 131ms/step\n",
            "1/1 [==============================] - 0s 126ms/step\n",
            "1/1 [==============================] - 0s 128ms/step\n",
            "1/1 [==============================] - 0s 126ms/step\n",
            "1/1 [==============================] - 0s 127ms/step\n",
            "1/1 [==============================] - 0s 121ms/step\n",
            "1/1 [==============================] - 0s 132ms/step\n",
            "1/1 [==============================] - 0s 126ms/step\n",
            "1/1 [==============================] - 0s 129ms/step\n",
            "1/1 [==============================] - 0s 135ms/step\n",
            "1/1 [==============================] - 0s 128ms/step\n",
            "1/1 [==============================] - 0s 125ms/step\n",
            "1/1 [==============================] - 0s 120ms/step\n",
            "1/1 [==============================] - 0s 121ms/step\n",
            "1/1 [==============================] - 0s 105ms/step\n",
            "1/1 [==============================] - 0s 113ms/step\n",
            "1/1 [==============================] - 0s 116ms/step\n",
            "1/1 [==============================] - 0s 108ms/step\n",
            "1/1 [==============================] - 0s 118ms/step\n",
            "1/1 [==============================] - 0s 110ms/step\n",
            "1/1 [==============================] - 0s 113ms/step\n",
            "1/1 [==============================] - 0s 92ms/step\n",
            "1/1 [==============================] - 0s 110ms/step\n",
            "1/1 [==============================] - 0s 115ms/step\n",
            "1/1 [==============================] - 0s 105ms/step\n",
            "1/1 [==============================] - 0s 110ms/step\n",
            "1/1 [==============================] - 0s 122ms/step\n",
            "1/1 [==============================] - 0s 127ms/step\n",
            "1/1 [==============================] - 0s 130ms/step\n",
            "1/1 [==============================] - 0s 121ms/step\n",
            "1/1 [==============================] - 0s 131ms/step\n",
            "1/1 [==============================] - 0s 121ms/step\n",
            "1/1 [==============================] - 0s 123ms/step\n",
            "1/1 [==============================] - 0s 128ms/step\n",
            "1/1 [==============================] - 0s 128ms/step\n",
            "1/1 [==============================] - 0s 129ms/step\n",
            "1/1 [==============================] - 0s 121ms/step\n",
            "1/1 [==============================] - 0s 126ms/step\n",
            "1/1 [==============================] - 0s 126ms/step\n",
            "1/1 [==============================] - 0s 123ms/step\n",
            "1/1 [==============================] - 0s 120ms/step\n",
            "1/1 [==============================] - 0s 126ms/step\n",
            "1/1 [==============================] - 0s 123ms/step\n",
            "1/1 [==============================] - 0s 134ms/step\n",
            "1/1 [==============================] - 0s 128ms/step\n",
            "1/1 [==============================] - 0s 117ms/step\n",
            "1/1 [==============================] - 0s 128ms/step\n",
            "1/1 [==============================] - 0s 123ms/step\n",
            "1/1 [==============================] - 0s 118ms/step\n",
            "1/1 [==============================] - 0s 125ms/step\n",
            "1/1 [==============================] - 0s 124ms/step\n",
            "1/1 [==============================] - 0s 129ms/step\n",
            "1/1 [==============================] - 0s 130ms/step\n",
            "1/1 [==============================] - 0s 120ms/step\n",
            "1/1 [==============================] - 0s 120ms/step\n",
            "1/1 [==============================] - 0s 124ms/step\n",
            "1/1 [==============================] - 0s 114ms/step\n",
            "1/1 [==============================] - 0s 122ms/step\n",
            "1/1 [==============================] - 0s 125ms/step\n",
            "1/1 [==============================] - 0s 126ms/step\n",
            "1/1 [==============================] - 0s 124ms/step\n",
            "1/1 [==============================] - 0s 129ms/step\n",
            "1/1 [==============================] - 0s 116ms/step\n",
            "1/1 [==============================] - 0s 128ms/step\n",
            "1/1 [==============================] - 0s 124ms/step\n",
            "1/1 [==============================] - 0s 110ms/step\n",
            "1/1 [==============================] - 0s 115ms/step\n",
            "1/1 [==============================] - 0s 107ms/step\n",
            "1/1 [==============================] - 0s 102ms/step\n",
            "1/1 [==============================] - 0s 110ms/step\n",
            "1/1 [==============================] - 0s 103ms/step\n",
            "1/1 [==============================] - 0s 110ms/step\n",
            "1/1 [==============================] - 0s 113ms/step\n",
            "1/1 [==============================] - 0s 111ms/step\n",
            "1/1 [==============================] - 0s 104ms/step\n",
            "1/1 [==============================] - 0s 112ms/step\n",
            "1/1 [==============================] - 0s 41ms/step\n",
            "263/263 [==============================] - 71s 270ms/step\n",
            "0.010931693 0.9910546 0.9995252\n",
            "\n",
            " Epoch 4/50\n",
            "1/1 [==============================] - 0s 176ms/step\n",
            "1/1 [==============================] - 0s 97ms/step\n",
            "1/1 [==============================] - 0s 106ms/step\n",
            "1/1 [==============================] - 0s 109ms/step\n",
            "1/1 [==============================] - 0s 105ms/step\n",
            "1/1 [==============================] - 0s 109ms/step\n",
            "1/1 [==============================] - 0s 107ms/step\n",
            "1/1 [==============================] - 0s 112ms/step\n",
            "1/1 [==============================] - 0s 110ms/step\n",
            "1/1 [==============================] - 0s 96ms/step\n",
            "1/1 [==============================] - 0s 110ms/step\n",
            "1/1 [==============================] - 0s 120ms/step\n",
            "1/1 [==============================] - 0s 125ms/step\n",
            "1/1 [==============================] - 0s 121ms/step\n",
            "1/1 [==============================] - 0s 118ms/step\n",
            "1/1 [==============================] - 0s 126ms/step\n",
            "1/1 [==============================] - 0s 120ms/step\n",
            "1/1 [==============================] - 0s 118ms/step\n",
            "1/1 [==============================] - 0s 122ms/step\n",
            "1/1 [==============================] - 0s 125ms/step\n",
            "1/1 [==============================] - 0s 123ms/step\n",
            "1/1 [==============================] - 0s 127ms/step\n",
            "1/1 [==============================] - 0s 123ms/step\n",
            "1/1 [==============================] - 0s 124ms/step\n",
            "1/1 [==============================] - 0s 122ms/step\n",
            "1/1 [==============================] - 0s 112ms/step\n",
            "1/1 [==============================] - 0s 121ms/step\n",
            " 27/263 [==>...........................] - ETA: 59s"
          ]
        },
        {
          "output_type": "error",
          "ename": "KeyboardInterrupt",
          "evalue": "ignored",
          "traceback": [
            "\u001b[0;31m---------------------------------------------------------------------------\u001b[0m",
            "\u001b[0;31mKeyboardInterrupt\u001b[0m                         Traceback (most recent call last)",
            "\u001b[0;32m<ipython-input-71-c22ce52f7b33>\u001b[0m in \u001b[0;36m<cell line: 1>\u001b[0;34m()\u001b[0m\n\u001b[0;32m----> 1\u001b[0;31m \u001b[0mtrain\u001b[0m\u001b[0;34m(\u001b[0m\u001b[0mtrain_data\u001b[0m\u001b[0;34m,\u001b[0m\u001b[0mEPOCHS\u001b[0m\u001b[0;34m)\u001b[0m\u001b[0;34m\u001b[0m\u001b[0;34m\u001b[0m\u001b[0m\n\u001b[0m",
            "\u001b[0;32m<ipython-input-68-7da85204fd51>\u001b[0m in \u001b[0;36mtrain\u001b[0;34m(data, EPOCHS)\u001b[0m\n\u001b[1;32m     13\u001b[0m             \u001b[0;31m# Run train step here\u001b[0m\u001b[0;34m\u001b[0m\u001b[0;34m\u001b[0m\u001b[0m\n\u001b[1;32m     14\u001b[0m             \u001b[0mloss\u001b[0m \u001b[0;34m=\u001b[0m \u001b[0mtrain_step\u001b[0m\u001b[0;34m(\u001b[0m\u001b[0mbatch\u001b[0m\u001b[0;34m)\u001b[0m\u001b[0;34m\u001b[0m\u001b[0;34m\u001b[0m\u001b[0m\n\u001b[0;32m---> 15\u001b[0;31m             \u001b[0myhat\u001b[0m \u001b[0;34m=\u001b[0m \u001b[0msiamese_model\u001b[0m\u001b[0;34m.\u001b[0m\u001b[0mpredict\u001b[0m\u001b[0;34m(\u001b[0m\u001b[0mbatch\u001b[0m\u001b[0;34m[\u001b[0m\u001b[0;34m:\u001b[0m\u001b[0;36m2\u001b[0m\u001b[0;34m]\u001b[0m\u001b[0;34m)\u001b[0m\u001b[0;34m\u001b[0m\u001b[0;34m\u001b[0m\u001b[0m\n\u001b[0m\u001b[1;32m     16\u001b[0m             \u001b[0mr\u001b[0m\u001b[0;34m.\u001b[0m\u001b[0mupdate_state\u001b[0m\u001b[0;34m(\u001b[0m\u001b[0mbatch\u001b[0m\u001b[0;34m[\u001b[0m\u001b[0;36m2\u001b[0m\u001b[0;34m]\u001b[0m\u001b[0;34m,\u001b[0m \u001b[0myhat\u001b[0m\u001b[0;34m)\u001b[0m\u001b[0;34m\u001b[0m\u001b[0;34m\u001b[0m\u001b[0m\n\u001b[1;32m     17\u001b[0m             \u001b[0mp\u001b[0m\u001b[0;34m.\u001b[0m\u001b[0mupdate_state\u001b[0m\u001b[0;34m(\u001b[0m\u001b[0mbatch\u001b[0m\u001b[0;34m[\u001b[0m\u001b[0;36m2\u001b[0m\u001b[0;34m]\u001b[0m\u001b[0;34m,\u001b[0m \u001b[0myhat\u001b[0m\u001b[0;34m)\u001b[0m\u001b[0;34m\u001b[0m\u001b[0;34m\u001b[0m\u001b[0m\n",
            "\u001b[0;32m/usr/local/lib/python3.10/dist-packages/keras/utils/traceback_utils.py\u001b[0m in \u001b[0;36merror_handler\u001b[0;34m(*args, **kwargs)\u001b[0m\n\u001b[1;32m     63\u001b[0m         \u001b[0mfiltered_tb\u001b[0m \u001b[0;34m=\u001b[0m \u001b[0;32mNone\u001b[0m\u001b[0;34m\u001b[0m\u001b[0;34m\u001b[0m\u001b[0m\n\u001b[1;32m     64\u001b[0m         \u001b[0;32mtry\u001b[0m\u001b[0;34m:\u001b[0m\u001b[0;34m\u001b[0m\u001b[0;34m\u001b[0m\u001b[0m\n\u001b[0;32m---> 65\u001b[0;31m             \u001b[0;32mreturn\u001b[0m \u001b[0mfn\u001b[0m\u001b[0;34m(\u001b[0m\u001b[0;34m*\u001b[0m\u001b[0margs\u001b[0m\u001b[0;34m,\u001b[0m \u001b[0;34m**\u001b[0m\u001b[0mkwargs\u001b[0m\u001b[0;34m)\u001b[0m\u001b[0;34m\u001b[0m\u001b[0;34m\u001b[0m\u001b[0m\n\u001b[0m\u001b[1;32m     66\u001b[0m         \u001b[0;32mexcept\u001b[0m \u001b[0mException\u001b[0m \u001b[0;32mas\u001b[0m \u001b[0me\u001b[0m\u001b[0;34m:\u001b[0m\u001b[0;34m\u001b[0m\u001b[0;34m\u001b[0m\u001b[0m\n\u001b[1;32m     67\u001b[0m             \u001b[0mfiltered_tb\u001b[0m \u001b[0;34m=\u001b[0m \u001b[0m_process_traceback_frames\u001b[0m\u001b[0;34m(\u001b[0m\u001b[0me\u001b[0m\u001b[0;34m.\u001b[0m\u001b[0m__traceback__\u001b[0m\u001b[0;34m)\u001b[0m\u001b[0;34m\u001b[0m\u001b[0;34m\u001b[0m\u001b[0m\n",
            "\u001b[0;32m/usr/local/lib/python3.10/dist-packages/keras/engine/training.py\u001b[0m in \u001b[0;36mpredict\u001b[0;34m(self, x, batch_size, verbose, steps, callbacks, max_queue_size, workers, use_multiprocessing)\u001b[0m\n\u001b[1;32m   2376\u001b[0m             \u001b[0mcallbacks\u001b[0m\u001b[0;34m.\u001b[0m\u001b[0mon_predict_begin\u001b[0m\u001b[0;34m(\u001b[0m\u001b[0;34m)\u001b[0m\u001b[0;34m\u001b[0m\u001b[0;34m\u001b[0m\u001b[0m\n\u001b[1;32m   2377\u001b[0m             \u001b[0mbatch_outputs\u001b[0m \u001b[0;34m=\u001b[0m \u001b[0;32mNone\u001b[0m\u001b[0;34m\u001b[0m\u001b[0;34m\u001b[0m\u001b[0m\n\u001b[0;32m-> 2378\u001b[0;31m             \u001b[0;32mfor\u001b[0m \u001b[0m_\u001b[0m\u001b[0;34m,\u001b[0m \u001b[0miterator\u001b[0m \u001b[0;32min\u001b[0m \u001b[0mdata_handler\u001b[0m\u001b[0;34m.\u001b[0m\u001b[0menumerate_epochs\u001b[0m\u001b[0;34m(\u001b[0m\u001b[0;34m)\u001b[0m\u001b[0;34m:\u001b[0m  \u001b[0;31m# Single epoch.\u001b[0m\u001b[0;34m\u001b[0m\u001b[0;34m\u001b[0m\u001b[0m\n\u001b[0m\u001b[1;32m   2379\u001b[0m                 \u001b[0;32mwith\u001b[0m \u001b[0mdata_handler\u001b[0m\u001b[0;34m.\u001b[0m\u001b[0mcatch_stop_iteration\u001b[0m\u001b[0;34m(\u001b[0m\u001b[0;34m)\u001b[0m\u001b[0;34m:\u001b[0m\u001b[0;34m\u001b[0m\u001b[0;34m\u001b[0m\u001b[0m\n\u001b[1;32m   2380\u001b[0m                     \u001b[0;32mfor\u001b[0m \u001b[0mstep\u001b[0m \u001b[0;32min\u001b[0m \u001b[0mdata_handler\u001b[0m\u001b[0;34m.\u001b[0m\u001b[0msteps\u001b[0m\u001b[0;34m(\u001b[0m\u001b[0;34m)\u001b[0m\u001b[0;34m:\u001b[0m\u001b[0;34m\u001b[0m\u001b[0;34m\u001b[0m\u001b[0m\n",
            "\u001b[0;32m/usr/local/lib/python3.10/dist-packages/keras/engine/data_adapter.py\u001b[0m in \u001b[0;36menumerate_epochs\u001b[0;34m(self)\u001b[0m\n\u001b[1;32m   1303\u001b[0m         \u001b[0;34m\"\"\"Yields `(epoch, tf.data.Iterator)`.\"\"\"\u001b[0m\u001b[0;34m\u001b[0m\u001b[0;34m\u001b[0m\u001b[0m\n\u001b[1;32m   1304\u001b[0m         \u001b[0;32mwith\u001b[0m \u001b[0mself\u001b[0m\u001b[0;34m.\u001b[0m\u001b[0m_truncate_execution_to_epoch\u001b[0m\u001b[0;34m(\u001b[0m\u001b[0;34m)\u001b[0m\u001b[0;34m:\u001b[0m\u001b[0;34m\u001b[0m\u001b[0;34m\u001b[0m\u001b[0m\n\u001b[0;32m-> 1305\u001b[0;31m             \u001b[0mdata_iterator\u001b[0m \u001b[0;34m=\u001b[0m \u001b[0miter\u001b[0m\u001b[0;34m(\u001b[0m\u001b[0mself\u001b[0m\u001b[0;34m.\u001b[0m\u001b[0m_dataset\u001b[0m\u001b[0;34m)\u001b[0m\u001b[0;34m\u001b[0m\u001b[0;34m\u001b[0m\u001b[0m\n\u001b[0m\u001b[1;32m   1306\u001b[0m             \u001b[0;32mfor\u001b[0m \u001b[0mepoch\u001b[0m \u001b[0;32min\u001b[0m \u001b[0mrange\u001b[0m\u001b[0;34m(\u001b[0m\u001b[0mself\u001b[0m\u001b[0;34m.\u001b[0m\u001b[0m_initial_epoch\u001b[0m\u001b[0;34m,\u001b[0m \u001b[0mself\u001b[0m\u001b[0;34m.\u001b[0m\u001b[0m_epochs\u001b[0m\u001b[0;34m)\u001b[0m\u001b[0;34m:\u001b[0m\u001b[0;34m\u001b[0m\u001b[0;34m\u001b[0m\u001b[0m\n\u001b[1;32m   1307\u001b[0m                 \u001b[0;32mif\u001b[0m \u001b[0mself\u001b[0m\u001b[0;34m.\u001b[0m\u001b[0m_insufficient_data\u001b[0m\u001b[0;34m:\u001b[0m  \u001b[0;31m# Set by `catch_stop_iteration`.\u001b[0m\u001b[0;34m\u001b[0m\u001b[0;34m\u001b[0m\u001b[0m\n",
            "\u001b[0;32m/usr/local/lib/python3.10/dist-packages/tensorflow/python/data/ops/dataset_ops.py\u001b[0m in \u001b[0;36m__iter__\u001b[0;34m(self)\u001b[0m\n\u001b[1;32m    503\u001b[0m     \u001b[0;32mif\u001b[0m \u001b[0mcontext\u001b[0m\u001b[0;34m.\u001b[0m\u001b[0mexecuting_eagerly\u001b[0m\u001b[0;34m(\u001b[0m\u001b[0;34m)\u001b[0m \u001b[0;32mor\u001b[0m \u001b[0mops\u001b[0m\u001b[0;34m.\u001b[0m\u001b[0minside_function\u001b[0m\u001b[0;34m(\u001b[0m\u001b[0;34m)\u001b[0m\u001b[0;34m:\u001b[0m\u001b[0;34m\u001b[0m\u001b[0;34m\u001b[0m\u001b[0m\n\u001b[1;32m    504\u001b[0m       \u001b[0;32mwith\u001b[0m \u001b[0mops\u001b[0m\u001b[0;34m.\u001b[0m\u001b[0mcolocate_with\u001b[0m\u001b[0;34m(\u001b[0m\u001b[0mself\u001b[0m\u001b[0;34m.\u001b[0m\u001b[0m_variant_tensor\u001b[0m\u001b[0;34m)\u001b[0m\u001b[0;34m:\u001b[0m\u001b[0;34m\u001b[0m\u001b[0;34m\u001b[0m\u001b[0m\n\u001b[0;32m--> 505\u001b[0;31m         \u001b[0;32mreturn\u001b[0m \u001b[0miterator_ops\u001b[0m\u001b[0;34m.\u001b[0m\u001b[0mOwnedIterator\u001b[0m\u001b[0;34m(\u001b[0m\u001b[0mself\u001b[0m\u001b[0;34m)\u001b[0m\u001b[0;34m\u001b[0m\u001b[0;34m\u001b[0m\u001b[0m\n\u001b[0m\u001b[1;32m    506\u001b[0m     \u001b[0;32melse\u001b[0m\u001b[0;34m:\u001b[0m\u001b[0;34m\u001b[0m\u001b[0;34m\u001b[0m\u001b[0m\n\u001b[1;32m    507\u001b[0m       raise RuntimeError(\"`tf.data.Dataset` only supports Python-style \"\n",
            "\u001b[0;32m/usr/local/lib/python3.10/dist-packages/tensorflow/python/data/ops/iterator_ops.py\u001b[0m in \u001b[0;36m__init__\u001b[0;34m(self, dataset, components, element_spec)\u001b[0m\n\u001b[1;32m    711\u001b[0m             \u001b[0;34m\"When `dataset` is provided, `element_spec` and `components` must \"\u001b[0m\u001b[0;34m\u001b[0m\u001b[0;34m\u001b[0m\u001b[0m\n\u001b[1;32m    712\u001b[0m             \"not be specified.\")\n\u001b[0;32m--> 713\u001b[0;31m       \u001b[0mself\u001b[0m\u001b[0;34m.\u001b[0m\u001b[0m_create_iterator\u001b[0m\u001b[0;34m(\u001b[0m\u001b[0mdataset\u001b[0m\u001b[0;34m)\u001b[0m\u001b[0;34m\u001b[0m\u001b[0;34m\u001b[0m\u001b[0m\n\u001b[0m\u001b[1;32m    714\u001b[0m \u001b[0;34m\u001b[0m\u001b[0m\n\u001b[1;32m    715\u001b[0m     \u001b[0mself\u001b[0m\u001b[0;34m.\u001b[0m\u001b[0m_get_next_call_count\u001b[0m \u001b[0;34m=\u001b[0m \u001b[0;36m0\u001b[0m\u001b[0;34m\u001b[0m\u001b[0;34m\u001b[0m\u001b[0m\n",
            "\u001b[0;32m/usr/local/lib/python3.10/dist-packages/tensorflow/python/data/ops/iterator_ops.py\u001b[0m in \u001b[0;36m_create_iterator\u001b[0;34m(self, dataset)\u001b[0m\n\u001b[1;32m    750\u001b[0m             self._flat_output_types)\n\u001b[1;32m    751\u001b[0m         \u001b[0mself\u001b[0m\u001b[0;34m.\u001b[0m\u001b[0m_iterator_resource\u001b[0m\u001b[0;34m.\u001b[0m\u001b[0mop\u001b[0m\u001b[0;34m.\u001b[0m\u001b[0mexperimental_set_type\u001b[0m\u001b[0;34m(\u001b[0m\u001b[0mfulltype\u001b[0m\u001b[0;34m)\u001b[0m\u001b[0;34m\u001b[0m\u001b[0;34m\u001b[0m\u001b[0m\n\u001b[0;32m--> 752\u001b[0;31m       \u001b[0mgen_dataset_ops\u001b[0m\u001b[0;34m.\u001b[0m\u001b[0mmake_iterator\u001b[0m\u001b[0;34m(\u001b[0m\u001b[0mds_variant\u001b[0m\u001b[0;34m,\u001b[0m \u001b[0mself\u001b[0m\u001b[0;34m.\u001b[0m\u001b[0m_iterator_resource\u001b[0m\u001b[0;34m)\u001b[0m\u001b[0;34m\u001b[0m\u001b[0;34m\u001b[0m\u001b[0m\n\u001b[0m\u001b[1;32m    753\u001b[0m \u001b[0;34m\u001b[0m\u001b[0m\n\u001b[1;32m    754\u001b[0m   \u001b[0;32mdef\u001b[0m \u001b[0m__iter__\u001b[0m\u001b[0;34m(\u001b[0m\u001b[0mself\u001b[0m\u001b[0;34m)\u001b[0m\u001b[0;34m:\u001b[0m\u001b[0;34m\u001b[0m\u001b[0;34m\u001b[0m\u001b[0m\n",
            "\u001b[0;32m/usr/local/lib/python3.10/dist-packages/tensorflow/python/ops/gen_dataset_ops.py\u001b[0m in \u001b[0;36mmake_iterator\u001b[0;34m(dataset, iterator, name)\u001b[0m\n\u001b[1;32m   3406\u001b[0m   \u001b[0;32mif\u001b[0m \u001b[0mtld\u001b[0m\u001b[0;34m.\u001b[0m\u001b[0mis_eager\u001b[0m\u001b[0;34m:\u001b[0m\u001b[0;34m\u001b[0m\u001b[0;34m\u001b[0m\u001b[0m\n\u001b[1;32m   3407\u001b[0m     \u001b[0;32mtry\u001b[0m\u001b[0;34m:\u001b[0m\u001b[0;34m\u001b[0m\u001b[0;34m\u001b[0m\u001b[0m\n\u001b[0;32m-> 3408\u001b[0;31m       _result = pywrap_tfe.TFE_Py_FastPathExecute(\n\u001b[0m\u001b[1;32m   3409\u001b[0m         _ctx, \"MakeIterator\", name, dataset, iterator)\n\u001b[1;32m   3410\u001b[0m       \u001b[0;32mreturn\u001b[0m \u001b[0m_result\u001b[0m\u001b[0;34m\u001b[0m\u001b[0;34m\u001b[0m\u001b[0m\n",
            "\u001b[0;31mKeyboardInterrupt\u001b[0m: "
          ]
        }
      ]
    },
    {
      "cell_type": "markdown",
      "source": [
        "# 6. Evaluate Model"
      ],
      "metadata": {
        "id": "hPqaYG4gXnuq"
      }
    },
    {
      "cell_type": "markdown",
      "source": [
        "## 6.1 Make Predictions"
      ],
      "metadata": {
        "id": "MM6PTGqoZ0UY"
      }
    },
    {
      "cell_type": "code",
      "source": [
        "# Get a batch of test data\n",
        "test_input, test_val, y_true = test_data.as_numpy_iterator().next()"
      ],
      "metadata": {
        "id": "vx05XgZWZ3aX"
      },
      "execution_count": null,
      "outputs": []
    },
    {
      "cell_type": "code",
      "source": [
        "# Make predictions\n",
        "y_hat = siamese_model.predict([test_input, test_val])\n",
        "y_hat"
      ],
      "metadata": {
        "colab": {
          "base_uri": "https://localhost:8080/"
        },
        "id": "GU0eQnwaaQaT",
        "outputId": "6ecbf31d-8289-43b4-cf62-a04af540ca0b"
      },
      "execution_count": null,
      "outputs": [
        {
          "output_type": "stream",
          "name": "stdout",
          "text": [
            "1/1 [==============================] - 0s 26ms/step\n"
          ]
        },
        {
          "output_type": "execute_result",
          "data": {
            "text/plain": [
              "array([[1.2316697e-06],\n",
              "       [6.5005997e-07],\n",
              "       [1.0000000e+00],\n",
              "       [9.9996662e-01],\n",
              "       [3.0095293e-07],\n",
              "       [9.9999952e-01],\n",
              "       [9.9514246e-01],\n",
              "       [5.0682183e-07],\n",
              "       [9.9988186e-01],\n",
              "       [9.9996686e-01],\n",
              "       [9.8874342e-01],\n",
              "       [2.8852710e-07],\n",
              "       [9.9998641e-01],\n",
              "       [1.0000000e+00],\n",
              "       [9.9999785e-01],\n",
              "       [3.7469309e-07]], dtype=float32)"
            ]
          },
          "metadata": {},
          "execution_count": 73
        }
      ]
    },
    {
      "cell_type": "code",
      "source": [
        "# Post processing the results\n",
        "[1 if prediction > 0.5 else 0 for prediction in y_hat ]"
      ],
      "metadata": {
        "colab": {
          "base_uri": "https://localhost:8080/"
        },
        "id": "dUcpW5mzakkX",
        "outputId": "e96f31e7-03c6-41c3-9aa9-43009ec44915"
      },
      "execution_count": null,
      "outputs": [
        {
          "output_type": "execute_result",
          "data": {
            "text/plain": [
              "[0, 0, 1, 1, 0, 1, 1, 0, 1, 1, 1, 0, 1, 1, 1, 0]"
            ]
          },
          "metadata": {},
          "execution_count": 74
        }
      ]
    },
    {
      "cell_type": "code",
      "source": [
        "y_true"
      ],
      "metadata": {
        "colab": {
          "base_uri": "https://localhost:8080/"
        },
        "id": "_sp-T0LAantb",
        "outputId": "5862b72b-e618-4b95-baf9-dad1323fe5cf"
      },
      "execution_count": null,
      "outputs": [
        {
          "output_type": "execute_result",
          "data": {
            "text/plain": [
              "array([0., 0., 1., 1., 0., 1., 1., 0., 1., 1., 1., 0., 1., 1., 1., 0.],\n",
              "      dtype=float32)"
            ]
          },
          "metadata": {},
          "execution_count": 75
        }
      ]
    },
    {
      "cell_type": "markdown",
      "source": [
        "## 6.2 Calculate Metrics"
      ],
      "metadata": {
        "id": "XGislwM9aolo"
      }
    },
    {
      "cell_type": "code",
      "source": [
        "# Creating a metric object\n",
        "m = Recall()\n",
        "\n",
        "# Calculating the recall value\n",
        "m.update_state(y_true, y_hat)\n",
        "\n",
        "# Return Recall Result\n",
        "m.result().numpy()"
      ],
      "metadata": {
        "colab": {
          "base_uri": "https://localhost:8080/"
        },
        "id": "-77G-IdmarD6",
        "outputId": "0a23efa1-ab0a-4717-ae9d-37430183b67e"
      },
      "execution_count": null,
      "outputs": [
        {
          "output_type": "execute_result",
          "data": {
            "text/plain": [
              "1.0"
            ]
          },
          "metadata": {},
          "execution_count": 76
        }
      ]
    },
    {
      "cell_type": "code",
      "source": [
        "# Creating a metric object\n",
        "m = Precision()\n",
        "\n",
        "# Calculating the precision value\n",
        "m.update_state(y_true, y_hat)\n",
        "\n",
        "# Return Precision Result\n",
        "m.result().numpy()"
      ],
      "metadata": {
        "colab": {
          "base_uri": "https://localhost:8080/"
        },
        "id": "lRm-Je9OawjB",
        "outputId": "981d4491-a966-4c00-dd05-0db59f4b7a7f"
      },
      "execution_count": null,
      "outputs": [
        {
          "output_type": "execute_result",
          "data": {
            "text/plain": [
              "1.0"
            ]
          },
          "metadata": {},
          "execution_count": 77
        }
      ]
    },
    {
      "cell_type": "code",
      "source": [
        "r = Recall()\n",
        "p = Precision()\n",
        "\n",
        "for test_input, test_val, y_true in test_data.as_numpy_iterator():\n",
        "    yhat = siamese_model.predict([test_input, test_val])\n",
        "    r.update_state(y_true, yhat)\n",
        "    p.update_state(y_true,yhat)\n",
        "\n",
        "print(r.result().numpy(), p.result().numpy())"
      ],
      "metadata": {
        "colab": {
          "base_uri": "https://localhost:8080/"
        },
        "id": "dMle_Tf6odcz",
        "outputId": "6eca9e2d-1cc1-4d43-f645-bd20aba7e1e2"
      },
      "execution_count": null,
      "outputs": [
        {
          "output_type": "stream",
          "name": "stdout",
          "text": [
            "1/1 [==============================] - 0s 54ms/step\n",
            "1/1 [==============================] - 0s 87ms/step\n",
            "1/1 [==============================] - 0s 39ms/step\n",
            "1/1 [==============================] - 0s 25ms/step\n",
            "1/1 [==============================] - 0s 22ms/step\n",
            "1/1 [==============================] - 0s 27ms/step\n",
            "1/1 [==============================] - 0s 21ms/step\n",
            "1/1 [==============================] - 0s 28ms/step\n",
            "1/1 [==============================] - 0s 22ms/step\n",
            "1/1 [==============================] - 0s 21ms/step\n",
            "1/1 [==============================] - 0s 22ms/step\n",
            "1/1 [==============================] - 0s 25ms/step\n",
            "1/1 [==============================] - 0s 25ms/step\n",
            "1/1 [==============================] - 0s 22ms/step\n",
            "1/1 [==============================] - 0s 22ms/step\n",
            "1/1 [==============================] - 0s 22ms/step\n",
            "1/1 [==============================] - 0s 24ms/step\n",
            "1/1 [==============================] - 0s 22ms/step\n",
            "1/1 [==============================] - 0s 21ms/step\n",
            "1/1 [==============================] - 0s 21ms/step\n",
            "1/1 [==============================] - 0s 23ms/step\n",
            "1/1 [==============================] - 0s 30ms/step\n",
            "1/1 [==============================] - 0s 21ms/step\n",
            "1/1 [==============================] - 0s 24ms/step\n",
            "1/1 [==============================] - 0s 21ms/step\n",
            "1/1 [==============================] - 0s 23ms/step\n",
            "1/1 [==============================] - 0s 25ms/step\n",
            "1/1 [==============================] - 0s 26ms/step\n",
            "1/1 [==============================] - 0s 25ms/step\n",
            "1/1 [==============================] - 0s 23ms/step\n",
            "1/1 [==============================] - 0s 24ms/step\n",
            "1/1 [==============================] - 0s 23ms/step\n",
            "1/1 [==============================] - 0s 27ms/step\n",
            "1/1 [==============================] - 0s 27ms/step\n",
            "1/1 [==============================] - 0s 23ms/step\n",
            "1/1 [==============================] - 0s 22ms/step\n",
            "1/1 [==============================] - 0s 22ms/step\n",
            "1/1 [==============================] - 0s 27ms/step\n",
            "1/1 [==============================] - 0s 28ms/step\n",
            "1/1 [==============================] - 0s 24ms/step\n",
            "1/1 [==============================] - 0s 23ms/step\n",
            "1/1 [==============================] - 0s 25ms/step\n",
            "1/1 [==============================] - 0s 38ms/step\n",
            "1/1 [==============================] - 0s 32ms/step\n",
            "1/1 [==============================] - 0s 33ms/step\n",
            "1/1 [==============================] - 0s 37ms/step\n",
            "1/1 [==============================] - 0s 36ms/step\n",
            "1/1 [==============================] - 0s 39ms/step\n",
            "1/1 [==============================] - 0s 36ms/step\n",
            "1/1 [==============================] - 0s 36ms/step\n",
            "1/1 [==============================] - 0s 36ms/step\n",
            "1/1 [==============================] - 0s 41ms/step\n",
            "1/1 [==============================] - 0s 52ms/step\n",
            "1/1 [==============================] - 0s 38ms/step\n",
            "1/1 [==============================] - 0s 43ms/step\n",
            "1/1 [==============================] - 0s 33ms/step\n",
            "1/1 [==============================] - 0s 36ms/step\n",
            "1/1 [==============================] - 0s 38ms/step\n",
            "1/1 [==============================] - 0s 36ms/step\n",
            "1/1 [==============================] - 0s 42ms/step\n",
            "1/1 [==============================] - 0s 31ms/step\n",
            "1/1 [==============================] - 0s 33ms/step\n",
            "1/1 [==============================] - 0s 34ms/step\n",
            "1/1 [==============================] - 0s 32ms/step\n",
            "1/1 [==============================] - 0s 32ms/step\n",
            "1/1 [==============================] - 0s 36ms/step\n",
            "1/1 [==============================] - 0s 22ms/step\n",
            "1/1 [==============================] - 0s 24ms/step\n",
            "1/1 [==============================] - 0s 21ms/step\n",
            "1/1 [==============================] - 0s 21ms/step\n",
            "1/1 [==============================] - 0s 23ms/step\n",
            "1/1 [==============================] - 0s 23ms/step\n",
            "1/1 [==============================] - 0s 24ms/step\n",
            "1/1 [==============================] - 0s 22ms/step\n",
            "1/1 [==============================] - 0s 23ms/step\n",
            "1/1 [==============================] - 0s 22ms/step\n",
            "1/1 [==============================] - 0s 26ms/step\n",
            "1/1 [==============================] - 0s 21ms/step\n",
            "1/1 [==============================] - 0s 23ms/step\n",
            "1/1 [==============================] - 0s 24ms/step\n",
            "1/1 [==============================] - 0s 23ms/step\n",
            "1/1 [==============================] - 0s 22ms/step\n",
            "1/1 [==============================] - 0s 23ms/step\n",
            "1/1 [==============================] - 0s 22ms/step\n",
            "1/1 [==============================] - 0s 21ms/step\n",
            "1/1 [==============================] - 0s 24ms/step\n",
            "1/1 [==============================] - 0s 23ms/step\n",
            "1/1 [==============================] - 0s 26ms/step\n",
            "1/1 [==============================] - 0s 23ms/step\n",
            "1/1 [==============================] - 0s 30ms/step\n",
            "1/1 [==============================] - 0s 24ms/step\n",
            "1/1 [==============================] - 0s 25ms/step\n",
            "1/1 [==============================] - 0s 23ms/step\n",
            "1/1 [==============================] - 0s 23ms/step\n",
            "1/1 [==============================] - 0s 26ms/step\n",
            "1/1 [==============================] - 0s 23ms/step\n",
            "1/1 [==============================] - 0s 25ms/step\n",
            "1/1 [==============================] - 0s 26ms/step\n",
            "1/1 [==============================] - 0s 23ms/step\n",
            "1/1 [==============================] - 0s 27ms/step\n",
            "1/1 [==============================] - 0s 26ms/step\n",
            "1/1 [==============================] - 0s 25ms/step\n",
            "1/1 [==============================] - 0s 28ms/step\n",
            "1/1 [==============================] - 0s 27ms/step\n",
            "1/1 [==============================] - 0s 24ms/step\n",
            "1/1 [==============================] - 0s 24ms/step\n",
            "1/1 [==============================] - 0s 29ms/step\n",
            "1/1 [==============================] - 0s 22ms/step\n",
            "1/1 [==============================] - 0s 23ms/step\n",
            "1/1 [==============================] - 0s 22ms/step\n",
            "1/1 [==============================] - 0s 24ms/step\n",
            "1/1 [==============================] - 0s 26ms/step\n",
            "1/1 [==============================] - 0s 22ms/step\n",
            "0.99888515 1.0\n"
          ]
        }
      ]
    },
    {
      "cell_type": "markdown",
      "source": [
        "## 6.3 Viz Results"
      ],
      "metadata": {
        "id": "tOMjr_qXa1ji"
      }
    },
    {
      "cell_type": "code",
      "source": [
        "# Set plot size\n",
        "plt.figure(figsize=(10,8))\n",
        "\n",
        "# Set first subplot\n",
        "plt.subplot(1,2,1)\n",
        "plt.imshow(test_input[3])\n",
        "\n",
        "# Set second subplot\n",
        "plt.subplot(1,2,2)\n",
        "plt.imshow(test_val[3])\n",
        "\n",
        "# Renders cleanly\n",
        "plt.show()"
      ],
      "metadata": {
        "colab": {
          "base_uri": "https://localhost:8080/",
          "height": 416
        },
        "id": "co1rCkRPa2cA",
        "outputId": "c2007c2e-6b17-4d13-b4e7-1b076f11cc9e"
      },
      "execution_count": null,
      "outputs": [
        {
          "output_type": "display_data",
          "data": {
            "text/plain": [
              "<Figure size 1000x800 with 2 Axes>"
            ],
            "image/png": "[encoded data removed]"
          },
          "metadata": {}
        }
      ]
    },
    {
      "cell_type": "markdown",
      "source": [
        "# 7. Save Model"
      ],
      "metadata": {
        "id": "BEosSEQPcFq2"
      }
    },
    {
      "cell_type": "code",
      "source": [
        "# Save weights\n",
        "siamese_model.save('siamesemodelv2.h5')"
      ],
      "metadata": {
        "colab": {
          "base_uri": "https://localhost:8080/"
        },
        "id": "96PGk9SBcGuO",
        "outputId": "8579ec9c-2de2-4f1c-8f1b-4aa9e5efb762"
      },
      "execution_count": null,
      "outputs": [
        {
          "output_type": "stream",
          "name": "stderr",
          "text": [
            "WARNING:tensorflow:Compiled the loaded model, but the compiled metrics have yet to be built. `model.compile_metrics` will be empty until you train or evaluate the model.\n"
          ]
        }
      ]
    },
    {
      "cell_type": "code",
      "source": [
        "L1Dist"
      ],
      "metadata": {
        "colab": {
          "base_uri": "https://localhost:8080/"
        },
        "id": "mbsssWefeH_t",
        "outputId": "8a1ae333-b2b8-4038-eb88-bd80900ac70e"
      },
      "execution_count": null,
      "outputs": [
        {
          "output_type": "execute_result",
          "data": {
            "text/plain": [
              "__main__.L1Dist"
            ]
          },
          "metadata": {},
          "execution_count": 81
        }
      ]
    },
    {
      "cell_type": "code",
      "source": [
        "# Reload model\n",
        "model = tf.keras.models.load_model('siamesemodelv2.h5',\n",
        "                                   custom_objects={'L1Dist':L1Dist, 'BinaryCrossentropy':tf.losses.BinaryCrossentropy})"
      ],
      "metadata": {
        "colab": {
          "base_uri": "https://localhost:8080/"
        },
        "id": "SsFPmMhAeQLk",
        "outputId": "37210e04-44a3-4bfc-a733-e4cda8d8e0d7"
      },
      "execution_count": null,
      "outputs": [
        {
          "output_type": "stream",
          "name": "stderr",
          "text": [
            "WARNING:tensorflow:No training configuration found in the save file, so the model was *not* compiled. Compile it manually.\n"
          ]
        }
      ]
    },
    {
      "cell_type": "code",
      "source": [
        "# Make predictions with reloaded model\n",
        "model.predict([test_input, test_val])"
      ],
      "metadata": {
        "colab": {
          "base_uri": "https://localhost:8080/"
        },
        "id": "OwM7-2taeYBm",
        "outputId": "3a413b85-a3a0-4a7b-c60c-dd16eacdb489"
      },
      "execution_count": null,
      "outputs": [
        {
          "output_type": "stream",
          "name": "stdout",
          "text": [
            "1/1 [==============================] - 0s 114ms/step\n"
          ]
        },
        {
          "output_type": "execute_result",
          "data": {
            "text/plain": [
              "array([[9.1377622e-01],\n",
              "       [1.4455010e-05],\n",
              "       [3.1045249e-06],\n",
              "       [4.9712421e-06],\n",
              "       [2.8374874e-08],\n",
              "       [8.2823099e-05],\n",
              "       [1.2174650e-07],\n",
              "       [5.9833013e-07]], dtype=float32)"
            ]
          },
          "metadata": {},
          "execution_count": 83
        }
      ]
    }
  ]
}